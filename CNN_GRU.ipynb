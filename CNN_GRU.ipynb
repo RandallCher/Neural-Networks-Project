{
 "cells": [
  {
   "cell_type": "markdown",
   "metadata": {},
   "source": [
    "# CNN + GRU Model"
   ]
  },
  {
   "cell_type": "markdown",
   "metadata": {},
   "source": [
    "## Import libraries"
   ]
  },
  {
   "cell_type": "code",
   "execution_count": null,
   "metadata": {},
   "outputs": [],
   "source": [
    "import torch\n",
    "from torch import nn\n",
    "import torch.nn.functional as F\n",
    "\n",
    "import numpy as np\n",
    "import pandas as pd\n",
    "\n",
    "from sklearn.model_selection import train_test_split\n",
    "\n",
    "from common_utils import get_dataloaders, setSeeds\n",
    "\n",
    "# Set seed\n",
    "SEED = setSeeds()"
   ]
  },
  {
   "cell_type": "code",
   "execution_count": null,
   "metadata": {},
   "outputs": [],
   "source": [
    "# class GRUModel(nn.Module):\n",
    "#     def __init__(self, input_size, hidden_size, num_layers, numClasses, bidirectional=False):\n",
    "#         super(GRUModel, self).__init__()\n",
    "        \n",
    "#         # Define the GRU layer\n",
    "#         self.gru = nn.GRU(input_size=input_size, \n",
    "#                           hidden_size=hidden_size, \n",
    "#                           num_layers=num_layers, \n",
    "#                           batch_first=True,\n",
    "#                           bidirectional=bidirectional\n",
    "#                           )\n",
    "        \n",
    "#         # Define a fully connected output layer\n",
    "#         self.fc = nn.Linear(hidden_size, numClasses)\n",
    "    \n",
    "#     def forward(self, x):\n",
    "#         # Initialize hidden state for GRU\n",
    "#         h0 = torch.zeros(self.gru.num_layers * (2 if self.gru.bidirectional else 1), x.size(0), self.gru.hidden_size).to(x.device)\n",
    "        \n",
    "#         # Forward propagate through GRU\n",
    "#         outputs, hidden_states = self.gru(x, h0)\n",
    "        \n",
    "#         # Take the output from the last time step\n",
    "#         out = out[:, -1, :]\n",
    "        \n",
    "#         # Pass through the fully connected layer\n",
    "#         out = self.fc(out)\n",
    "#         return out"
   ]
  },
  {
   "cell_type": "code",
   "execution_count": null,
   "metadata": {},
   "outputs": [],
   "source": [
    "class EarlyStopper:\n",
    "    def __init__(self, patience=1, min_delta=0):\n",
    "        self.patience = patience\n",
    "        self.min_delta = min_delta\n",
    "        self.counter = 0\n",
    "        self.min_validation_loss = float('inf')\n",
    "\n",
    "    def early_stop(self, validation_loss):\n",
    "        if validation_loss < self.min_validation_loss:\n",
    "            self.min_validation_loss = validation_loss\n",
    "            self.counter = 0\n",
    "        elif validation_loss > (self.min_validation_loss + self.min_delta):\n",
    "            self.counter += 1\n",
    "            if self.counter >= self.patience:\n",
    "                return True\n",
    "        return False"
   ]
  },
  {
   "cell_type": "markdown",
   "metadata": {},
   "source": [
    "## Dataset"
   ]
  },
  {
   "cell_type": "code",
   "execution_count": null,
   "metadata": {},
   "outputs": [],
   "source": [
    "train_df = pd.read_csv('Heartbeat_Dataset/mitbih_train.csv', header=None)\n",
    "test_df = pd.read_csv('Heartbeat_Dataset/mitbih_test.csv', header=None)"
   ]
  },
  {
   "cell_type": "code",
   "execution_count": null,
   "metadata": {},
   "outputs": [],
   "source": [
    "def get_train_test(train_df, test_df):\n",
    "    # Separate features and labels\n",
    "    X_train = train_df.iloc[:, :-1].values  # Exclude label\n",
    "    y_train = train_df.iloc[:, -1].values   # Labels\n",
    "\n",
    "    X_test = test_df.iloc[:, :-1].values\n",
    "    y_test = test_df.iloc[:, -1].values\n",
    "\n",
    "    return X_train, y_train, X_test, y_test"
   ]
  },
  {
   "cell_type": "code",
   "execution_count": null,
   "metadata": {},
   "outputs": [],
   "source": [
    "X_train, y_train, X_test, y_test = get_train_test(train_df, test_df)\n",
    "\n",
    "# Split the training data to obtain new train and validation sets\n",
    "# Stratifying the split so both train and validation sets have same class distribution\n",
    "X_train_new, X_val, y_train_new, y_val = train_test_split(X_train, y_train, test_size=0.2, random_state=SEED, stratify=y_train)\n",
    "\n",
    "# We add an additional dimension to make it suitable for 1D CNN.\n",
    "X_train = np.expand_dims(X_train, axis=1)  # Change axis from 2 to 1\n",
    "X_val = np.expand_dims(X_val, axis=1)    # Change axis from 2 to 1\n",
    "\n",
    "# Get dataloaders\n",
    "train_loader, val_loader = get_dataloaders(X_train, X_val, y_train, y_val)"
   ]
  },
  {
   "cell_type": "markdown",
   "metadata": {},
   "source": [
    "## Model"
   ]
  },
  {
   "cell_type": "code",
   "execution_count": null,
   "metadata": {},
   "outputs": [],
   "source": [
    "class CNN_GRU(nn.Module):\n",
    "    def __init__(self, num_inputs, num_classes=5):\n",
    "        super(CNN_GRU, self).__init__()\n",
    "\n",
    "        self.conv_layers = nn.Sequential(\n",
    "            nn.Conv1d(in_channels=1, out_channels=64, kernel_size=3),\n",
    "            nn.ReLU(),\n",
    "            nn.MaxPool1d(kernel_size=2),\n",
    "            nn.Conv1d(64, 128, kernel_size=3),\n",
    "            nn.ReLU(),\n",
    "            nn.MaxPool1d(kernel_size=2),\n",
    "            nn.Conv1d(128, 256, kernel_size=3),\n",
    "            nn.ReLU(),\n",
    "            nn.MaxPool1d(kernel_size=2),\n",
    "            nn.Dropout(0.3)\n",
    "        )\n",
    "\n",
    "        self.gru = nn.GRU(input_size=256, hidden_size=64, batch_first=True)\n",
    "        self.fc = nn.Linear(64, num_classes)\n",
    "        \n",
    "        # # Calculate the output size after the convolutional and pooling layers\n",
    "        # self.flatten = nn.Flatten()\n",
    "        # # The input length to the first linear layer needs to be calculated\n",
    "        # self.fc1 = nn.Linear(256 * self._get_conv_output_size(num_inputs), 256)  # Adjust this based on output size\n",
    "        # self.dropout = nn.Dropout(0.5)\n",
    "        # self.fc2 = nn.Linear(256, num_classes)\n",
    "\n",
    "    # def _get_conv_output_size(self, input_length):\n",
    "    #     # Calculate the output length after the conv/pool layers\n",
    "    #     output_length = input_length\n",
    "        \n",
    "    #     # Each Conv1d reduces the length by (kernel_size - 1) on each side, then pooling reduces by half\n",
    "    #     for _ in range(3):  # 3 convolutional layers\n",
    "    #         output_length = (output_length - 2) // 2  # After conv and pooling\n",
    "\n",
    "    #     return output_length\n",
    "\n",
    "    def forward(self, x):\n",
    "        x = self.conv_layers(x)\n",
    "        x = torch.permute(x, (0, 2, 1))\n",
    "\n",
    "        x, hidden_state = self.gru(x)\n",
    "        x = x[:, -1, :]\n",
    "\n",
    "        x = self.fc(x)\n",
    "        \n",
    "        return x"
   ]
  },
  {
   "cell_type": "markdown",
   "metadata": {},
   "source": [
    "## Training"
   ]
  },
  {
   "cell_type": "code",
   "execution_count": null,
   "metadata": {},
   "outputs": [],
   "source": [
    "# Train loop\n",
    "def train(model, optimizer, train_loader, device, criterion=nn.CrossEntropyLoss()):\n",
    "    model.train()\n",
    "\n",
    "    train_correct = 0\n",
    "    train_loss = 0\n",
    "\n",
    "    for X_batch, y_batch in train_loader:\n",
    "        X_batch, y_batch = X_batch.to(device), y_batch.to(device)  # Move data to device\n",
    "        # X_batch = X_batch.unsqueeze(-1) # Dataloader collapses last dimension of 1\n",
    "        \n",
    "        # Forward pass\n",
    "        outputs = model(X_batch)\n",
    "        # print(f'Output {outputs.shape}, y_batch {y_batch.shape}')\n",
    "        loss = criterion(outputs, y_batch.long())\n",
    "        \n",
    "        # Backward pass and optimization\n",
    "        optimizer.zero_grad()  # Clear gradients\n",
    "        loss.backward()        # Backpropagation\n",
    "        optimizer.step()       # Update weights\n",
    "\n",
    "        # Get predictions\n",
    "        _, predicted = torch.max(outputs, 1)\n",
    "        train_correct += (predicted == y_batch).sum().item()\n",
    "        \n",
    "        train_loss += loss.item() * X_batch.size(0)  # Accumulate loss\n",
    "\n",
    "    # Calculate average training loss\n",
    "    train_loss /= len(train_loader.dataset)\n",
    "    train_accuracy = train_correct / len(train_loader.dataset)\n",
    "\n",
    "    return train_loss, train_accuracy"
   ]
  },
  {
   "cell_type": "code",
   "execution_count": null,
   "metadata": {},
   "outputs": [],
   "source": [
    "# Validation/Test loop\n",
    "def evaluate(model, scheduler, val_loader, device, criterion=nn.CrossEntropyLoss()):\n",
    "    model.eval()\n",
    "\n",
    "    val_loss = 0.0\n",
    "    val_acc = 0.0\n",
    "    correct = 0\n",
    "\n",
    "    with torch.no_grad():  # No need to calculate gradients for validation/testing\n",
    "        for X_batch, y_batch in val_loader:\n",
    "            X_batch, y_batch = X_batch.to(device), y_batch.to(device)\n",
    "            # print(f\"X_batch {X_batch.shape}\")\n",
    "            # X_batch = X_batch.unsqueeze(-1) # Dataloader collapses last dimension of 1\n",
    "            outputs = model(X_batch)\n",
    "            loss = criterion(outputs, y_batch.long())\n",
    "            val_loss += loss.item() * X_batch.size(0)\n",
    "            \n",
    "            # Get predictions\n",
    "            _, predicted = torch.max(outputs, 1)\n",
    "            correct += (predicted == y_batch).sum().item()\n",
    "        \n",
    "        # Calculate average validation loss and accuracy\n",
    "        val_loss /= len(val_loader.dataset)\n",
    "        val_acc = correct / len(val_loader.dataset)\n",
    "\n",
    "        scheduler.step(val_loss)\n",
    "        \n",
    "    return val_loss, val_acc "
   ]
  },
  {
   "cell_type": "code",
   "execution_count": null,
   "metadata": {},
   "outputs": [],
   "source": [
    "def train_val_loop(model, optimizer, scheduler, train_loader, val_loader, num_epochs=50):\n",
    "\n",
    "    early_stopper = EarlyStopper(patience=10)\n",
    "\n",
    "    # Move model to GPU if available\n",
    "    device = torch.device(\"cuda\" if torch.cuda.is_available() else \"cpu\")\n",
    "    model = model.to(device)\n",
    "\n",
    "    train_losses, train_accuracies = [], []\n",
    "    val_losses, val_accuracies = [], []\n",
    "\n",
    "    for epoch in range(1, num_epochs+1):\n",
    "        train_loss, train_acc = train(model, optimizer, train_loader, device)\n",
    "        train_losses.append(train_loss)\n",
    "        train_accuracies.append(train_acc)\n",
    "\n",
    "        val_loss, val_acc = evaluate(model, scheduler, val_loader, device)\n",
    "        val_losses.append(val_loss)\n",
    "        val_accuracies.append(val_acc)\n",
    "\n",
    "        # Print epoch results\n",
    "        print(f'Epoch [{epoch}/{num_epochs}], '\n",
    "            f'Train Loss: {train_loss:.4f}, '\n",
    "            f'Train Accuracy: {train_acc * 100:.2f}%, '\n",
    "            f'Validation Loss: {val_loss:.4f}, '\n",
    "            f'Validation Accuracy: {val_acc * 100:.2f}%'\n",
    "            f'Learning rate: {scheduler.get_last_lr()}')\n",
    "        \n",
    "        if early_stopper.early_stop(val_loss):\n",
    "            print(f'STOPPED AT EPOCH {epoch}')\n",
    "            break\n",
    "        \n",
    "    return train_losses, train_accuracies, val_losses, val_accuracies"
   ]
  },
  {
   "cell_type": "code",
   "execution_count": null,
   "metadata": {},
   "outputs": [],
   "source": [
    "# Instantiate model\n",
    "model = CNN_GRU(num_inputs=187)\n",
    "optimizer = torch.optim.Adam(model.parameters(), lr=0.001)\n",
    "scheduler = torch.optim.lr_scheduler.CosineAnnealingLR(optimizer, T_max=50)"
   ]
  },
  {
   "cell_type": "code",
   "execution_count": null,
   "metadata": {},
   "outputs": [],
   "source": [
    "train_losses, train_accuracies, val_losses, val_accuracies = train_val_loop(model, optimizer, scheduler, train_loader, val_loader)"
   ]
  },
  {
   "cell_type": "code",
   "execution_count": null,
   "metadata": {},
   "outputs": [],
   "source": [
    "PATH = './model/CNN_GRU_model.pth'\n",
    "torch.save(model.state_dict(), PATH)"
   ]
  },
  {
   "cell_type": "markdown",
   "metadata": {},
   "source": [
    "### Plot loss and accuracy graph of train and validation"
   ]
  },
  {
   "cell_type": "code",
   "execution_count": null,
   "metadata": {},
   "outputs": [],
   "source": [
    "import matplotlib.pyplot as plt\n",
    "\n",
    "def plot_graphs(model, train_accuracies, train_losses, val_accuracies, val_losses):\n",
    "    model_name = model.getName()\n",
    "\n",
    "    fig, (ax1, ax2) = plt.subplots(1, 2, figsize=(10, 5))\n",
    "\n",
    "    ax1.plot(range(1, len(train_losses)+1), train_losses, label='Training Loss')\n",
    "    ax1.plot(range(1, len(val_losses)+1), val_losses, label='Validation Loss')\n",
    "    ax1.set_title(f'{model_name} Loss')\n",
    "    ax1.legend(loc='lower right')\n",
    "\n",
    "    ax2.plot(range(1, len(train_accuracies)+1), train_accuracies, label='Training Accuracy')\n",
    "    ax2.plot(range(1, len(val_accuracies)+1), val_accuracies, label='Validation Accuracy')\n",
    "    ax2.set_title(f'{model_name} Accuracy')\n",
    "    ax2.legend(loc='lower right')"
   ]
  },
  {
   "cell_type": "code",
   "execution_count": null,
   "metadata": {},
   "outputs": [],
   "source": [
    "plot_graphs(model, train_accuracies, train_losses, val_accuracies, val_losses)"
   ]
  },
  {
   "cell_type": "markdown",
   "metadata": {},
   "source": [
    "## Test"
   ]
  },
  {
   "cell_type": "code",
   "execution_count": null,
   "metadata": {},
   "outputs": [],
   "source": [
    "def train_test_loop(model, optimizer, scheduler, train_loader, test_loader, num_epochs=50):\n",
    "\n",
    "    # Move model to GPU if available\n",
    "    device = torch.device(\"cuda\" if torch.cuda.is_available() else \"cpu\")\n",
    "    model = model.to(device)\n",
    "\n",
    "    train_losses, train_accuracies = [], []\n",
    "    test_losses, test_accuracies = [], []\n",
    "\n",
    "    for epoch in range(1, num_epochs+1):\n",
    "        train_loss, train_acc = train(model, optimizer, train_loader, device)\n",
    "        train_losses.append(train_loss)\n",
    "        train_accuracies.append(train_acc)\n",
    "\n",
    "        test_loss, test_acc = evaluate(model, scheduler, test_loader, device)\n",
    "        test_losses.append(test_loss)\n",
    "        test_accuracies.append(test_acc)\n",
    "\n",
    "        # Print epoch results\n",
    "        print(f'Epoch [{epoch}/{num_epochs}], '\n",
    "            f'Train Loss: {train_loss:.4f}, '\n",
    "            f'Train Accuracy: {train_acc * 100:.2f}%, '\n",
    "            f'Test Loss: {test_loss:.4f}, '\n",
    "            f'Test Accuracy: {test_acc * 100:.2f}%')\n",
    "        \n",
    "    return train_losses, train_accuracies, test_losses, test_accuracies"
   ]
  },
  {
   "cell_type": "code",
   "execution_count": null,
   "metadata": {},
   "outputs": [],
   "source": [
    "# Instantiate model\n",
    "model = CNN_GRU(num_inputs=187)\n",
    "optimizer = torch.optim.Adam(model.parameters(), lr=0.001)\n",
    "scheduler = torch.optim.lr_scheduler.ReduceLROnPlateau(optimizer, 'min', patience=5)"
   ]
  },
  {
   "cell_type": "code",
   "execution_count": null,
   "metadata": {},
   "outputs": [],
   "source": [
    "X_train, y_train, X_test, y_test = get_train_test(train_df, test_df)\n",
    "\n",
    "# We add an additional dimension to make it suitable for 1D CNN.\n",
    "X_train = np.expand_dims(X_train, axis=1)  # Change axis from 2 to 1\n",
    "X_test = np.expand_dims(X_val, axis=1)    # Change axis from 2 to 1\n",
    "\n",
    "# Get dataloaders\n",
    "train_loader, test_loader = get_dataloaders(X_train, X_test, y_train, y_test)"
   ]
  },
  {
   "cell_type": "code",
   "execution_count": null,
   "metadata": {},
   "outputs": [],
   "source": [
    "train_losses, train_accuracies, test_losses, test_accuracies = train_test_loop(model, optimizer, scheduler, train_loader, test_loader)"
   ]
  },
  {
   "cell_type": "code",
   "execution_count": null,
   "metadata": {},
   "outputs": [],
   "source": [
    "PATH = './model/CNN_GRU_model.pth'\n",
    "torch.save(model.state_dict(), PATH)"
   ]
  },
  {
   "cell_type": "code",
   "execution_count": null,
   "metadata": {},
   "outputs": [],
   "source": [
    "y_pred, y_true = [], []\n",
    "criterion = nn.CrossEntropyLoss()\n",
    "device = torch.device('cuda' if torch.cuda.is_available else 'cpu')\n",
    "\n",
    "with torch.no_grad():  # No need to calculate gradients for validation/testing\n",
    "    for X_batch, y_batch in val_loader:\n",
    "        X_batch, y_batch = X_batch.to(device), y_batch.to(device)\n",
    "        # print(f\"X_batch {X_batch.shape}\")\n",
    "        # X_batch = X_batch.unsqueeze(-1) # Dataloader collapses last dimension of 1\n",
    "        outputs = model(X_batch)\n",
    "        y_pred.append(outputs.cpu().numpy())\n",
    "        y_true.append(y_batch.cpu().numpy())"
   ]
  },
  {
   "cell_type": "code",
   "execution_count": null,
   "metadata": {},
   "outputs": [],
   "source": [
    "from sklearn.metrics import classification_report, confusion_matrix\n",
    "\n",
    "report = classification_report(y_true, y_pred, labels=[0.0, 1.0, 2.0, 3.0, 4.0], target_names=['N', 'S', 'V', 'F', 'Q'], output_dict=True)\n",
    "conf_matrix = confusion_matrix(y_true, y_pred, labels=[0.0, 1.0, 2.0, 3.0, 4.0])"
   ]
  },
  {
   "cell_type": "code",
   "execution_count": null,
   "metadata": {},
   "outputs": [],
   "source": [
    "report(y_true, y_pred)"
   ]
  },
  {
   "cell_type": "code",
   "execution_count": null,
   "metadata": {},
   "outputs": [],
   "source": [
    "conf_matrix(y_true, y_pred)"
   ]
  }
 ],
 "metadata": {
  "kernelspec": {
   "display_name": "venv",
   "language": "python",
   "name": "python3"
  },
  "language_info": {
   "codemirror_mode": {
    "name": "ipython",
    "version": 3
   },
   "file_extension": ".py",
   "mimetype": "text/x-python",
   "name": "python",
   "nbconvert_exporter": "python",
   "pygments_lexer": "ipython3",
   "version": "3.12.7"
  }
 },
 "nbformat": 4,
 "nbformat_minor": 2
}
