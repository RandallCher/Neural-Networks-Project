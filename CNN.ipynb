{
 "cells": [
  {
   "cell_type": "markdown",
   "metadata": {},
   "source": [
    "# Task A: Deep Learning for ECG Heartbeat Classification"
   ]
  },
  {
   "cell_type": "markdown",
   "metadata": {},
   "source": [
    "Develop  a  deep  learning  model  that  can  accurately  classify  heartbeats  from  ECG  signals.  You  are \n",
    "encouraged  to  explore  different  neural  network  architectures  and  techniques,  going  beyond  simple \n",
    "feedforward networks. "
   ]
  },
  {
   "cell_type": "markdown",
   "metadata": {},
   "source": [
    "## Checking for CUDA compatibility"
   ]
  },
  {
   "cell_type": "code",
   "execution_count": 1,
   "metadata": {},
   "outputs": [
    {
     "name": "stdout",
     "output_type": "stream",
     "text": [
      "PyTorch version: 2.5.0+cu118\n",
      "CUDA available: True\n",
      "Current CUDA device index: 0\n",
      "CUDA device name: NVIDIA GeForce RTX 3070\n"
     ]
    }
   ],
   "source": [
    "import torch\n",
    "print(\"PyTorch version:\", torch.__version__)\n",
    "\n",
    "# Check if CUDA is available\n",
    "print(\"CUDA available:\", torch.cuda.is_available())\n",
    "\n",
    "# Get current CUDA device index (if available)\n",
    "if torch.cuda.is_available():\n",
    "    print(\"Current CUDA device index:\", torch.cuda.current_device())\n",
    "    print(\"CUDA device name:\", torch.cuda.get_device_name(torch.cuda.current_device()))\n",
    "else:\n",
    "    print(\"No CUDA devices found.\")"
   ]
  },
  {
   "cell_type": "code",
   "execution_count": 2,
   "metadata": {},
   "outputs": [
    {
     "name": "stderr",
     "output_type": "stream",
     "text": [
      "C:\\Users\\randa\\AppData\\Local\\Temp\\ipykernel_43728\\2393702289.py:17: DtypeWarning: Columns (1) have mixed types. Specify dtype option on import or set low_memory=False.\n",
      "  dataframes[df_name] = pd.read_csv(file_path)\n"
     ]
    }
   ],
   "source": [
    "import pandas as pd\n",
    "import numpy as np\n",
    "from torch import nn, optim\n",
    "from sklearn.model_selection import train_test_split\n",
    "from sklearn.preprocessing import LabelEncoder\n",
    "\n",
    "import os\n",
    "dataframes = {}\n",
    "directory_path = 'Arrhythmia_Dataset'\n",
    "all_files = os.listdir(directory_path)\n",
    "\n",
    "for file in os.listdir(directory_path):\n",
    "    if file.endswith('.csv'):\n",
    "        file_path = os.path.join(directory_path, file)\n",
    "        # Remove the .csv extension for the DataFrame name\n",
    "        df_name = os.path.splitext(file)[0]\n",
    "        dataframes[df_name] = pd.read_csv(file_path)\n"
   ]
  },
  {
   "cell_type": "code",
   "execution_count": 3,
   "metadata": {},
   "outputs": [
    {
     "name": "stdout",
     "output_type": "stream",
     "text": [
      "dict_keys(['INCART 2-lead Arrhythmia Database', 'MIT-BIH Arrhythmia Database', 'MIT-BIH Supraventricular Arrhythmia Database', 'Sudden Cardiac Death Holter Database'])\n"
     ]
    }
   ],
   "source": [
    "print(dataframes.keys())\n"
   ]
  },
  {
   "cell_type": "code",
   "execution_count": 4,
   "metadata": {},
   "outputs": [],
   "source": [
    "data_df = dataframes['MIT-BIH Arrhythmia Database']"
   ]
  },
  {
   "cell_type": "markdown",
   "metadata": {},
   "source": [
    "## Splitting into features and class lables"
   ]
  },
  {
   "cell_type": "code",
   "execution_count": 5,
   "metadata": {},
   "outputs": [],
   "source": [
    "x_data = data_df.iloc[:, 2:]\n",
    "y_label = data_df[['type']]"
   ]
  },
  {
   "cell_type": "code",
   "execution_count": 6,
   "metadata": {},
   "outputs": [
    {
     "data": {
      "text/plain": [
       "type\n",
       "N       90083\n",
       "VEB      7009\n",
       "SVEB     2779\n",
       "F         803\n",
       "Q          15\n",
       "Name: count, dtype: int64"
      ]
     },
     "execution_count": 6,
     "metadata": {},
     "output_type": "execute_result"
    }
   ],
   "source": [
    "y_label.value_counts()"
   ]
  },
  {
   "cell_type": "markdown",
   "metadata": {},
   "source": [
    "Classes: N (Normal), VEB (Ventricular ectopic beat), SVEB (Supraventricular ectopic beat), F (Fusion beat), and Q (Unknown beat). "
   ]
  },
  {
   "cell_type": "code",
   "execution_count": 7,
   "metadata": {},
   "outputs": [],
   "source": [
    "# y_label.replace(['VEB', 'SVEB', 'F', 'Q'], 'arrhythmia', inplace=True)\n",
    "# y_label.replace(['N'], 'normal', inplace=True)"
   ]
  },
  {
   "cell_type": "code",
   "execution_count": 8,
   "metadata": {},
   "outputs": [],
   "source": [
    "# y_label.value_counts()"
   ]
  },
  {
   "cell_type": "code",
   "execution_count": 9,
   "metadata": {},
   "outputs": [],
   "source": [
    "class CNN1D(nn.Module):\n",
    "    def __init__(self, num_classes):\n",
    "        super(CNN1D, self).__init__()\n",
    "        self.conv1 = nn.Conv1d(in_channels=1, out_channels=64, kernel_size=3)\n",
    "        self.pool = nn.MaxPool1d(kernel_size=2)\n",
    "        self.conv2 = nn.Conv1d(64, 128, kernel_size=3)\n",
    "        self.conv3 = nn.Conv1d(128, 256, kernel_size=3)\n",
    "        \n",
    "        # Update this based on your input size after the conv/pooling layers\n",
    "        self.flatten = nn.Flatten()\n",
    "        self.fc1 = nn.Linear(256 * 2, 256)  # Calculate output_length based on your input\n",
    "        self.dropout = nn.Dropout(0.5)\n",
    "        self.fc2 = nn.Linear(256, num_classes)\n",
    "\n",
    "    def forward(self, x):\n",
    "        x = self.pool(F.relu(self.conv1(x)))\n",
    "        x = self.pool(F.relu(self.conv2(x)))\n",
    "        x = self.pool(F.relu(self.conv3(x)))\n",
    "        x = self.flatten(x)\n",
    "        x = F.relu(self.fc1(x))\n",
    "        x = self.dropout(x)\n",
    "        x = self.fc2(x)\n",
    "        return x"
   ]
  },
  {
   "cell_type": "code",
   "execution_count": 10,
   "metadata": {},
   "outputs": [
    {
     "name": "stderr",
     "output_type": "stream",
     "text": [
      "c:\\Users\\randa\\OneDrive\\Documents\\GitHub\\Neural-Networks-Project\\.venv\\Lib\\site-packages\\sklearn\\preprocessing\\_label.py:114: DataConversionWarning: A column-vector y was passed when a 1d array was expected. Please change the shape of y to (n_samples, ), for example using ravel().\n",
      "  y = column_or_1d(y, warn=True)\n"
     ]
    }
   ],
   "source": [
    "from torch.utils.data import DataLoader, TensorDataset\n",
    "import torch.nn.functional as F\n",
    "label_encoder = LabelEncoder()\n",
    "y = label_encoder.fit_transform(y_label)  # Encode labels without replacement\n",
    "num_classes = len(label_encoder.classes_)  # Use the number of unique classes\n",
    "y = np.eye(num_classes)[y] \n",
    "\n",
    "# Split the data into training and testing sets\n",
    "X_train, X_test, y_train, y_test = train_test_split(x_data, y, test_size=0.2, random_state=42)\n",
    "\n",
    "# We add an additional dimension to make it suitable for 1D CNN.\n",
    "X_train = np.expand_dims(X_train, axis=1)  # Change axis from 2 to 1\n",
    "X_test = np.expand_dims(X_test, axis=1)    # Change axis from 2 to 1\n",
    "\n",
    "# Convert to PyTorch tensors\n",
    "X_train_tensor = torch.tensor(X_train).float()  # Ensure the data is of float type\n",
    "X_test_tensor = torch.tensor(X_test).float()    # Ensure the data is of float type\n",
    "y_train_tensor = torch.tensor(y_train).long()   # Ensure labels are long type\n",
    "y_test_tensor = torch.tensor(y_test).long()   \n",
    "\n",
    "# Create DataLoader\n",
    "train_dataset = TensorDataset(X_train_tensor, y_train_tensor)\n",
    "train_loader = DataLoader(train_dataset, batch_size=32, shuffle=True)\n",
    "test_dataset = TensorDataset(X_test_tensor, y_test_tensor)\n",
    "test_loader = DataLoader(test_dataset, batch_size=32, shuffle=False)"
   ]
  },
  {
   "cell_type": "code",
   "execution_count": 11,
   "metadata": {},
   "outputs": [
    {
     "name": "stdout",
     "output_type": "stream",
     "text": [
      "5\n"
     ]
    }
   ],
   "source": [
    "print(len(label_encoder.classes_))"
   ]
  },
  {
   "cell_type": "code",
   "execution_count": 12,
   "metadata": {},
   "outputs": [
    {
     "name": "stdout",
     "output_type": "stream",
     "text": [
      "Epoch [1/10], Loss: 0.2567, Training Accuracy: 0.9338\n",
      "Epoch [1/10], Test Accuracy: 0.9399\n",
      "Epoch [2/10], Loss: 0.1870, Training Accuracy: 0.9472\n",
      "Epoch [2/10], Test Accuracy: 0.9538\n",
      "Epoch [3/10], Loss: 0.1438, Training Accuracy: 0.9568\n",
      "Epoch [3/10], Test Accuracy: 0.9581\n",
      "Epoch [4/10], Loss: 0.1085, Training Accuracy: 0.9679\n",
      "Epoch [4/10], Test Accuracy: 0.9686\n",
      "Epoch [5/10], Loss: 0.0909, Training Accuracy: 0.9738\n",
      "Epoch [5/10], Test Accuracy: 0.9796\n",
      "Epoch [6/10], Loss: 0.0815, Training Accuracy: 0.9764\n",
      "Epoch [6/10], Test Accuracy: 0.9798\n",
      "Epoch [7/10], Loss: 0.0749, Training Accuracy: 0.9786\n",
      "Epoch [7/10], Test Accuracy: 0.9804\n",
      "Epoch [8/10], Loss: 0.0699, Training Accuracy: 0.9805\n",
      "Epoch [8/10], Test Accuracy: 0.9823\n",
      "Epoch [9/10], Loss: 0.0625, Training Accuracy: 0.9823\n",
      "Epoch [9/10], Test Accuracy: 0.9832\n",
      "Epoch [10/10], Loss: 0.0597, Training Accuracy: 0.9836\n",
      "Epoch [10/10], Test Accuracy: 0.9841\n"
     ]
    }
   ],
   "source": [
    "device = torch.device(\"cuda\" if torch.cuda.is_available() else \"cpu\")\n",
    "num_classes = len(label_encoder.classes_)\n",
    "model = CNN1D(num_classes).to(device)\n",
    "\n",
    "# Define loss function and optimizer\n",
    "criterion = nn.CrossEntropyLoss()  # Use CrossEntropyLoss for multi-class classification\n",
    "optimizer = optim.Adam(model.parameters())\n",
    "\n",
    "# Train the model\n",
    "train_acc = []  \n",
    "test_acc = []\n",
    "EPOCHS = 10\n",
    "# Training loop\n",
    "for epoch in range(EPOCHS):\n",
    "    model.train()  # Set the model to training mode\n",
    "    running_loss = 0.0\n",
    "    correct_train = 0\n",
    "    total_train = 0\n",
    "\n",
    "    for inputs, labels in train_loader:\n",
    "        inputs, labels = inputs.to(device), labels.to(device)  # Move to GPU if available\n",
    "\n",
    "        optimizer.zero_grad()  # Zero the gradients\n",
    "        outputs = model(inputs)  # Forward pass\n",
    "        loss = criterion(outputs, labels.argmax(dim=1))  # Compute loss\n",
    "        loss.backward()  # Backward pass\n",
    "        optimizer.step()  # Update weights\n",
    "\n",
    "        running_loss += loss.item()\n",
    "\n",
    "        # Calculate training accuracy\n",
    "        _, predicted_train = torch.max(outputs.data, 1)\n",
    "        total_train += labels.size(0)\n",
    "        correct_train += (predicted_train == labels.argmax(dim=1)).sum().item()\n",
    "\n",
    "    # Compute and store training accuracy for the epoch\n",
    "    train_accuracy = correct_train / total_train\n",
    "    train_acc.append(train_accuracy)\n",
    "\n",
    "    print(f'Epoch [{epoch + 1}/{EPOCHS}], Loss: {running_loss / len(train_loader):.4f}, Training Accuracy: {train_accuracy:.4f}')\n",
    "\n",
    "    # Evaluate the model after each epoch\n",
    "    model.eval()  # Set the model to evaluation mode\n",
    "    with torch.no_grad():\n",
    "        correct_test = 0\n",
    "        total_test = 0\n",
    "        for inputs, labels in test_loader:\n",
    "            inputs, labels = inputs.to(device), labels.to(device)  # Move to GPU if available\n",
    "            outputs = model(inputs)  # Forward pass\n",
    "            _, predicted = torch.max(outputs.data, 1)\n",
    "            total_test += labels.size(0)\n",
    "            correct_test += (predicted == labels.argmax(dim=1)).sum().item()\n",
    "\n",
    "        accuracy = correct_test / total_test  # Calculate test accuracy\n",
    "        test_acc.append(accuracy)  # Store accuracy for this epoch\n",
    "        print(f'Epoch [{epoch + 1}/{EPOCHS}], Test Accuracy: {accuracy:.4f}')\n",
    "\n",
    "\n",
    "# Create an array for epoch indices\n",
    "# epoch_indices = np.arange(EPOCHS)\n",
    "\n"
   ]
  },
  {
   "cell_type": "code",
   "execution_count": 13,
   "metadata": {},
   "outputs": [
    {
     "data": {
      "image/png": "[encoded data removed]",
      "text/plain": [
       "<Figure size 640x480 with 1 Axes>"
      ]
     },
     "metadata": {},
     "output_type": "display_data"
    }
   ],
   "source": [
    "import matplotlib.pyplot as plt\n",
    "plt.figure()\n",
    "plt.plot(np.arange(EPOCHS), train_acc, label='Training Accuracy')\n",
    "plt.plot(np.arange(EPOCHS), test_acc, label='Test Accuracy')\n",
    "plt.xlabel('Epochs')\n",
    "plt.ylabel('Accuracy')\n",
    "plt.title('Training and Test Accuracy over Epochs')\n",
    "plt.legend(loc='lower right')\n",
    "plt.show()"
   ]
  },
  {
   "cell_type": "code",
   "execution_count": 14,
   "metadata": {},
   "outputs": [
    {
     "name": "stdout",
     "output_type": "stream",
     "text": [
      "Model saved to ./model/cnn_model.pth\n"
     ]
    }
   ],
   "source": [
    "model_path = \"./model/cnn_model.pth\"\n",
    "torch.save(model.state_dict(), model_path)\n",
    "print(f\"Model saved to {model_path}\")"
   ]
  },
  {
   "cell_type": "code",
   "execution_count": 15,
   "metadata": {},
   "outputs": [
    {
     "name": "stdout",
     "output_type": "stream",
     "text": [
      "Model loaded successfully.\n",
      "Predicted class for sample 1: N\n",
      "Predicted class for sample 2: N\n",
      "Predicted class for sample 3: N\n",
      "Predicted class for sample 4: SVEB\n",
      "Predicted class for sample 5: N\n",
      "Predicted class for sample 6: N\n",
      "Predicted class for sample 7: N\n",
      "Predicted class for sample 8: N\n",
      "Predicted class for sample 9: N\n",
      "Predicted class for sample 10: N\n",
      "Predicted class for sample 11: N\n",
      "Predicted class for sample 12: N\n",
      "Predicted class for sample 13: N\n",
      "Predicted class for sample 14: N\n",
      "Predicted class for sample 15: N\n",
      "Predicted class for sample 16: N\n",
      "Predicted class for sample 17: N\n",
      "Predicted class for sample 18: N\n",
      "Predicted class for sample 19: N\n",
      "Predicted class for sample 20: N\n"
     ]
    }
   ],
   "source": [
    "loaded_model = CNN1D(num_classes).to(device)  # Reinitialize model with the same architecture\n",
    "loaded_model.load_state_dict(torch.load(model_path, weights_only=True))\n",
    "\n",
    "print(\"Model loaded successfully.\")\n",
    "\n",
    "sample_inputs = X_test_tensor[:20]  # Take the first 5 samples\n",
    "sample_inputs = sample_inputs.to(device)  # Move to the appropriate device\n",
    "\n",
    "with torch.no_grad():\n",
    "    # Forward pass through the model for all sample inputs\n",
    "    outputs = loaded_model(sample_inputs)\n",
    "    _, predicted_classes = torch.max(outputs, 1)  # Get the predicted classes\n",
    "\n",
    "# Decode the predicted classes to the original labels\n",
    "predicted_labels = label_encoder.inverse_transform(predicted_classes.cpu().numpy())  # Move to CPU for numpy conversion\n",
    "\n",
    "# Print predicted labels for each sample\n",
    "for i, label in enumerate(predicted_labels):\n",
    "    print(f\"Predicted class for sample {i + 1}: {label}\")\n"
   ]
  },
  {
   "cell_type": "code",
   "execution_count": null,
   "metadata": {},
   "outputs": [],
   "source": []
  },
  {
   "cell_type": "code",
   "execution_count": null,
   "metadata": {},
   "outputs": [],
   "source": []
  },
  {
   "cell_type": "code",
   "execution_count": null,
   "metadata": {},
   "outputs": [],
   "source": []
  }
 ],
 "metadata": {
  "kernelspec": {
   "display_name": ".venv",
   "language": "python",
   "name": "python3"
  },
  "language_info": {
   "codemirror_mode": {
    "name": "ipython",
    "version": 3
   },
   "file_extension": ".py",
   "mimetype": "text/x-python",
   "name": "python",
   "nbconvert_exporter": "python",
   "pygments_lexer": "ipython3",
   "version": "3.11.0"
  }
 },
 "nbformat": 4,
 "nbformat_minor": 2
}
