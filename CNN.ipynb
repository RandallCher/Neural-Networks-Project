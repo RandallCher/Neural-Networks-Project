{
 "cells": [
  {
   "cell_type": "markdown",
   "metadata": {},
   "source": [
    "https://www.kaggle.com/code/cyrillecervantes/arrhythmia-detection-using-transformer#Transformer-Model"
   ]
  },
  {
   "cell_type": "code",
   "execution_count": 2,
   "metadata": {},
   "outputs": [
    {
     "name": "stdout",
     "output_type": "stream",
     "text": [
      "PyTorch version: 2.5.0+cu118\n",
      "CUDA available: True\n",
      "Current CUDA device index: 0\n",
      "CUDA device name: NVIDIA GeForce RTX 3070\n"
     ]
    }
   ],
   "source": [
    "import torch\n",
    "print(\"PyTorch version:\", torch.__version__)\n",
    "\n",
    "# Check if CUDA is available\n",
    "print(\"CUDA available:\", torch.cuda.is_available())\n",
    "\n",
    "# Get current CUDA device index (if available)\n",
    "if torch.cuda.is_available():\n",
    "    print(\"Current CUDA device index:\", torch.cuda.current_device())\n",
    "    print(\"CUDA device name:\", torch.cuda.get_device_name(torch.cuda.current_device()))\n",
    "else:\n",
    "    print(\"No CUDA devices found.\")"
   ]
  },
  {
   "cell_type": "code",
   "execution_count": 3,
   "metadata": {},
   "outputs": [],
   "source": [
    "import pandas as pd\n",
    "import numpy as np\n",
    "import copy\n",
    "\n",
    "from torch import nn, optim\n",
    "import torch.nn.functional as F\n",
    "from sklearn.model_selection import train_test_split\n",
    "from sklearn.preprocessing import LabelEncoder\n",
    "import tensorflow as tf\n",
    "from sklearn.utils import class_weight, resample\n",
    "from keras.utils import to_categorical\n",
    "from keras.metrics import Precision,Recall\n",
    "from keras import Model\n",
    "\n",
    "import matplotlib.pyplot as plt\n",
    "\n",
    "import os\n",
    "dataframes = {}\n",
    "directory_path = 'Heartbeat_Dataset'\n",
    "all_files = os.listdir(directory_path)\n",
    "\n",
    "for file in os.listdir(directory_path):\n",
    "    if file.endswith('.csv'):\n",
    "        file_path = os.path.join(directory_path, file)\n",
    "        # Remove the .csv extension for the DataFrame name\n",
    "        df_name = os.path.splitext(file)[0]\n",
    "        dataframes[df_name] = pd.read_csv(file_path, header= None)\n"
   ]
  },
  {
   "cell_type": "code",
   "execution_count": 65,
   "metadata": {},
   "outputs": [
    {
     "name": "stdout",
     "output_type": "stream",
     "text": [
      "dict_keys(['mitbih_test', 'mitbih_train', 'ptbdb_abnormal', 'ptbdb_normal'])\n"
     ]
    }
   ],
   "source": [
    "print(dataframes.keys())"
   ]
  },
  {
   "cell_type": "code",
   "execution_count": 32,
   "metadata": {},
   "outputs": [],
   "source": [
    "train_df = dataframes['mitbih_train']\n"
   ]
  },
  {
   "cell_type": "code",
   "execution_count": 67,
   "metadata": {},
   "outputs": [
    {
     "data": {
      "text/plain": [
       "(87554, 188)"
      ]
     },
     "execution_count": 67,
     "metadata": {},
     "output_type": "execute_result"
    }
   ],
   "source": [
    "train_df.shape"
   ]
  },
  {
   "cell_type": "code",
   "execution_count": 73,
   "metadata": {},
   "outputs": [
    {
     "data": {
      "text/plain": [
       "(87554, 188)"
      ]
     },
     "execution_count": 7,
     "metadata": {},
     "output_type": "execute_result"
    }
   ],
   "source": [
    "train_df.shape"
   ]
  },
  {
   "cell_type": "code",
   "execution_count": 39,
   "metadata": {},
   "outputs": [
    {
     "name": "stdout",
     "output_type": "stream",
     "text": [
      "Number of samples in train data: 87554\n",
      "Train dataset class distribution\n",
      "187\n",
      "0.0    72471\n",
      "4.0     6431\n",
      "2.0     5788\n",
      "1.0     2223\n",
      "3.0      641\n",
      "Name: count, dtype: int64\n"
     ]
    }
   ],
   "source": [
    "print(f\"Number of samples in train data: {train_df.shape[0]}\")\n",
    "\n",
    "# Check distribution of classes in test and train sets\n",
    "print(\"Train dataset class distribution\")\n",
    "\n",
    "train_df.iloc[:, -1] = train_df.iloc[:, -1].astype(int)\n",
    "print(train_df.iloc[:, -1].value_counts())"
   ]
  },
  {
   "cell_type": "code",
   "execution_count": null,
   "metadata": {},
   "outputs": [],
   "source": []
  },
  {
   "cell_type": "code",
   "execution_count": 9,
   "metadata": {},
   "outputs": [],
   "source": [
    "labels = {\n",
    "    0.0: \"N\",\n",
    "    1.0: \"S\",\n",
    "    2.0: \"V\",\n",
    "    3.0: \"F\",\n",
    "    4.0: \"Q\"\n",
    "}"
   ]
  },
  {
   "cell_type": "code",
   "execution_count": null,
   "metadata": {},
   "outputs": [
    {
     "name": "stdout",
     "output_type": "stream",
     "text": [
      "187\n",
      "N    72471\n",
      "Q     6431\n",
      "V     5788\n",
      "S     2223\n",
      "F      641\n",
      "Name: count, dtype: int64\n"
     ]
    },
    {
     "name": "stderr",
     "output_type": "stream",
     "text": [
      "C:\\Users\\randa\\AppData\\Local\\Temp\\ipykernel_18512\\334857607.py:2: FutureWarning: Setting an item of incompatible dtype is deprecated and will raise in a future error of pandas. Value '0        N\n",
      "1        N\n",
      "2        N\n",
      "3        N\n",
      "4        N\n",
      "        ..\n",
      "87549    Q\n",
      "87550    Q\n",
      "87551    Q\n",
      "87552    Q\n",
      "87553    Q\n",
      "Name: 187, Length: 87554, dtype: object' has dtype incompatible with float64, please explicitly cast to a compatible dtype first.\n",
      "  train_df.iloc[:, -1] = train_df.iloc[:, -1].replace(labels)\n"
     ]
    }
   ],
   "source": [
    "# Rename the values in the last column using the labels dictionary\n",
    "train_df.iloc[:, -1] = train_df.iloc[:, -1].replace(labels)\n",
    "train_counts = train_df.iloc[:, -1].value_counts()\n",
    "print(train_counts)\n"
   ]
  },
  {
   "cell_type": "code",
   "execution_count": null,
   "metadata": {},
   "outputs": [
    {
     "data": {
      "image/png": "[encoded data removed]",
      "text/plain": [
       "<Figure size 640x480 with 1 Axes>"
      ]
     },
     "metadata": {},
     "output_type": "display_data"
    }
   ],
   "source": [
    "# Show the plot of the ECG\n",
    "fig, ax = plt.subplots() \n",
    "\n",
    "ax.plot(train_df.iloc[0, :186])\n",
    "ax.set_title(train_df.iloc[0, 187]) \n",
    "ax.set_xlabel(\"Index\")\n",
    "ax.set_ylabel(\"Value\")\n",
    "\n",
    "\n",
    "plt.show()"
   ]
  },
  {
   "cell_type": "markdown",
   "metadata": {},
   "source": [
    "# CNN model"
   ]
  },
  {
   "cell_type": "code",
   "execution_count": 12,
   "metadata": {},
   "outputs": [],
   "source": [
    "x_data = train_df.iloc[:,:187]\n",
    "y_label = train_df.iloc[:,-1]"
   ]
  },
  {
   "cell_type": "code",
   "execution_count": null,
   "metadata": {},
   "outputs": [],
   "source": [
    "class CNN1D(nn.Module):\n",
    "    def __init__(self, num_classes):\n",
    "        super(CNN1D, self).__init__()\n",
    "        self.conv1 = nn.Conv1d(in_channels=1, out_channels=64, kernel_size=3)\n",
    "        self.pool = nn.MaxPool1d(kernel_size=2)\n",
    "        self.conv2 = nn.Conv1d(64, 128, kernel_size=3)\n",
    "        self.conv3 = nn.Conv1d(128, 256, kernel_size=3)\n",
    "        \n",
    "        \n",
    "        self.flatten = nn.Flatten()\n",
    "        self.fc1 = nn.Linear(256 * self._get_conv_output_size(187), 256) \n",
    "        self.dropout = nn.Dropout(0.5)\n",
    "        self.fc2 = nn.Linear(256, num_classes)\n",
    "\n",
    "    def _get_conv_output_size(self, input_length):\n",
    "        output_length = input_length\n",
    "        \n",
    "        for _ in range(3):  # 3 convolutional layers\n",
    "            output_length = (output_length - 2) // 2  # After conv and pooling\n",
    "\n",
    "        return output_length\n",
    "\n",
    "    def forward(self, x):\n",
    "        x = self.pool(F.relu(self.conv1(x)))  \n",
    "        x = self.pool(F.relu(self.conv2(x)))  \n",
    "        x = self.pool(F.relu(self.conv3(x)))  \n",
    "        x = self.flatten(x)\n",
    "        x = F.relu(self.fc1(x))  \n",
    "        x = self.dropout(x) \n",
    "        x = self.fc2(x)  \n",
    "        return x"
   ]
  },
  {
   "cell_type": "code",
   "execution_count": null,
   "metadata": {},
   "outputs": [],
   "source": [
    "from torch.utils.data import DataLoader, TensorDataset\n",
    "import torch.nn.functional as F\n",
    "label_encoder = LabelEncoder()\n",
    "  # Encode labels without replacement\n",
    "y = label_encoder.fit_transform(y_label)\n",
    "num_classes = len(label_encoder.classes_)  \n",
    "y = np.eye(num_classes)[y] \n",
    "\n",
    "\n",
    "X_train, X_test, y_train, y_test = train_test_split(x_data, y, test_size=0.2, random_state=42)\n",
    "\n",
    "\n",
    "X_train = np.expand_dims(X_train, axis=1)  \n",
    "X_test = np.expand_dims(X_test, axis=1)    \n",
    "\n",
    "# Convert to PyTorch tensors\n",
    "X_train_tensor = torch.tensor(X_train).float() \n",
    "X_test_tensor = torch.tensor(X_test).float() \n",
    "y_train_tensor = torch.tensor(y_train).long() \n",
    "y_test_tensor = torch.tensor(y_test).long()   \n",
    "\n",
    "# Create DataLoader\n",
    "train_dataset = TensorDataset(X_train_tensor, y_train_tensor)\n",
    "train_loader = DataLoader(train_dataset, batch_size=32, shuffle=True)\n",
    "test_dataset = TensorDataset(X_test_tensor, y_test_tensor)\n",
    "test_loader = DataLoader(test_dataset, batch_size=32, shuffle=False)"
   ]
  },
  {
   "cell_type": "code",
   "execution_count": 15,
   "metadata": {},
   "outputs": [
    {
     "name": "stdout",
     "output_type": "stream",
     "text": [
      "350215\n"
     ]
    }
   ],
   "source": [
    "print(y_train.size)"
   ]
  },
  {
   "cell_type": "code",
   "execution_count": 16,
   "metadata": {},
   "outputs": [
    {
     "name": "stdout",
     "output_type": "stream",
     "text": [
      "5\n"
     ]
    }
   ],
   "source": [
    "print(len(label_encoder.classes_))"
   ]
  },
  {
   "cell_type": "code",
   "execution_count": null,
   "metadata": {},
   "outputs": [
    {
     "name": "stdout",
     "output_type": "stream",
     "text": [
      "Epoch [1/20], Loss: 0.2140, Training Accuracy: 0.9416\n",
      "Epoch [1/20], Test Accuracy: 0.9693\n",
      "Epoch [2/20], Loss: 0.1078, Training Accuracy: 0.9709\n",
      "Epoch [2/20], Test Accuracy: 0.9775\n",
      "Epoch [3/20], Loss: 0.0849, Training Accuracy: 0.9760\n",
      "Epoch [3/20], Test Accuracy: 0.9807\n",
      "Epoch [4/20], Loss: 0.0724, Training Accuracy: 0.9795\n",
      "Epoch [4/20], Test Accuracy: 0.9814\n",
      "Epoch [5/20], Loss: 0.0627, Training Accuracy: 0.9819\n",
      "Epoch [5/20], Test Accuracy: 0.9830\n",
      "Epoch [6/20], Loss: 0.0558, Training Accuracy: 0.9838\n",
      "Epoch [6/20], Test Accuracy: 0.9832\n",
      "Epoch [7/20], Loss: 0.0505, Training Accuracy: 0.9848\n",
      "Epoch [7/20], Test Accuracy: 0.9835\n",
      "Epoch [8/20], Loss: 0.0452, Training Accuracy: 0.9859\n",
      "Epoch [8/20], Test Accuracy: 0.9846\n",
      "Epoch [9/20], Loss: 0.0426, Training Accuracy: 0.9868\n",
      "Epoch [9/20], Test Accuracy: 0.9854\n",
      "Epoch [10/20], Loss: 0.0388, Training Accuracy: 0.9881\n",
      "Epoch [10/20], Test Accuracy: 0.9854\n",
      "Epoch [11/20], Loss: 0.0360, Training Accuracy: 0.9886\n",
      "Epoch [11/20], Test Accuracy: 0.9865\n",
      "Epoch [12/20], Loss: 0.0329, Training Accuracy: 0.9895\n",
      "Epoch [12/20], Test Accuracy: 0.9853\n",
      "Early stopping triggered after 12 epochs.\n"
     ]
    }
   ],
   "source": [
    "\n",
    "device = torch.device(\"cuda\" if torch.cuda.is_available() else \"cpu\")\n",
    "num_classes = len(label_encoder.classes_)\n",
    "model = CNN1D(num_classes).to(device)\n",
    "\n",
    "# Define loss function and optimizer\n",
    "criterion = nn.CrossEntropyLoss()  \n",
    "optimizer = optim.Adam(model.parameters())\n",
    "\n",
    "\n",
    "train_acc = []  \n",
    "test_acc = []\n",
    "EPOCHS = 20 # Increase this if needed\n",
    "patience = 3  \n",
    "best_loss = float('inf')  \n",
    "patience_counter = 0  \n",
    "\n",
    "# Training loop\n",
    "for epoch in range(EPOCHS):\n",
    "    model.train() \n",
    "    running_loss = 0.0\n",
    "    correct_train = 0\n",
    "    total_train = 0\n",
    "\n",
    "    for inputs, labels in train_loader:\n",
    "        inputs, labels = inputs.to(device), labels.to(device)  # Move to GPU if available\n",
    "\n",
    "        optimizer.zero_grad() \n",
    "        outputs = model(inputs)  \n",
    "        loss = criterion(outputs, labels.argmax(dim=1)) \n",
    "        loss.backward() \n",
    "        optimizer.step()  \n",
    "\n",
    "        running_loss += loss.item()\n",
    "\n",
    "        # Calculate training accuracy\n",
    "        _, predicted_train = torch.max(outputs.data, 1)\n",
    "        total_train += labels.size(0)\n",
    "        correct_train += (predicted_train == labels.argmax(dim=1)).sum().item()\n",
    "\n",
    "    # Compute and store training accuracy for the epoch\n",
    "    train_accuracy = correct_train / total_train\n",
    "    train_acc.append(train_accuracy)\n",
    "\n",
    "    print(f'Epoch [{epoch + 1}/{EPOCHS}], Loss: {running_loss / len(train_loader):.4f}, Training Accuracy: {train_accuracy:.4f}')\n",
    "\n",
    "    # Evaluate the model after each epoch\n",
    "    model.eval()\n",
    "    with torch.no_grad():\n",
    "        correct_test = 0\n",
    "        total_test = 0\n",
    "        validation_loss = 0.0 \n",
    "        for inputs, labels in test_loader:\n",
    "            inputs, labels = inputs.to(device), labels.to(device)  # Move to GPU if available\n",
    "            outputs = model(inputs)  \n",
    "            loss = criterion(outputs, labels.argmax(dim=1)) \n",
    "            validation_loss += loss.item()  \n",
    "\n",
    "            _, predicted = torch.max(outputs.data, 1)\n",
    "            total_test += labels.size(0)\n",
    "            correct_test += (predicted == labels.argmax(dim=1)).sum().item()\n",
    "\n",
    "        accuracy = correct_test / total_test  # Calculate test accuracy\n",
    "        test_acc.append(accuracy)  # Store accuracy for this epoch\n",
    "        avg_validation_loss = validation_loss / len(test_loader)\n",
    "        print(f'Epoch [{epoch + 1}/{EPOCHS}], Test Accuracy: {accuracy:.4f}')\n",
    "\n",
    "        if avg_validation_loss < best_loss:\n",
    "            best_loss = avg_validation_loss  \n",
    "            patience_counter = 0  \n",
    "            # torch.save(model.state_dict(), 'best_model.pth') \n",
    "        else:\n",
    "            patience_counter += 1  \n",
    "            if patience_counter >= patience:\n",
    "                print(f'Early stopping triggered after {epoch + 1} epochs.')\n",
    "                break  \n",
    "\n",
    "# Create an array for epoch indices\n",
    "# epoch_indices = np.arange(EPOCHS)\n",
    "\n"
   ]
  },
  {
   "cell_type": "code",
   "execution_count": 18,
   "metadata": {},
   "outputs": [
    {
     "data": {
      "image/png": "[encoded data removed]",
      "text/plain": [
       "<Figure size 640x480 with 1 Axes>"
      ]
     },
     "metadata": {},
     "output_type": "display_data"
    }
   ],
   "source": [
    "import matplotlib.pyplot as plt\n",
    "\n",
    "\n",
    "num_epochs = min(len(train_acc), len(test_acc))\n",
    "\n",
    "plt.figure()\n",
    "plt.plot(np.arange(num_epochs), train_acc[:num_epochs], label='Training Accuracy')\n",
    "plt.plot(np.arange(num_epochs), test_acc[:num_epochs], label='Test Accuracy')\n",
    "\n",
    "# Add labels and legend\n",
    "plt.xlabel('Epochs')\n",
    "plt.ylabel('Accuracy')\n",
    "plt.title('Training and Test Accuracy Over Epochs')\n",
    "plt.legend()\n",
    "plt.show()"
   ]
  },
  {
   "cell_type": "code",
   "execution_count": 19,
   "metadata": {},
   "outputs": [
    {
     "name": "stdout",
     "output_type": "stream",
     "text": [
      "Model saved to ./model/cnn_model2.pth\n"
     ]
    }
   ],
   "source": [
    "model_path = \"./model/cnn_model2.pth\"\n",
    "torch.save(model.state_dict(), model_path)\n",
    "print(f\"Model saved to {model_path}\")"
   ]
  },
  {
   "cell_type": "code",
   "execution_count": null,
   "metadata": {},
   "outputs": [
    {
     "name": "stdout",
     "output_type": "stream",
     "text": [
      "Model loaded successfully.\n",
      "Predicted class for sample 1: N\n",
      "Predicted class for sample 2: N\n",
      "Predicted class for sample 3: N\n",
      "Predicted class for sample 4: N\n",
      "Predicted class for sample 5: Q\n",
      "Predicted class for sample 6: N\n",
      "Predicted class for sample 7: N\n",
      "Predicted class for sample 8: Q\n",
      "Predicted class for sample 9: Q\n",
      "Predicted class for sample 10: N\n",
      "Predicted class for sample 11: N\n",
      "Predicted class for sample 12: N\n",
      "Predicted class for sample 13: N\n",
      "Predicted class for sample 14: N\n",
      "Predicted class for sample 15: N\n",
      "Predicted class for sample 16: N\n",
      "Predicted class for sample 17: S\n",
      "Predicted class for sample 18: N\n",
      "Predicted class for sample 19: N\n",
      "Predicted class for sample 20: N\n"
     ]
    }
   ],
   "source": [
    "loaded_model = CNN1D(num_classes).to(device)  # Reinitialize model with the same architecture\n",
    "loaded_model.load_state_dict(torch.load(model_path, weights_only=True))\n",
    "\n",
    "print(\"Model loaded successfully.\")\n",
    "\n",
    "sample_inputs = X_test_tensor[:20]  # Take the first 20 samples\n",
    "sample_inputs = sample_inputs.to(device) \n",
    "\n",
    "with torch.no_grad():\n",
    "    outputs = loaded_model(sample_inputs)\n",
    "    _, predicted_classes = torch.max(outputs, 1) \n",
    "\n",
    "predicted_labels = label_encoder.inverse_transform(predicted_classes.cpu().numpy())  # Move to CPU for numpy conversion\n",
    "\n",
    "for i, label in enumerate(predicted_labels):\n",
    "    print(f\"Predicted class for sample {i + 1}: {label}\")"
   ]
  },
  {
   "cell_type": "markdown",
   "metadata": {},
   "source": [
    "# Transformers"
   ]
  },
  {
   "cell_type": "code",
   "execution_count": null,
   "metadata": {},
   "outputs": [],
   "source": []
  }
 ],
 "metadata": {
  "kernelspec": {
   "display_name": ".venv",
   "language": "python",
   "name": "python3"
  },
  "language_info": {
   "codemirror_mode": {
    "name": "ipython",
    "version": 3
   },
   "file_extension": ".py",
   "mimetype": "text/x-python",
   "name": "python",
   "nbconvert_exporter": "python",
   "pygments_lexer": "ipython3",
   "version": "3.11.0"
  }
 },
 "nbformat": 4,
 "nbformat_minor": 2
}
