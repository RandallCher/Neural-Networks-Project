{
 "cells": [
  {
   "cell_type": "markdown",
   "metadata": {},
   "source": [
    "https://www.kaggle.com/code/cyrillecervantes/arrhythmia-detection-using-transformer#Transformer-Model"
   ]
  },
  {
   "cell_type": "code",
<<<<<<< HEAD
   "execution_count": 28,
=======
   "execution_count": 2,
>>>>>>> 846e6051f1444a6e079d14d62446b41eae1460ec
   "metadata": {},
   "outputs": [
    {
     "name": "stdout",
     "output_type": "stream",
     "text": [
      "PyTorch version: 2.5.0+cu118\n",
      "CUDA available: True\n",
      "Current CUDA device index: 0\n",
      "CUDA device name: NVIDIA GeForce RTX 3070\n"
     ]
    }
   ],
   "source": [
    "import torch\n",
    "print(\"PyTorch version:\", torch.__version__)\n",
    "\n",
    "# Check if CUDA is available\n",
    "print(\"CUDA available:\", torch.cuda.is_available())\n",
    "\n",
    "# Get current CUDA device index (if available)\n",
    "if torch.cuda.is_available():\n",
    "    print(\"Current CUDA device index:\", torch.cuda.current_device())\n",
    "    print(\"CUDA device name:\", torch.cuda.get_device_name(torch.cuda.current_device()))\n",
    "else:\n",
    "    print(\"No CUDA devices found.\")"
   ]
  },
  {
   "cell_type": "code",
<<<<<<< HEAD
   "execution_count": 63,
=======
   "execution_count": 3,
>>>>>>> 846e6051f1444a6e079d14d62446b41eae1460ec
   "metadata": {},
   "outputs": [],
   "source": [
    "import pandas as pd\n",
    "import numpy as np\n",
    "import copy\n",
    "\n",
    "from torch import nn, optim\n",
    "import torch.nn.functional as F\n",
    "from sklearn.model_selection import train_test_split\n",
    "from sklearn.preprocessing import LabelEncoder\n",
    "import tensorflow as tf\n",
    "from sklearn.utils import class_weight, resample\n",
    "from keras.utils import to_categorical\n",
    "from keras.metrics import Precision,Recall\n",
    "from keras import Model\n",
    "\n",
    "import matplotlib.pyplot as plt\n",
    "\n",
    "import os\n",
    "dataframes = {}\n",
    "directory_path = 'Heartbeat_Dataset'\n",
    "all_files = os.listdir(directory_path)\n",
    "\n",
    "for file in os.listdir(directory_path):\n",
    "    if file.endswith('.csv'):\n",
    "        file_path = os.path.join(directory_path, file)\n",
    "        # Remove the .csv extension for the DataFrame name\n",
    "        df_name = os.path.splitext(file)[0]\n",
    "        dataframes[df_name] = pd.read_csv(file_path, header= None)\n"
<<<<<<< HEAD
   ]
  },
  {
   "cell_type": "code",
   "execution_count": 30,
   "metadata": {},
   "outputs": [
    {
     "name": "stdout",
     "output_type": "stream",
     "text": [
      "dict_keys(['mitbih_test', 'mitbih_train', 'ptbdb_abnormal', 'ptbdb_normal'])\n"
     ]
    }
   ],
   "source": [
    "print(dataframes.keys())"
=======
>>>>>>> 846e6051f1444a6e079d14d62446b41eae1460ec
   ]
  },
  {
   "cell_type": "code",
   "execution_count": 65,
   "metadata": {},
   "outputs": [
    {
     "name": "stdout",
     "output_type": "stream",
     "text": [
      "dict_keys(['mitbih_test', 'mitbih_train', 'ptbdb_abnormal', 'ptbdb_normal'])\n"
     ]
    }
   ],
   "source": [
<<<<<<< HEAD
    "train_df = dataframes['mitbih_train']\n"
=======
    "print(dataframes.keys())"
>>>>>>> 846e6051f1444a6e079d14d62446b41eae1460ec
   ]
  },
  {
   "cell_type": "code",
   "execution_count": 32,
   "metadata": {},
   "outputs": [],
   "source": [
<<<<<<< HEAD
    "# train_df = pd.read_csv(\"augmented_data/train_data.csv\", header= None)\n",
    "# train_df = train_df.iloc[1:].reset_index(drop=True)"
=======
    "train_df = dataframes['mitbih_train']\n"
>>>>>>> 846e6051f1444a6e079d14d62446b41eae1460ec
   ]
  },
  {
   "cell_type": "code",
   "execution_count": 66,
   "metadata": {},
<<<<<<< HEAD
   "outputs": [
    {
     "data": {
      "text/html": [
       "<div>\n",
       "<style scoped>\n",
       "    .dataframe tbody tr th:only-of-type {\n",
       "        vertical-align: middle;\n",
       "    }\n",
       "\n",
       "    .dataframe tbody tr th {\n",
       "        vertical-align: top;\n",
       "    }\n",
       "\n",
       "    .dataframe thead th {\n",
       "        text-align: right;\n",
       "    }\n",
       "</style>\n",
       "<table border=\"1\" class=\"dataframe\">\n",
       "  <thead>\n",
       "    <tr style=\"text-align: right;\">\n",
       "      <th></th>\n",
       "      <th>0</th>\n",
       "      <th>1</th>\n",
       "      <th>2</th>\n",
       "      <th>3</th>\n",
       "      <th>4</th>\n",
       "      <th>5</th>\n",
       "      <th>6</th>\n",
       "      <th>7</th>\n",
       "      <th>8</th>\n",
       "      <th>9</th>\n",
       "      <th>...</th>\n",
       "      <th>178</th>\n",
       "      <th>179</th>\n",
       "      <th>180</th>\n",
       "      <th>181</th>\n",
       "      <th>182</th>\n",
       "      <th>183</th>\n",
       "      <th>184</th>\n",
       "      <th>185</th>\n",
       "      <th>186</th>\n",
       "      <th>187</th>\n",
       "    </tr>\n",
       "  </thead>\n",
       "  <tbody>\n",
       "    <tr>\n",
       "      <th>0</th>\n",
       "      <td>0.977941</td>\n",
       "      <td>0.926471</td>\n",
       "      <td>0.681373</td>\n",
       "      <td>0.245098</td>\n",
       "      <td>0.154412</td>\n",
       "      <td>0.191176</td>\n",
       "      <td>0.151961</td>\n",
       "      <td>0.085784</td>\n",
       "      <td>0.058824</td>\n",
       "      <td>0.049020</td>\n",
       "      <td>...</td>\n",
       "      <td>0.0</td>\n",
       "      <td>0.0</td>\n",
       "      <td>0.0</td>\n",
       "      <td>0.0</td>\n",
       "      <td>0.0</td>\n",
       "      <td>0.0</td>\n",
       "      <td>0.0</td>\n",
       "      <td>0.0</td>\n",
       "      <td>0.0</td>\n",
       "      <td>0.0</td>\n",
       "    </tr>\n",
       "    <tr>\n",
       "      <th>1</th>\n",
       "      <td>0.960114</td>\n",
       "      <td>0.863248</td>\n",
       "      <td>0.461538</td>\n",
       "      <td>0.196581</td>\n",
       "      <td>0.094017</td>\n",
       "      <td>0.125356</td>\n",
       "      <td>0.099715</td>\n",
       "      <td>0.088319</td>\n",
       "      <td>0.074074</td>\n",
       "      <td>0.082621</td>\n",
       "      <td>...</td>\n",
       "      <td>0.0</td>\n",
       "      <td>0.0</td>\n",
       "      <td>0.0</td>\n",
       "      <td>0.0</td>\n",
       "      <td>0.0</td>\n",
       "      <td>0.0</td>\n",
       "      <td>0.0</td>\n",
       "      <td>0.0</td>\n",
       "      <td>0.0</td>\n",
       "      <td>0.0</td>\n",
       "    </tr>\n",
       "    <tr>\n",
       "      <th>2</th>\n",
       "      <td>1.000000</td>\n",
       "      <td>0.659459</td>\n",
       "      <td>0.186486</td>\n",
       "      <td>0.070270</td>\n",
       "      <td>0.070270</td>\n",
       "      <td>0.059459</td>\n",
       "      <td>0.056757</td>\n",
       "      <td>0.043243</td>\n",
       "      <td>0.054054</td>\n",
       "      <td>0.045946</td>\n",
       "      <td>...</td>\n",
       "      <td>0.0</td>\n",
       "      <td>0.0</td>\n",
       "      <td>0.0</td>\n",
       "      <td>0.0</td>\n",
       "      <td>0.0</td>\n",
       "      <td>0.0</td>\n",
       "      <td>0.0</td>\n",
       "      <td>0.0</td>\n",
       "      <td>0.0</td>\n",
       "      <td>0.0</td>\n",
       "    </tr>\n",
       "    <tr>\n",
       "      <th>3</th>\n",
       "      <td>0.925414</td>\n",
       "      <td>0.665746</td>\n",
       "      <td>0.541436</td>\n",
       "      <td>0.276243</td>\n",
       "      <td>0.196133</td>\n",
       "      <td>0.077348</td>\n",
       "      <td>0.071823</td>\n",
       "      <td>0.060773</td>\n",
       "      <td>0.066298</td>\n",
       "      <td>0.058011</td>\n",
       "      <td>...</td>\n",
       "      <td>0.0</td>\n",
       "      <td>0.0</td>\n",
       "      <td>0.0</td>\n",
       "      <td>0.0</td>\n",
       "      <td>0.0</td>\n",
       "      <td>0.0</td>\n",
       "      <td>0.0</td>\n",
       "      <td>0.0</td>\n",
       "      <td>0.0</td>\n",
       "      <td>0.0</td>\n",
       "    </tr>\n",
       "    <tr>\n",
       "      <th>4</th>\n",
       "      <td>0.967136</td>\n",
       "      <td>1.000000</td>\n",
       "      <td>0.830986</td>\n",
       "      <td>0.586854</td>\n",
       "      <td>0.356808</td>\n",
       "      <td>0.248826</td>\n",
       "      <td>0.145540</td>\n",
       "      <td>0.089202</td>\n",
       "      <td>0.117371</td>\n",
       "      <td>0.150235</td>\n",
       "      <td>...</td>\n",
       "      <td>0.0</td>\n",
       "      <td>0.0</td>\n",
       "      <td>0.0</td>\n",
       "      <td>0.0</td>\n",
       "      <td>0.0</td>\n",
       "      <td>0.0</td>\n",
       "      <td>0.0</td>\n",
       "      <td>0.0</td>\n",
       "      <td>0.0</td>\n",
       "      <td>0.0</td>\n",
       "    </tr>\n",
       "    <tr>\n",
       "      <th>...</th>\n",
       "      <td>...</td>\n",
       "      <td>...</td>\n",
       "      <td>...</td>\n",
       "      <td>...</td>\n",
       "      <td>...</td>\n",
       "      <td>...</td>\n",
       "      <td>...</td>\n",
       "      <td>...</td>\n",
       "      <td>...</td>\n",
       "      <td>...</td>\n",
       "      <td>...</td>\n",
       "      <td>...</td>\n",
       "      <td>...</td>\n",
       "      <td>...</td>\n",
       "      <td>...</td>\n",
       "      <td>...</td>\n",
       "      <td>...</td>\n",
       "      <td>...</td>\n",
       "      <td>...</td>\n",
       "      <td>...</td>\n",
       "      <td>...</td>\n",
       "    </tr>\n",
       "    <tr>\n",
       "      <th>87549</th>\n",
       "      <td>0.807018</td>\n",
       "      <td>0.494737</td>\n",
       "      <td>0.536842</td>\n",
       "      <td>0.529825</td>\n",
       "      <td>0.491228</td>\n",
       "      <td>0.484211</td>\n",
       "      <td>0.456140</td>\n",
       "      <td>0.396491</td>\n",
       "      <td>0.284211</td>\n",
       "      <td>0.136842</td>\n",
       "      <td>...</td>\n",
       "      <td>0.0</td>\n",
       "      <td>0.0</td>\n",
       "      <td>0.0</td>\n",
       "      <td>0.0</td>\n",
       "      <td>0.0</td>\n",
       "      <td>0.0</td>\n",
       "      <td>0.0</td>\n",
       "      <td>0.0</td>\n",
       "      <td>0.0</td>\n",
       "      <td>4.0</td>\n",
       "    </tr>\n",
       "    <tr>\n",
       "      <th>87550</th>\n",
       "      <td>0.718333</td>\n",
       "      <td>0.605000</td>\n",
       "      <td>0.486667</td>\n",
       "      <td>0.361667</td>\n",
       "      <td>0.231667</td>\n",
       "      <td>0.120000</td>\n",
       "      <td>0.051667</td>\n",
       "      <td>0.001667</td>\n",
       "      <td>0.000000</td>\n",
       "      <td>0.013333</td>\n",
       "      <td>...</td>\n",
       "      <td>0.0</td>\n",
       "      <td>0.0</td>\n",
       "      <td>0.0</td>\n",
       "      <td>0.0</td>\n",
       "      <td>0.0</td>\n",
       "      <td>0.0</td>\n",
       "      <td>0.0</td>\n",
       "      <td>0.0</td>\n",
       "      <td>0.0</td>\n",
       "      <td>4.0</td>\n",
       "    </tr>\n",
       "    <tr>\n",
       "      <th>87551</th>\n",
       "      <td>0.906122</td>\n",
       "      <td>0.624490</td>\n",
       "      <td>0.595918</td>\n",
       "      <td>0.575510</td>\n",
       "      <td>0.530612</td>\n",
       "      <td>0.481633</td>\n",
       "      <td>0.444898</td>\n",
       "      <td>0.387755</td>\n",
       "      <td>0.322449</td>\n",
       "      <td>0.191837</td>\n",
       "      <td>...</td>\n",
       "      <td>0.0</td>\n",
       "      <td>0.0</td>\n",
       "      <td>0.0</td>\n",
       "      <td>0.0</td>\n",
       "      <td>0.0</td>\n",
       "      <td>0.0</td>\n",
       "      <td>0.0</td>\n",
       "      <td>0.0</td>\n",
       "      <td>0.0</td>\n",
       "      <td>4.0</td>\n",
       "    </tr>\n",
       "    <tr>\n",
       "      <th>87552</th>\n",
       "      <td>0.858228</td>\n",
       "      <td>0.645570</td>\n",
       "      <td>0.845570</td>\n",
       "      <td>0.248101</td>\n",
       "      <td>0.167089</td>\n",
       "      <td>0.131646</td>\n",
       "      <td>0.121519</td>\n",
       "      <td>0.121519</td>\n",
       "      <td>0.118987</td>\n",
       "      <td>0.103797</td>\n",
       "      <td>...</td>\n",
       "      <td>0.0</td>\n",
       "      <td>0.0</td>\n",
       "      <td>0.0</td>\n",
       "      <td>0.0</td>\n",
       "      <td>0.0</td>\n",
       "      <td>0.0</td>\n",
       "      <td>0.0</td>\n",
       "      <td>0.0</td>\n",
       "      <td>0.0</td>\n",
       "      <td>4.0</td>\n",
       "    </tr>\n",
       "    <tr>\n",
       "      <th>87553</th>\n",
       "      <td>0.901506</td>\n",
       "      <td>0.845886</td>\n",
       "      <td>0.800695</td>\n",
       "      <td>0.748552</td>\n",
       "      <td>0.687138</td>\n",
       "      <td>0.599073</td>\n",
       "      <td>0.512167</td>\n",
       "      <td>0.427578</td>\n",
       "      <td>0.395133</td>\n",
       "      <td>0.402086</td>\n",
       "      <td>...</td>\n",
       "      <td>0.0</td>\n",
       "      <td>0.0</td>\n",
       "      <td>0.0</td>\n",
       "      <td>0.0</td>\n",
       "      <td>0.0</td>\n",
       "      <td>0.0</td>\n",
       "      <td>0.0</td>\n",
       "      <td>0.0</td>\n",
       "      <td>0.0</td>\n",
       "      <td>4.0</td>\n",
       "    </tr>\n",
       "  </tbody>\n",
       "</table>\n",
       "<p>87554 rows × 188 columns</p>\n",
       "</div>"
      ],
      "text/plain": [
       "            0         1         2         3         4         5         6    \\\n",
       "0      0.977941  0.926471  0.681373  0.245098  0.154412  0.191176  0.151961   \n",
       "1      0.960114  0.863248  0.461538  0.196581  0.094017  0.125356  0.099715   \n",
       "2      1.000000  0.659459  0.186486  0.070270  0.070270  0.059459  0.056757   \n",
       "3      0.925414  0.665746  0.541436  0.276243  0.196133  0.077348  0.071823   \n",
       "4      0.967136  1.000000  0.830986  0.586854  0.356808  0.248826  0.145540   \n",
       "...         ...       ...       ...       ...       ...       ...       ...   \n",
       "87549  0.807018  0.494737  0.536842  0.529825  0.491228  0.484211  0.456140   \n",
       "87550  0.718333  0.605000  0.486667  0.361667  0.231667  0.120000  0.051667   \n",
       "87551  0.906122  0.624490  0.595918  0.575510  0.530612  0.481633  0.444898   \n",
       "87552  0.858228  0.645570  0.845570  0.248101  0.167089  0.131646  0.121519   \n",
       "87553  0.901506  0.845886  0.800695  0.748552  0.687138  0.599073  0.512167   \n",
       "\n",
       "            7         8         9    ...  178  179  180  181  182  183  184  \\\n",
       "0      0.085784  0.058824  0.049020  ...  0.0  0.0  0.0  0.0  0.0  0.0  0.0   \n",
       "1      0.088319  0.074074  0.082621  ...  0.0  0.0  0.0  0.0  0.0  0.0  0.0   \n",
       "2      0.043243  0.054054  0.045946  ...  0.0  0.0  0.0  0.0  0.0  0.0  0.0   \n",
       "3      0.060773  0.066298  0.058011  ...  0.0  0.0  0.0  0.0  0.0  0.0  0.0   \n",
       "4      0.089202  0.117371  0.150235  ...  0.0  0.0  0.0  0.0  0.0  0.0  0.0   \n",
       "...         ...       ...       ...  ...  ...  ...  ...  ...  ...  ...  ...   \n",
       "87549  0.396491  0.284211  0.136842  ...  0.0  0.0  0.0  0.0  0.0  0.0  0.0   \n",
       "87550  0.001667  0.000000  0.013333  ...  0.0  0.0  0.0  0.0  0.0  0.0  0.0   \n",
       "87551  0.387755  0.322449  0.191837  ...  0.0  0.0  0.0  0.0  0.0  0.0  0.0   \n",
       "87552  0.121519  0.118987  0.103797  ...  0.0  0.0  0.0  0.0  0.0  0.0  0.0   \n",
       "87553  0.427578  0.395133  0.402086  ...  0.0  0.0  0.0  0.0  0.0  0.0  0.0   \n",
       "\n",
       "       185  186  187  \n",
       "0      0.0  0.0  0.0  \n",
       "1      0.0  0.0  0.0  \n",
       "2      0.0  0.0  0.0  \n",
       "3      0.0  0.0  0.0  \n",
       "4      0.0  0.0  0.0  \n",
       "...    ...  ...  ...  \n",
       "87549  0.0  0.0  4.0  \n",
       "87550  0.0  0.0  4.0  \n",
       "87551  0.0  0.0  4.0  \n",
       "87552  0.0  0.0  4.0  \n",
       "87553  0.0  0.0  4.0  \n",
       "\n",
       "[87554 rows x 188 columns]"
      ]
     },
     "execution_count": 66,
     "metadata": {},
     "output_type": "execute_result"
    }
   ],
   "source": [
    "train_df"
=======
   "outputs": [],
   "source": [
    "# train_df.iloc[1].plot()"
>>>>>>> 846e6051f1444a6e079d14d62446b41eae1460ec
   ]
  },
  {
   "cell_type": "code",
   "execution_count": 67,
   "metadata": {},
   "outputs": [
    {
     "data": {
      "text/plain": [
       "(87554, 188)"
      ]
     },
     "execution_count": 67,
     "metadata": {},
     "output_type": "execute_result"
    }
   ],
   "source": [
    "train_df.shape"
   ]
  },
  {
   "cell_type": "code",
   "execution_count": 73,
   "metadata": {},
   "outputs": [
    {
<<<<<<< HEAD
     "name": "stdout",
     "output_type": "stream",
     "text": [
      "Number of samples in train data: 87554\n",
      "Train dataset class distribution\n"
     ]
    },
    {
     "ename": "ValueError",
     "evalue": "invalid literal for int() with base 10: 'N'",
     "output_type": "error",
     "traceback": [
      "\u001b[1;31m---------------------------------------------------------------------------\u001b[0m",
      "\u001b[1;31mValueError\u001b[0m                                Traceback (most recent call last)",
      "Cell \u001b[1;32mIn[73], line 6\u001b[0m\n\u001b[0;32m      3\u001b[0m \u001b[38;5;66;03m# Check distribution of classes in test and train sets\u001b[39;00m\n\u001b[0;32m      4\u001b[0m \u001b[38;5;28mprint\u001b[39m(\u001b[38;5;124m\"\u001b[39m\u001b[38;5;124mTrain dataset class distribution\u001b[39m\u001b[38;5;124m\"\u001b[39m)\n\u001b[1;32m----> 6\u001b[0m train_df\u001b[38;5;241m.\u001b[39miloc[:, \u001b[38;5;241m-\u001b[39m\u001b[38;5;241m1\u001b[39m] \u001b[38;5;241m=\u001b[39m \u001b[43mtrain_df\u001b[49m\u001b[38;5;241;43m.\u001b[39;49m\u001b[43miloc\u001b[49m\u001b[43m[\u001b[49m\u001b[43m:\u001b[49m\u001b[43m,\u001b[49m\u001b[43m \u001b[49m\u001b[38;5;241;43m-\u001b[39;49m\u001b[38;5;241;43m1\u001b[39;49m\u001b[43m]\u001b[49m\u001b[38;5;241;43m.\u001b[39;49m\u001b[43mastype\u001b[49m\u001b[43m(\u001b[49m\u001b[38;5;28;43mint\u001b[39;49m\u001b[43m)\u001b[49m\n\u001b[0;32m      7\u001b[0m \u001b[38;5;28mprint\u001b[39m(train_df\u001b[38;5;241m.\u001b[39miloc[:, \u001b[38;5;241m-\u001b[39m\u001b[38;5;241m1\u001b[39m]\u001b[38;5;241m.\u001b[39mvalue_counts())\n",
      "File \u001b[1;32mc:\\Users\\randa\\OneDrive\\Documents\\GitHub\\Neural-Networks-Project\\.venv\\Lib\\site-packages\\pandas\\core\\generic.py:6643\u001b[0m, in \u001b[0;36mNDFrame.astype\u001b[1;34m(self, dtype, copy, errors)\u001b[0m\n\u001b[0;32m   6637\u001b[0m     results \u001b[38;5;241m=\u001b[39m [\n\u001b[0;32m   6638\u001b[0m         ser\u001b[38;5;241m.\u001b[39mastype(dtype, copy\u001b[38;5;241m=\u001b[39mcopy, errors\u001b[38;5;241m=\u001b[39merrors) \u001b[38;5;28;01mfor\u001b[39;00m _, ser \u001b[38;5;129;01min\u001b[39;00m \u001b[38;5;28mself\u001b[39m\u001b[38;5;241m.\u001b[39mitems()\n\u001b[0;32m   6639\u001b[0m     ]\n\u001b[0;32m   6641\u001b[0m \u001b[38;5;28;01melse\u001b[39;00m:\n\u001b[0;32m   6642\u001b[0m     \u001b[38;5;66;03m# else, only a single dtype is given\u001b[39;00m\n\u001b[1;32m-> 6643\u001b[0m     new_data \u001b[38;5;241m=\u001b[39m \u001b[38;5;28;43mself\u001b[39;49m\u001b[38;5;241;43m.\u001b[39;49m\u001b[43m_mgr\u001b[49m\u001b[38;5;241;43m.\u001b[39;49m\u001b[43mastype\u001b[49m\u001b[43m(\u001b[49m\u001b[43mdtype\u001b[49m\u001b[38;5;241;43m=\u001b[39;49m\u001b[43mdtype\u001b[49m\u001b[43m,\u001b[49m\u001b[43m \u001b[49m\u001b[43mcopy\u001b[49m\u001b[38;5;241;43m=\u001b[39;49m\u001b[43mcopy\u001b[49m\u001b[43m,\u001b[49m\u001b[43m \u001b[49m\u001b[43merrors\u001b[49m\u001b[38;5;241;43m=\u001b[39;49m\u001b[43merrors\u001b[49m\u001b[43m)\u001b[49m\n\u001b[0;32m   6644\u001b[0m     res \u001b[38;5;241m=\u001b[39m \u001b[38;5;28mself\u001b[39m\u001b[38;5;241m.\u001b[39m_constructor_from_mgr(new_data, axes\u001b[38;5;241m=\u001b[39mnew_data\u001b[38;5;241m.\u001b[39maxes)\n\u001b[0;32m   6645\u001b[0m     \u001b[38;5;28;01mreturn\u001b[39;00m res\u001b[38;5;241m.\u001b[39m__finalize__(\u001b[38;5;28mself\u001b[39m, method\u001b[38;5;241m=\u001b[39m\u001b[38;5;124m\"\u001b[39m\u001b[38;5;124mastype\u001b[39m\u001b[38;5;124m\"\u001b[39m)\n",
      "File \u001b[1;32mc:\\Users\\randa\\OneDrive\\Documents\\GitHub\\Neural-Networks-Project\\.venv\\Lib\\site-packages\\pandas\\core\\internals\\managers.py:430\u001b[0m, in \u001b[0;36mBaseBlockManager.astype\u001b[1;34m(self, dtype, copy, errors)\u001b[0m\n\u001b[0;32m    427\u001b[0m \u001b[38;5;28;01melif\u001b[39;00m using_copy_on_write():\n\u001b[0;32m    428\u001b[0m     copy \u001b[38;5;241m=\u001b[39m \u001b[38;5;28;01mFalse\u001b[39;00m\n\u001b[1;32m--> 430\u001b[0m \u001b[38;5;28;01mreturn\u001b[39;00m \u001b[38;5;28;43mself\u001b[39;49m\u001b[38;5;241;43m.\u001b[39;49m\u001b[43mapply\u001b[49m\u001b[43m(\u001b[49m\n\u001b[0;32m    431\u001b[0m \u001b[43m    \u001b[49m\u001b[38;5;124;43m\"\u001b[39;49m\u001b[38;5;124;43mastype\u001b[39;49m\u001b[38;5;124;43m\"\u001b[39;49m\u001b[43m,\u001b[49m\n\u001b[0;32m    432\u001b[0m \u001b[43m    \u001b[49m\u001b[43mdtype\u001b[49m\u001b[38;5;241;43m=\u001b[39;49m\u001b[43mdtype\u001b[49m\u001b[43m,\u001b[49m\n\u001b[0;32m    433\u001b[0m \u001b[43m    \u001b[49m\u001b[43mcopy\u001b[49m\u001b[38;5;241;43m=\u001b[39;49m\u001b[43mcopy\u001b[49m\u001b[43m,\u001b[49m\n\u001b[0;32m    434\u001b[0m \u001b[43m    \u001b[49m\u001b[43merrors\u001b[49m\u001b[38;5;241;43m=\u001b[39;49m\u001b[43merrors\u001b[49m\u001b[43m,\u001b[49m\n\u001b[0;32m    435\u001b[0m \u001b[43m    \u001b[49m\u001b[43musing_cow\u001b[49m\u001b[38;5;241;43m=\u001b[39;49m\u001b[43musing_copy_on_write\u001b[49m\u001b[43m(\u001b[49m\u001b[43m)\u001b[49m\u001b[43m,\u001b[49m\n\u001b[0;32m    436\u001b[0m \u001b[43m\u001b[49m\u001b[43m)\u001b[49m\n",
      "File \u001b[1;32mc:\\Users\\randa\\OneDrive\\Documents\\GitHub\\Neural-Networks-Project\\.venv\\Lib\\site-packages\\pandas\\core\\internals\\managers.py:363\u001b[0m, in \u001b[0;36mBaseBlockManager.apply\u001b[1;34m(self, f, align_keys, **kwargs)\u001b[0m\n\u001b[0;32m    361\u001b[0m         applied \u001b[38;5;241m=\u001b[39m b\u001b[38;5;241m.\u001b[39mapply(f, \u001b[38;5;241m*\u001b[39m\u001b[38;5;241m*\u001b[39mkwargs)\n\u001b[0;32m    362\u001b[0m     \u001b[38;5;28;01melse\u001b[39;00m:\n\u001b[1;32m--> 363\u001b[0m         applied \u001b[38;5;241m=\u001b[39m \u001b[38;5;28;43mgetattr\u001b[39;49m\u001b[43m(\u001b[49m\u001b[43mb\u001b[49m\u001b[43m,\u001b[49m\u001b[43m \u001b[49m\u001b[43mf\u001b[49m\u001b[43m)\u001b[49m\u001b[43m(\u001b[49m\u001b[38;5;241;43m*\u001b[39;49m\u001b[38;5;241;43m*\u001b[39;49m\u001b[43mkwargs\u001b[49m\u001b[43m)\u001b[49m\n\u001b[0;32m    364\u001b[0m     result_blocks \u001b[38;5;241m=\u001b[39m extend_blocks(applied, result_blocks)\n\u001b[0;32m    366\u001b[0m out \u001b[38;5;241m=\u001b[39m \u001b[38;5;28mtype\u001b[39m(\u001b[38;5;28mself\u001b[39m)\u001b[38;5;241m.\u001b[39mfrom_blocks(result_blocks, \u001b[38;5;28mself\u001b[39m\u001b[38;5;241m.\u001b[39maxes)\n",
      "File \u001b[1;32mc:\\Users\\randa\\OneDrive\\Documents\\GitHub\\Neural-Networks-Project\\.venv\\Lib\\site-packages\\pandas\\core\\internals\\blocks.py:758\u001b[0m, in \u001b[0;36mBlock.astype\u001b[1;34m(self, dtype, copy, errors, using_cow, squeeze)\u001b[0m\n\u001b[0;32m    755\u001b[0m         \u001b[38;5;28;01mraise\u001b[39;00m \u001b[38;5;167;01mValueError\u001b[39;00m(\u001b[38;5;124m\"\u001b[39m\u001b[38;5;124mCan not squeeze with more than one column.\u001b[39m\u001b[38;5;124m\"\u001b[39m)\n\u001b[0;32m    756\u001b[0m     values \u001b[38;5;241m=\u001b[39m values[\u001b[38;5;241m0\u001b[39m, :]  \u001b[38;5;66;03m# type: ignore[call-overload]\u001b[39;00m\n\u001b[1;32m--> 758\u001b[0m new_values \u001b[38;5;241m=\u001b[39m \u001b[43mastype_array_safe\u001b[49m\u001b[43m(\u001b[49m\u001b[43mvalues\u001b[49m\u001b[43m,\u001b[49m\u001b[43m \u001b[49m\u001b[43mdtype\u001b[49m\u001b[43m,\u001b[49m\u001b[43m \u001b[49m\u001b[43mcopy\u001b[49m\u001b[38;5;241;43m=\u001b[39;49m\u001b[43mcopy\u001b[49m\u001b[43m,\u001b[49m\u001b[43m \u001b[49m\u001b[43merrors\u001b[49m\u001b[38;5;241;43m=\u001b[39;49m\u001b[43merrors\u001b[49m\u001b[43m)\u001b[49m\n\u001b[0;32m    760\u001b[0m new_values \u001b[38;5;241m=\u001b[39m maybe_coerce_values(new_values)\n\u001b[0;32m    762\u001b[0m refs \u001b[38;5;241m=\u001b[39m \u001b[38;5;28;01mNone\u001b[39;00m\n",
      "File \u001b[1;32mc:\\Users\\randa\\OneDrive\\Documents\\GitHub\\Neural-Networks-Project\\.venv\\Lib\\site-packages\\pandas\\core\\dtypes\\astype.py:237\u001b[0m, in \u001b[0;36mastype_array_safe\u001b[1;34m(values, dtype, copy, errors)\u001b[0m\n\u001b[0;32m    234\u001b[0m     dtype \u001b[38;5;241m=\u001b[39m dtype\u001b[38;5;241m.\u001b[39mnumpy_dtype\n\u001b[0;32m    236\u001b[0m \u001b[38;5;28;01mtry\u001b[39;00m:\n\u001b[1;32m--> 237\u001b[0m     new_values \u001b[38;5;241m=\u001b[39m \u001b[43mastype_array\u001b[49m\u001b[43m(\u001b[49m\u001b[43mvalues\u001b[49m\u001b[43m,\u001b[49m\u001b[43m \u001b[49m\u001b[43mdtype\u001b[49m\u001b[43m,\u001b[49m\u001b[43m \u001b[49m\u001b[43mcopy\u001b[49m\u001b[38;5;241;43m=\u001b[39;49m\u001b[43mcopy\u001b[49m\u001b[43m)\u001b[49m\n\u001b[0;32m    238\u001b[0m \u001b[38;5;28;01mexcept\u001b[39;00m (\u001b[38;5;167;01mValueError\u001b[39;00m, \u001b[38;5;167;01mTypeError\u001b[39;00m):\n\u001b[0;32m    239\u001b[0m     \u001b[38;5;66;03m# e.g. _astype_nansafe can fail on object-dtype of strings\u001b[39;00m\n\u001b[0;32m    240\u001b[0m     \u001b[38;5;66;03m#  trying to convert to float\u001b[39;00m\n\u001b[0;32m    241\u001b[0m     \u001b[38;5;28;01mif\u001b[39;00m errors \u001b[38;5;241m==\u001b[39m \u001b[38;5;124m\"\u001b[39m\u001b[38;5;124mignore\u001b[39m\u001b[38;5;124m\"\u001b[39m:\n",
      "File \u001b[1;32mc:\\Users\\randa\\OneDrive\\Documents\\GitHub\\Neural-Networks-Project\\.venv\\Lib\\site-packages\\pandas\\core\\dtypes\\astype.py:182\u001b[0m, in \u001b[0;36mastype_array\u001b[1;34m(values, dtype, copy)\u001b[0m\n\u001b[0;32m    179\u001b[0m     values \u001b[38;5;241m=\u001b[39m values\u001b[38;5;241m.\u001b[39mastype(dtype, copy\u001b[38;5;241m=\u001b[39mcopy)\n\u001b[0;32m    181\u001b[0m \u001b[38;5;28;01melse\u001b[39;00m:\n\u001b[1;32m--> 182\u001b[0m     values \u001b[38;5;241m=\u001b[39m \u001b[43m_astype_nansafe\u001b[49m\u001b[43m(\u001b[49m\u001b[43mvalues\u001b[49m\u001b[43m,\u001b[49m\u001b[43m \u001b[49m\u001b[43mdtype\u001b[49m\u001b[43m,\u001b[49m\u001b[43m \u001b[49m\u001b[43mcopy\u001b[49m\u001b[38;5;241;43m=\u001b[39;49m\u001b[43mcopy\u001b[49m\u001b[43m)\u001b[49m\n\u001b[0;32m    184\u001b[0m \u001b[38;5;66;03m# in pandas we don't store numpy str dtypes, so convert to object\u001b[39;00m\n\u001b[0;32m    185\u001b[0m \u001b[38;5;28;01mif\u001b[39;00m \u001b[38;5;28misinstance\u001b[39m(dtype, np\u001b[38;5;241m.\u001b[39mdtype) \u001b[38;5;129;01mand\u001b[39;00m \u001b[38;5;28missubclass\u001b[39m(values\u001b[38;5;241m.\u001b[39mdtype\u001b[38;5;241m.\u001b[39mtype, \u001b[38;5;28mstr\u001b[39m):\n",
      "File \u001b[1;32mc:\\Users\\randa\\OneDrive\\Documents\\GitHub\\Neural-Networks-Project\\.venv\\Lib\\site-packages\\pandas\\core\\dtypes\\astype.py:133\u001b[0m, in \u001b[0;36m_astype_nansafe\u001b[1;34m(arr, dtype, copy, skipna)\u001b[0m\n\u001b[0;32m    129\u001b[0m     \u001b[38;5;28;01mraise\u001b[39;00m \u001b[38;5;167;01mValueError\u001b[39;00m(msg)\n\u001b[0;32m    131\u001b[0m \u001b[38;5;28;01mif\u001b[39;00m copy \u001b[38;5;129;01mor\u001b[39;00m arr\u001b[38;5;241m.\u001b[39mdtype \u001b[38;5;241m==\u001b[39m \u001b[38;5;28mobject\u001b[39m \u001b[38;5;129;01mor\u001b[39;00m dtype \u001b[38;5;241m==\u001b[39m \u001b[38;5;28mobject\u001b[39m:\n\u001b[0;32m    132\u001b[0m     \u001b[38;5;66;03m# Explicit copy, or required since NumPy can't view from / to object.\u001b[39;00m\n\u001b[1;32m--> 133\u001b[0m     \u001b[38;5;28;01mreturn\u001b[39;00m \u001b[43marr\u001b[49m\u001b[38;5;241;43m.\u001b[39;49m\u001b[43mastype\u001b[49m\u001b[43m(\u001b[49m\u001b[43mdtype\u001b[49m\u001b[43m,\u001b[49m\u001b[43m \u001b[49m\u001b[43mcopy\u001b[49m\u001b[38;5;241;43m=\u001b[39;49m\u001b[38;5;28;43;01mTrue\u001b[39;49;00m\u001b[43m)\u001b[49m\n\u001b[0;32m    135\u001b[0m \u001b[38;5;28;01mreturn\u001b[39;00m arr\u001b[38;5;241m.\u001b[39mastype(dtype, copy\u001b[38;5;241m=\u001b[39mcopy)\n",
      "\u001b[1;31mValueError\u001b[0m: invalid literal for int() with base 10: 'N'"
     ]
    }
   ],
   "source": [
    "print(f\"Number of samples in train data: {train_df.shape[0]}\")\n",
    "\n",
    "# Check distribution of classes in test and train sets\n",
    "print(\"Train dataset class distribution\")\n",
    "\n",
    "train_df.iloc[:, -1] = train_df.iloc[:, -1].astype(int)\n",
    "print(train_df.iloc[:, -1].value_counts())"
   ]
  },
  {
   "cell_type": "code",
   "execution_count": null,
   "metadata": {},
   "outputs": [],
   "source": []
  },
  {
   "cell_type": "code",
   "execution_count": 69,
   "metadata": {},
   "outputs": [],
   "source": [
    "labels = {\n",
    "    0.0: \"N\",\n",
    "    1.0: \"S\",\n",
    "    2.0: \"V\",\n",
    "    3.0: \"F\",\n",
    "    4.0: \"Q\"\n",
    "}"
   ]
  },
  {
   "cell_type": "code",
   "execution_count": 74,
   "metadata": {},
   "outputs": [
    {
     "name": "stdout",
     "output_type": "stream",
     "text": [
      "187\n",
      "N    72471\n",
      "Q     6431\n",
      "V     5788\n",
      "S     2223\n",
      "F      641\n",
      "Name: count, dtype: int64\n"
     ]
    }
   ],
   "source": [
    "train_df.iloc[:, -1] = train_df.iloc[:, -1].replace(labels)\n",
    "train_counts = train_df.iloc[:, -1].value_counts()\n",
    "\n",
    "\n",
    "print(train_counts)\n"
   ]
  },
  {
   "cell_type": "code",
   "execution_count": 38,
   "metadata": {},
   "outputs": [
    {
     "data": {
      "image/png": "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",
      "text/plain": [
       "<Figure size 640x480 with 1 Axes>"
      ]
     },
     "metadata": {},
     "output_type": "display_data"
    }
   ],
   "source": [
    "fig, ax = plt.subplots()  \n",
    "\n",
    "ax.plot(train_df.iloc[0, :186])\n",
    "ax.set_title(train_df.iloc[0, 187]) \n",
    "ax.set_xlabel(\"Index\")\n",
    "ax.set_ylabel(\"Value\")\n",
    "\n",
    "plt.show()"
   ]
  },
  {
   "cell_type": "markdown",
   "metadata": {},
   "source": [
    "# CNN model"
=======
     "data": {
      "text/plain": [
       "(87554, 188)"
      ]
     },
     "execution_count": 7,
     "metadata": {},
     "output_type": "execute_result"
    }
   ],
   "source": [
    "train_df.shape"
>>>>>>> 846e6051f1444a6e079d14d62446b41eae1460ec
   ]
  },
  {
   "cell_type": "code",
   "execution_count": 39,
   "metadata": {},
   "outputs": [
    {
     "name": "stdout",
     "output_type": "stream",
     "text": [
      "Number of samples in train data: 87554\n",
      "Train dataset class distribution\n",
      "187\n",
      "0.0    72471\n",
      "4.0     6431\n",
      "2.0     5788\n",
      "1.0     2223\n",
      "3.0      641\n",
      "Name: count, dtype: int64\n"
     ]
    }
   ],
   "source": [
<<<<<<< HEAD
    "x_data = train_df.iloc[:,:187]\n",
    "y_label = train_df.iloc[:,-1]"
=======
    "print(f\"Number of samples in train data: {train_df.shape[0]}\")\n",
    "\n",
    "# Check distribution of classes in test and train sets\n",
    "print(\"Train dataset class distribution\")\n",
    "\n",
    "train_df.iloc[:, -1] = train_df.iloc[:, -1].astype(int)\n",
    "print(train_df.iloc[:, -1].value_counts())"
>>>>>>> 846e6051f1444a6e079d14d62446b41eae1460ec
   ]
  },
  {
   "cell_type": "code",
   "execution_count": null,
<<<<<<< HEAD
   "metadata": {},
   "outputs": [],
   "source": []
=======
   "metadata": {},
   "outputs": [],
   "source": []
  },
  {
   "cell_type": "code",
   "execution_count": 9,
   "metadata": {},
   "outputs": [],
   "source": [
    "labels = {\n",
    "    0.0: \"N\",\n",
    "    1.0: \"S\",\n",
    "    2.0: \"V\",\n",
    "    3.0: \"F\",\n",
    "    4.0: \"Q\"\n",
    "}"
   ]
>>>>>>> 846e6051f1444a6e079d14d62446b41eae1460ec
  },
  {
   "cell_type": "code",
   "execution_count": 40,
   "metadata": {},
   "outputs": [
    {
     "name": "stdout",
     "output_type": "stream",
     "text": [
      "187\n",
      "N    72471\n",
      "Q     6431\n",
      "V     5788\n",
      "S     2223\n",
      "F      641\n",
      "Name: count, dtype: int64\n"
     ]
    },
    {
     "name": "stderr",
     "output_type": "stream",
     "text": [
      "C:\\Users\\randa\\AppData\\Local\\Temp\\ipykernel_18512\\334857607.py:2: FutureWarning: Setting an item of incompatible dtype is deprecated and will raise in a future error of pandas. Value '0        N\n",
      "1        N\n",
      "2        N\n",
      "3        N\n",
      "4        N\n",
      "        ..\n",
      "87549    Q\n",
      "87550    Q\n",
      "87551    Q\n",
      "87552    Q\n",
      "87553    Q\n",
      "Name: 187, Length: 87554, dtype: object' has dtype incompatible with float64, please explicitly cast to a compatible dtype first.\n",
      "  train_df.iloc[:, -1] = train_df.iloc[:, -1].replace(labels)\n"
     ]
    }
   ],
   "source": [
    "# Rename the values in the last column using the labels dictionary\n",
    "train_df.iloc[:, -1] = train_df.iloc[:, -1].replace(labels)\n",
    "\n",
    "# Now get the value counts for the renamed last column\n",
    "train_counts = train_df.iloc[:, -1].value_counts()\n",
    "\n",
    "# Print the counts\n",
    "print(train_counts)\n"
   ]
  },
  {
   "cell_type": "code",
   "execution_count": 11,
   "metadata": {},
   "outputs": [
    {
     "data": {
      "image/png": "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",
      "text/plain": [
       "<Figure size 640x480 with 1 Axes>"
      ]
     },
     "metadata": {},
     "output_type": "display_data"
    }
   ],
   "source": [
    "fig, ax = plt.subplots()  # Creates a single subplot\n",
    "\n",
    "ax.plot(train_df.iloc[0, :186])\n",
    "ax.set_title(train_df.iloc[0, 187]) \n",
    "ax.set_xlabel(\"Index\")\n",
    "ax.set_ylabel(\"Value\")\n",
    "\n",
    "# Show the plot\n",
    "plt.show()"
   ]
  },
  {
   "cell_type": "markdown",
   "metadata": {},
   "source": [
    "# CNN model"
   ]
  },
  {
   "cell_type": "code",
   "execution_count": 12,
   "metadata": {},
   "outputs": [],
   "source": [
    "x_data = train_df.iloc[:,:187]\n",
    "y_label = train_df.iloc[:,-1]"
   ]
  },
  {
   "cell_type": "code",
   "execution_count": 13,
   "metadata": {},
   "outputs": [],
   "source": [
    "class CNN1D(nn.Module):\n",
    "    def __init__(self, num_classes):\n",
    "        super(CNN1D, self).__init__()\n",
    "        self.conv1 = nn.Conv1d(in_channels=1, out_channels=64, kernel_size=3)\n",
    "        self.pool = nn.MaxPool1d(kernel_size=2)\n",
    "        self.conv2 = nn.Conv1d(64, 128, kernel_size=3)\n",
    "        self.conv3 = nn.Conv1d(128, 256, kernel_size=3)\n",
    "        \n",
<<<<<<< HEAD
    "        \n",
    "        self.flatten = nn.Flatten()\n",
    "        \n",
    "        self.fc1 = nn.Linear(256 * self._get_conv_output_size(187), 256) \n",
=======
    "        # Calculate the output size after the convolutional and pooling layers\n",
    "        self.flatten = nn.Flatten()\n",
    "        # The input length to the first linear layer needs to be calculated\n",
    "        self.fc1 = nn.Linear(256 * self._get_conv_output_size(187), 256)  # Adjust this based on output size\n",
>>>>>>> 846e6051f1444a6e079d14d62446b41eae1460ec
    "        self.dropout = nn.Dropout(0.5)\n",
    "        self.fc2 = nn.Linear(256, num_classes)\n",
    "\n",
    "    def _get_conv_output_size(self, input_length):\n",
<<<<<<< HEAD
    "        \n",
    "        output_length = input_length\n",
    "        \n",
    "       \n",
    "        for _ in range(3):  \n",
    "            output_length = (output_length - 2) // 2  \n",
=======
    "        # Calculate the output length after the conv/pool layers\n",
    "        output_length = input_length\n",
    "        \n",
    "        # Each Conv1d reduces the length by (kernel_size - 1) on each side, then pooling reduces by half\n",
    "        for _ in range(3):  # 3 convolutional layers\n",
    "            output_length = (output_length - 2) // 2  # After conv and pooling\n",
>>>>>>> 846e6051f1444a6e079d14d62446b41eae1460ec
    "\n",
    "        return output_length\n",
    "\n",
    "    def forward(self, x):\n",
<<<<<<< HEAD
    "        x = self.pool(F.relu(self.conv1(x)))  \n",
    "        x = self.pool(F.relu(self.conv2(x))) \n",
    "        x = self.pool(F.relu(self.conv3(x)))  \n",
    "        x = self.flatten(x)  \n",
    "        x = F.relu(self.fc1(x))\n",
    "        x = self.dropout(x)  \n",
    "        x = self.fc2(x)\n",
=======
    "        x = self.pool(F.relu(self.conv1(x)))  # Conv1 + Pool\n",
    "        x = self.pool(F.relu(self.conv2(x)))  # Conv2 + Pool\n",
    "        x = self.pool(F.relu(self.conv3(x)))  # Conv3 + Pool\n",
    "        x = self.flatten(x)  # Flatten for fully connected layer\n",
    "        x = F.relu(self.fc1(x))  # Fully connected layer 1\n",
    "        x = self.dropout(x)  # Dropout\n",
    "        x = self.fc2(x)  # Output layer\n",
>>>>>>> 846e6051f1444a6e079d14d62446b41eae1460ec
    "        return x"
   ]
  },
  {
   "cell_type": "code",
<<<<<<< HEAD
   "execution_count": 41,
=======
   "execution_count": 14,
>>>>>>> 846e6051f1444a6e079d14d62446b41eae1460ec
   "metadata": {},
   "outputs": [],
   "source": [
    "from torch.utils.data import DataLoader, TensorDataset\n",
    "import torch.nn.functional as F\n",
    "label_encoder = LabelEncoder()\n",
    "y = label_encoder.fit_transform(y_label)  # Encode labels without replacement\n",
    "num_classes = len(label_encoder.classes_)  # Use the number of unique classes\n",
    "y = np.eye(num_classes)[y] \n",
    "\n",
    "# Split the data into training and testing sets all from mitbih_train\n",
    "X_train, X_test, y_train, y_test = train_test_split(x_data, y, test_size=0.2, random_state=42)\n",
    "\n",
    "# We add an additional dimension to make it suitable for 1D CNN.\n",
    "X_train = np.expand_dims(X_train, axis=1)  # Change axis from 2 to 1\n",
    "X_test = np.expand_dims(X_test, axis=1)    # Change axis from 2 to 1\n",
    "\n",
    "# Convert to PyTorch tensors\n",
    "X_train_tensor = torch.tensor(X_train).float()  # Ensure the data is of float type\n",
    "X_test_tensor = torch.tensor(X_test).float()    # Ensure the data is of float type\n",
    "y_train_tensor = torch.tensor(y_train).long()   # Ensure labels are long type\n",
    "y_test_tensor = torch.tensor(y_test).long()   \n",
    "\n",
    "# Create DataLoader\n",
    "train_dataset = TensorDataset(X_train_tensor, y_train_tensor)\n",
    "train_loader = DataLoader(train_dataset, batch_size=32, shuffle=True)\n",
    "test_dataset = TensorDataset(X_test_tensor, y_test_tensor)\n",
    "test_loader = DataLoader(test_dataset, batch_size=32, shuffle=False)"
   ]
  },
  {
   "cell_type": "code",
<<<<<<< HEAD
   "execution_count": 42,
=======
   "execution_count": 15,
>>>>>>> 846e6051f1444a6e079d14d62446b41eae1460ec
   "metadata": {},
   "outputs": [
    {
     "name": "stdout",
     "output_type": "stream",
     "text": [
      "350215\n"
     ]
    }
   ],
   "source": [
    "print(y_train.size)"
   ]
  },
  {
   "cell_type": "code",
<<<<<<< HEAD
   "execution_count": 43,
=======
   "execution_count": 16,
>>>>>>> 846e6051f1444a6e079d14d62446b41eae1460ec
   "metadata": {},
   "outputs": [
    {
     "name": "stdout",
     "output_type": "stream",
     "text": [
      "5\n"
     ]
    }
   ],
   "source": [
    "print(len(label_encoder.classes_))"
   ]
  },
  {
   "cell_type": "code",
<<<<<<< HEAD
   "execution_count": 44,
=======
   "execution_count": 17,
>>>>>>> 846e6051f1444a6e079d14d62446b41eae1460ec
   "metadata": {},
   "outputs": [
    {
     "name": "stdout",
     "output_type": "stream",
     "text": [
<<<<<<< HEAD
      "Epoch [1/10], Loss: 0.2121, Training Accuracy: 0.9420\n",
      "Epoch [1/10], Test Accuracy: 0.9685\n",
      "Epoch [2/10], Loss: 0.1126, Training Accuracy: 0.9691\n",
      "Epoch [2/10], Test Accuracy: 0.9762\n",
      "Epoch [3/10], Loss: 0.0905, Training Accuracy: 0.9752\n",
      "Epoch [3/10], Test Accuracy: 0.9765\n",
      "Epoch [4/10], Loss: 0.0751, Training Accuracy: 0.9790\n",
      "Epoch [4/10], Test Accuracy: 0.9806\n",
      "Epoch [5/10], Loss: 0.0667, Training Accuracy: 0.9808\n",
      "Epoch [5/10], Test Accuracy: 0.9816\n",
      "Epoch [6/10], Loss: 0.0613, Training Accuracy: 0.9825\n",
      "Epoch [6/10], Test Accuracy: 0.9808\n",
      "Epoch [7/10], Loss: 0.0547, Training Accuracy: 0.9844\n",
      "Epoch [7/10], Test Accuracy: 0.9838\n",
      "Epoch [8/10], Loss: 0.0509, Training Accuracy: 0.9848\n",
      "Epoch [8/10], Test Accuracy: 0.9842\n",
      "Epoch [9/10], Loss: 0.0451, Training Accuracy: 0.9864\n",
      "Epoch [9/10], Test Accuracy: 0.9843\n",
      "Epoch [10/10], Loss: 0.0412, Training Accuracy: 0.9870\n",
      "Epoch [10/10], Test Accuracy: 0.9851\n"
=======
      "Epoch [1/20], Loss: 0.2140, Training Accuracy: 0.9416\n",
      "Epoch [1/20], Test Accuracy: 0.9693\n",
      "Epoch [2/20], Loss: 0.1078, Training Accuracy: 0.9709\n",
      "Epoch [2/20], Test Accuracy: 0.9775\n",
      "Epoch [3/20], Loss: 0.0849, Training Accuracy: 0.9760\n",
      "Epoch [3/20], Test Accuracy: 0.9807\n",
      "Epoch [4/20], Loss: 0.0724, Training Accuracy: 0.9795\n",
      "Epoch [4/20], Test Accuracy: 0.9814\n",
      "Epoch [5/20], Loss: 0.0627, Training Accuracy: 0.9819\n",
      "Epoch [5/20], Test Accuracy: 0.9830\n",
      "Epoch [6/20], Loss: 0.0558, Training Accuracy: 0.9838\n",
      "Epoch [6/20], Test Accuracy: 0.9832\n",
      "Epoch [7/20], Loss: 0.0505, Training Accuracy: 0.9848\n",
      "Epoch [7/20], Test Accuracy: 0.9835\n",
      "Epoch [8/20], Loss: 0.0452, Training Accuracy: 0.9859\n",
      "Epoch [8/20], Test Accuracy: 0.9846\n",
      "Epoch [9/20], Loss: 0.0426, Training Accuracy: 0.9868\n",
      "Epoch [9/20], Test Accuracy: 0.9854\n",
      "Epoch [10/20], Loss: 0.0388, Training Accuracy: 0.9881\n",
      "Epoch [10/20], Test Accuracy: 0.9854\n",
      "Epoch [11/20], Loss: 0.0360, Training Accuracy: 0.9886\n",
      "Epoch [11/20], Test Accuracy: 0.9865\n",
      "Epoch [12/20], Loss: 0.0329, Training Accuracy: 0.9895\n",
      "Epoch [12/20], Test Accuracy: 0.9853\n",
      "Early stopping triggered after 12 epochs.\n"
>>>>>>> 846e6051f1444a6e079d14d62446b41eae1460ec
     ]
    }
   ],
   "source": [
    "\n",
    "device = torch.device(\"cuda\" if torch.cuda.is_available() else \"cpu\")\n",
    "num_classes = len(label_encoder.classes_)\n",
    "model = CNN1D(num_classes).to(device)\n",
    "\n",
    "# Define loss function and optimizer\n",
    "criterion = nn.CrossEntropyLoss()  # Use CrossEntropyLoss for multi-class classification\n",
    "optimizer = optim.Adam(model.parameters())\n",
    "\n",
    "# Train the model\n",
    "train_acc = []  \n",
    "test_acc = []\n",
<<<<<<< HEAD
    "EPOCHS = 10 # Increase this \n",
=======
    "EPOCHS = 20 # Increase this \n",
>>>>>>> 846e6051f1444a6e079d14d62446b41eae1460ec
    "patience = 3  \n",
    "best_loss = float('inf')  \n",
    "patience_counter = 0  \n",
    "\n",
    "# Training loop\n",
    "for epoch in range(EPOCHS):\n",
    "    model.train()  # Set the model to training mode\n",
    "    running_loss = 0.0\n",
    "    correct_train = 0\n",
    "    total_train = 0\n",
    "\n",
    "    for inputs, labels in train_loader:\n",
    "        inputs, labels = inputs.to(device), labels.to(device)  # Move to GPU if available\n",
    "\n",
    "        optimizer.zero_grad() \n",
    "        outputs = model(inputs)  \n",
    "        loss = criterion(outputs, labels.argmax(dim=1)) \n",
    "        loss.backward() \n",
    "        optimizer.step()  \n",
    "\n",
    "        running_loss += loss.item()\n",
    "\n",
    "        # Calculate training accuracy\n",
    "        _, predicted_train = torch.max(outputs.data, 1)\n",
    "        total_train += labels.size(0)\n",
    "        correct_train += (predicted_train == labels.argmax(dim=1)).sum().item()\n",
    "\n",
    "    # Compute and store training accuracy for the epoch\n",
    "    train_accuracy = correct_train / total_train\n",
    "    train_acc.append(train_accuracy)\n",
    "\n",
    "    print(f'Epoch [{epoch + 1}/{EPOCHS}], Loss: {running_loss / len(train_loader):.4f}, Training Accuracy: {train_accuracy:.4f}')\n",
    "\n",
    "    # Evaluate the model after each epoch\n",
    "    model.eval()  # Set the model to evaluation mode\n",
    "    with torch.no_grad():\n",
    "        correct_test = 0\n",
    "        total_test = 0\n",
    "        validation_loss = 0.0 \n",
    "        for inputs, labels in test_loader:\n",
    "            inputs, labels = inputs.to(device), labels.to(device)  # Move to GPU if available\n",
    "            outputs = model(inputs)  # Forward pass\n",
    "            loss = criterion(outputs, labels.argmax(dim=1))  # Compute validation loss\n",
    "            validation_loss += loss.item()  \n",
    "\n",
    "            _, predicted = torch.max(outputs.data, 1)\n",
    "            total_test += labels.size(0)\n",
    "            correct_test += (predicted == labels.argmax(dim=1)).sum().item()\n",
    "\n",
    "        accuracy = correct_test / total_test  # Calculate test accuracy\n",
<<<<<<< HEAD
    "        test_acc.append(accuracy)  \n",
=======
    "        test_acc.append(accuracy)  # Store accuracy for this epoch\n",
>>>>>>> 846e6051f1444a6e079d14d62446b41eae1460ec
    "        avg_validation_loss = validation_loss / len(test_loader)\n",
    "        print(f'Epoch [{epoch + 1}/{EPOCHS}], Test Accuracy: {accuracy:.4f}')\n",
    "\n",
    "        if avg_validation_loss < best_loss:\n",
    "            best_loss = avg_validation_loss  # Update best loss\n",
    "            patience_counter = 0  # Reset counter\n",
<<<<<<< HEAD
    "            # torch.save(model.state_dict(), 'best_model.pth')  \n",
=======
    "            # Optionally save the model here\n",
    "            torch.save(model.state_dict(), 'best_model.pth')  # Save the model\n",
>>>>>>> 846e6051f1444a6e079d14d62446b41eae1460ec
    "        else:\n",
    "            patience_counter += 1  # Increment patience counter\n",
    "            if patience_counter >= patience:\n",
    "                print(f'Early stopping triggered after {epoch + 1} epochs.')\n",
    "                break  # Stop training if patience exceeded\n",
    "\n",
    "# Create an array for epoch indices\n",
    "# epoch_indices = np.arange(EPOCHS)\n",
    "\n"
   ]
  },
  {
   "cell_type": "code",
<<<<<<< HEAD
   "execution_count": 45,
=======
   "execution_count": 18,
>>>>>>> 846e6051f1444a6e079d14d62446b41eae1460ec
   "metadata": {},
   "outputs": [
    {
     "data": {
<<<<<<< HEAD
      "image/png": "iVBORw0KGgoAAAANSUhEUgAAAkAAAAHHCAYAAABXx+fLAAAAOXRFWHRTb2Z0d2FyZQBNYXRwbG90bGliIHZlcnNpb24zLjkuMiwgaHR0cHM6Ly9tYXRwbG90bGliLm9yZy8hTgPZAAAACXBIWXMAAA9hAAAPYQGoP6dpAAB33klEQVR4nO3dd3hU1dbH8e+k904LLRAiTXpTqgIKYgNRBFECKDYQlYsCijSvYANR8MVGkyJFgYsFFMEG0qQJ0iK9hRBKKmkz5/1jyMCQBBJIMim/z/PMw8yefc6skwSy2HvtfUyGYRiIiIiIlCJOjg5AREREpLApARIREZFSRwmQiIiIlDpKgERERKTUUQIkIiIipY4SIBERESl1lACJiIhIqaMESEREREodJUAiIiJS6igBkhKjb9++hIWF3dCxY8aMwWQy5W9ARczhw4cxmUzMmjXL0aGIlCh33HEHt956q6PDkDxSAiQFzmQy5erx66+/OjrUUi8sLCxX36v8SqLGjx/PsmXL8nzcnj17MJlMeHh4cOHChXyJpTRJSkrizTffpH79+nh5eeHv70+bNm348ssvKYp3R7rjjjty/FmsVauWo8OTYsrF0QFIyTdnzhy7119++SWrVq3K0l67du2b+pzPP/8ci8VyQ8eOHDmS4cOH39TnlwSTJ08mMTHR9vqHH37gq6++4oMPPiAkJMTW3rJly3z5vPHjx/Pwww/TtWvXPB03d+5cypcvz/nz5/n666956qmn8iWe0uD06dN06NCBPXv20LNnTwYNGkRKSgrffPMNkZGR/PDDD8ybNw9nZ2dHh2qnUqVKTJgwIUu7v7+/A6KRkkAJkBS4xx9/3O71hg0bWLVqVZb2qyUnJ+Pl5ZXrz3F1db2h+ABcXFxwcdFfh6sTkejoaL766iu6du16w9OL+c0wDObPn89jjz3GoUOHmDdvXpFNgJKSkvD29nZ0GHYiIyPZs2cPS5cu5YEHHrC1Dx48mFdeeYX333+fRo0aMWzYsEKLyWKxkJaWhoeHR459/P39r/tvhkheaApMioTMOfQtW7bQtm1bvLy8eO211wD43//+x7333ktoaCju7u6Eh4fz5ptvYjab7c5xdQ1QZs3L+++/z2effUZ4eDju7u40a9aMzZs32x2bXQ2QyWRi0KBBLFu2jFtvvRV3d3fq1q3LypUrs8T/66+/0rRpUzw8PAgPD+fTTz/NdV3RH3/8wSOPPEKVKlVwd3encuXKvPzyy1y8eDHL9fn4+HDixAm6du2Kj48PZcqUYejQoVm+FhcuXKBv3774+/sTEBBAZGRkvk4VzZ07lyZNmuDp6UlQUBA9e/bk2LFjdn2ioqLo3r075cuXx8PDg0qVKtGzZ0/i4uIA69c3KSmJ2bNn26Yz+vbte93PXrduHYcPH6Znz5707NmT33//nePHj2fpZ7FY+PDDD6lXrx4eHh6UKVOGzp0789dff2W5lubNm+Pl5UVgYCBt27blp59+sr1vMpkYM2ZMlvOHhYXZxTtr1ixMJhO//fYbzz//PGXLlqVSpUoAHDlyhOeff56aNWvi6elJcHAwjzzyCIcPH85y3gsXLvDyyy8TFhaGu7s7lSpVok+fPsTGxpKYmIi3tzcvvvhiluOOHz+Os7NztqMkmTZs2MCPP/5I37597ZKfTBMmTCAiIoJ33nmHixcvkp6eTlBQEP369cvSNz4+Hg8PD4YOHWprS01NZfTo0dSoUcP2s/zqq6+Smppqd2zm36158+ZRt25d3N3ds/17lVeZf+f27t1Ljx498PPzIzg4mBdffJGUlBS7vhkZGbz55pu2fxfCwsJ47bXXssQKsGLFCtq1a4evry9+fn40a9aM+fPnZ+m3e/du7rzzTry8vKhYsSLvvvtulj5Tpkyhbt26tp+3pk2bZnsuKXj6L68UGWfPnuWee+6hZ8+ePP7445QrVw6w/mLx8fFhyJAh+Pj4sGbNGkaNGkV8fDzvvffedc87f/58EhISeOaZZzCZTLz77rs89NBDHDx48LqjRmvXrmXJkiU8//zz+Pr68tFHH9G9e3eOHj1KcHAwANu2baNz585UqFCBsWPHYjabGTduHGXKlMnVdS9evJjk5GSee+45goOD2bRpE1OmTOH48eMsXrzYrq/ZbKZTp060aNGC999/n59//pmJEycSHh7Oc889B1hHSB588EHWrl3Ls88+S+3atVm6dCmRkZG5iud63nrrLd544w169OjBU089xZkzZ5gyZQpt27Zl27ZtBAQEkJaWRqdOnUhNTeWFF16gfPnynDhxgu+++44LFy7g7+/PnDlzeOqpp2jevDlPP/00AOHh4df9/Hnz5hEeHk6zZs249dZb8fLy4quvvuKVV16x6/fkk08ya9Ys7rnnHp566ikyMjL4448/2LBhA02bNgVg7NixjBkzhpYtWzJu3Djc3NzYuHEja9as4e67776hr8/zzz9PmTJlGDVqFElJSQBs3ryZP//8k549e1KpUiUOHz7MtGnTuOOOO9i9e7dtpDMxMZE2bdqwZ88e+vfvT+PGjYmNjWX58uUcP36chg0b0q1bNxYuXMikSZPspqm++uorDMOgd+/eOcb27bffAtCnT59s33dxceGxxx5j7NixrFu3jo4dO9KtWzeWLFnCp59+ipubm63vsmXLSE1NpWfPnoA14XzggQdYu3YtTz/9NLVr12bnzp188MEH7N+/P0ut15o1a1i0aBGDBg0iJCTkuiOMZrOZ2NjYLO2enp5ZRtl69OhBWFgYEyZMYMOGDXz00UecP3+eL7/80tbnqaeeYvbs2Tz88MP85z//YePGjUyYMME2OpZp1qxZ9O/fn7p16zJixAgCAgLYtm0bK1eu5LHHHrP1O3/+PJ07d+ahhx6iR48efP311wwbNox69epxzz33ANZp+sGDB/Pwww/bkrK///6bjRs32p1LCokhUsgGDhxoXP2j165dOwMwPvnkkyz9k5OTs7Q988wzhpeXl5GSkmJri4yMNKpWrWp7fejQIQMwgoODjXPnztna//e//xmA8e2339raRo8enSUmwHBzczP+/fdfW9uOHTsMwJgyZYqt7f777ze8vLyMEydO2NqioqIMFxeXLOfMTnbXN2HCBMNkMhlHjhyxuz7AGDdunF3fRo0aGU2aNLG9XrZsmQEY7777rq0tIyPDaNOmjQEYM2fOvG5Mmd577z0DMA4dOmQYhmEcPnzYcHZ2Nt566y27fjt37jRcXFxs7du2bTMAY/Hixdc8v7e3txEZGZnreNLS0ozg4GDj9ddft7U99thjRoMGDez6rVmzxgCMwYMHZzmHxWIxDMP6PXJycjK6detmmM3mbPsYhvXnYPTo0VnOU7VqVbvYZ86caQBG69atjYyMDLu+2X2P169fbwDGl19+aWsbNWqUARhLlizJMe4ff/zRAIwVK1bYvV+/fn2jXbt2WY67UteuXQ3AOH/+fI59lixZYgDGRx99ZPd5V/59MQzD6NKli1G9enXb6zlz5hhOTk7GH3/8Ydfvk08+MQBj3bp1tjbAcHJyMv75559rxpsp89+H7B7PPPOMrV/m3+MHHnjA7vjnn3/eAIwdO3YYhmEY27dvNwDjqaeesus3dOhQAzDWrFljGIZhXLhwwfD19TVatGhhXLx40a7vlT8jmfFd+b1MTU01ypcvb3Tv3t3W9uCDDxp169bN1TVLwdMUmBQZ7u7u2Q61e3p62p4nJCQQGxtLmzZtSE5OZu/evdc976OPPkpgYKDtdZs2bQA4ePDgdY/t2LGj3ahE/fr18fPzsx1rNpv5+eef6dq1K6GhobZ+NWrUsP2v73quvL6kpCRiY2Np2bIlhmGwbdu2LP2fffZZu9dt2rSxu5YffvgBFxcX24gQgLOzMy+88EKu4rmWJUuWYLFY6NGjB7GxsbZH+fLliYiI4JdffgEuF6b++OOPJCcn3/TnZlqxYgVnz56lV69etrZevXqxY8cO/vnnH1vbN998g8lkYvTo0VnOkTktuWzZMiwWC6NGjcLJySnbPjdiwIABWQqIr/wep6enc/bsWWrUqEFAQABbt261i7tBgwZ069Ytx7g7duxIaGgo8+bNs723a9cu/v777+vWyCQkJADg6+ubY5/M9+Lj4wFo3749ISEhLFy40Nbn/PnzrFq1ikcffdTWtnjxYmrXrk2tWrXsfjbat28PYPvZyNSuXTvq1KlzzXivFBYWxqpVq7I8XnrppSx9Bw4caPc682f/hx9+sPtzyJAhdv3+85//APD9998DsGrVKhISEhg+fHiW+qSrf0Z8fHzsvv5ubm40b97c7u9mQEAAx48fzzIFL46hKTApMipWrGg3xJ7pn3/+YeTIkaxZs8b2j3KmzHqSa6lSpYrd68xk6Pz583k+NvP4zGNjYmK4ePEiNWrUyNIvu7bsHD16lFGjRrF8+fIsMV19fZm1LDnFA9Z6kwoVKuDj42PXr2bNmrmK51qioqIwDIOIiIhs38+cUqxWrRpDhgxh0qRJzJs3jzZt2vDAAw/w+OOP39Sqnblz51KtWjXc3d35999/Aeu0mZeXF/PmzWP8+PEAHDhwgNDQUIKCgnI814EDB3BycsrTL+HcqFatWpa2ixcvMmHCBGbOnMmJEyfslppf+T0+cOAA3bt3v+b5nZyc6N27N9OmTbMtFJg3bx4eHh488sgj1zw2M7lJSEggICAg2z5XJ0kuLi50796d+fPnk5qairu7O0uWLCE9Pd0uAYqKimLPnj05Tv3GxMTYvc7u63Qt3t7edOzYMVd9r/75DA8Px8nJyVZzdeTIEZycnLL8HS1fvjwBAQEcOXIEsH4/gFzt8VOpUqUsSVFgYCB///237fWwYcP4+eefad68OTVq1ODuu+/mscceo1WrVrm6LslfSoCkyLjyf8mZLly4QLt27fDz82PcuHGEh4fj4eHB1q1bGTZsWK6Wvee0nNfIxX4nN3NsbpjNZu666y7OnTvHsGHDqFWrFt7e3pw4cYK+fftmuT5HL022WCyYTCZWrFiRbSxXJl0TJ06kb9++/O9//+Onn35i8ODBtpqMzOLgvIiPj+fbb78lJSUl2wRs/vz5vPXWW4W2oeXVheeZsvs5fuGFF5g5cyYvvfQSt99+O/7+/phMJnr27HlDWzf06dOH9957j2XLltGrVy/mz5/Pfffdd93ksnbt2ixbtoy///6btm3bZtsn8xf2lYlhz549+fTTT1mxYgVdu3Zl0aJF1KpViwYNGtj6WCwW6tWrx6RJk7I9b+XKle1eZ/d1Kig5/Uzk589Kbv6tqF27Nvv27eO7775j5cqVfPPNN/zf//0fo0aNYuzYsfkWi+SOEiAp0n799VfOnj3LkiVL7P7BPnTokAOjuqxs2bJ4eHjYRiOulF3b1Xbu3Mn+/fuZPXu2XWHqqlWrbjimqlWrsnr1ahITE+0Skn379t3wOTOFh4djGAbVqlXjlltuuW7/evXqUa9ePUaOHMmff/5Jq1at+OSTT/jvf/8L5O0X0JIlS0hJSWHatGl2exKB9dpGjhzJunXraN26NeHh4fz444+cO3cux1Gg8PBwLBYLu3fvpmHDhjl+bmBgYJYVdGlpaZw6dSrXsX/99ddERkYyceJEW1tKSkqW84aHh7Nr167rnu/WW2+lUaNGzJs3j0qVKnH06FGmTJly3ePuu+8+JkyYwJdffpltAmQ2m5k/fz6BgYF2oxJt27alQoUKLFy4kNatW7NmzRpef/31LLHv2LGDDh06OHxX9aioKLsRpn///ReLxWIrtK5atSoWi4WoqCi7/cdOnz7NhQsXqFq1KnC5KH/Xrl25HtG9Hm9vbx599FEeffRR0tLSeOihh3jrrbcYMWLENbcBkPynGiAp0jL/V3Xl/6LS0tL4v//7P0eFZMfZ2ZmOHTuybNkyTp48aWv/999/WbFiRa6OB/vrMwyDDz/88IZj6tKlCxkZGUybNs3WZjabc/UL8noeeughnJ2dGTt2bJZRMMMwOHv2LGAdrcnIyLB7v169ejg5OdktM/b29s718vy5c+dSvXp1nn32WR5++GG7x9ChQ/Hx8bHVxXTv3h3DMLL9X3Vm3F27dsXJyYlx48ZlGYW58trCw8P5/fff7d7/7LPPchwByo6zs3OWr9eUKVOynKN79+7s2LHDbhVSdjEBPPHEE/z0009MnjyZ4ODgXNWctWzZko4dOzJz5ky+++67LO+//vrr7N+/n1dffdVuhMbJyYmHH36Yb7/9ljlz5pCRkWE3/QXWlVcnTpzg888/z3Leixcv2lbEFYaPP/7Y7nXmz37m16hLly6AdePPK2WOXt17770A3H333fj6+jJhwoQsy+hvZBQ48+9HJjc3N+rUqYNhGKSnp+f5fHJzNAIkRVrLli0JDAwkMjKSwYMHYzKZmDNnTpHarn/MmDH89NNPtGrViueeew6z2czUqVO59dZb2b59+zWPrVWrFuHh4QwdOpQTJ07g5+fHN998k6v6pJzcf//9tGrViuHDh3P48GHq1KnDkiVLclUvdT3h4eH897//ZcSIERw+fJiuXbvi6+vLoUOHWLp0KU8//TRDhw5lzZo1DBo0iEceeYRbbrmFjIwM5syZg7Ozs12NS5MmTfj555+ZNGkSoaGhVKtWjRYtWmT53JMnT/LLL78wePDgbONyd3enU6dOLF68mI8++og777yTJ554go8++oioqCg6d+6MxWLhjz/+4M4772TQoEHUqFGD119/nTfffJM2bdrw0EMP4e7uzubNmwkNDbXtp/PUU0/x7LPP0r17d+666y527NjBjz/+mGUU6lruu+8+5syZg7+/P3Xq1GH9+vX8/PPPtq0UMr3yyit8/fXXPPLII/Tv358mTZpw7tw5li9fzieffGI35fTYY4/x6quvsnTpUp577rlcbwT65Zdf0qFDBx588EEee+wx2rRpQ2pqKkuWLOHXX3/l0UcfzbKlAFgXE0yZMoXRo0dTr169LDu3P/HEEyxatIhnn32WX375hVatWmE2m9m7dy+LFi3ixx9/tG0/cCPi4uKYO3dutu9dXfx96NAhHnjgATp37sz69euZO3cujz32mO3r16BBAyIjI/nss89s0+ybNm1i9uzZdO3alTvvvBMAPz8/PvjgA5566imaNWvGY489RmBgIDt27CA5OZnZs2fn6RruvvtuypcvT6tWrShXrhx79uxh6tSp3HvvvdcsTJcCUriLzkRyXgaf0/LQdevWGbfddpvh6elphIaGGq+++qptae4vv/xi65fTMvj33nsvyzm5amlzTsvgBw4cmOXYq5c/G4ZhrF692mjUqJHh5uZmhIeHG1988YXxn//8x/Dw8Mjhq3DZ7t27jY4dOxo+Pj5GSEiIMWDAANty+yuXrEdGRhre3t5Zjs8u9rNnzxpPPPGE4efnZ/j7+xtPPPGEbWn6zSyDz/TNN98YrVu3Nry9vQ1vb2+jVq1axsCBA419+/YZhmEYBw8eNPr372+Eh4cbHh4eRlBQkHHnnXcaP//8s9159u7da7Rt29bw9PQ0gByXxE+cONEAjNWrV+cY66xZswzA+N///mcYhnXp/3vvvWfUqlXLcHNzM8qUKWPcc889xpYtW+yOmzFjhtGoUSPD3d3dCAwMNNq1a2esWrXK9r7ZbDaGDRtmhISEGF5eXkanTp2Mf//9N8dl8Js3b84S2/nz541+/foZISEhho+Pj9GpUydj79692f4snT171hg0aJBRsWJFw83NzahUqZIRGRlpxMbGZjlvly5dDMD4888/c/y6ZCchIcEYM2aMUbduXcPT09Pw9fU1WrVqZcyaNctuefeVLBaLUblyZQMw/vvf/2bbJy0tzXjnnXeMunXr2r6eTZo0McaOHWvExcXZ+uX0dysn11oGf+XPfubfhd27dxsPP/yw4evrawQGBhqDBg3Ksow9PT3dGDt2rFGtWjXD1dXVqFy5sjFixAi7rTUyLV++3GjZsqXh6elp+Pn5Gc2bNze++uoru/iy+/fr6n+TPv30U6Nt27ZGcHCw4e7uboSHhxuvvPKK3ddGCo/JMIrQf6VFSpCuXbvyzz//EBUV5ehQpITq1q0bO3fuzFW9WWkwZswYxo4dy5kzZ/I0Qielk2qARPLB1betiIqK4ocffuCOO+5wTEBS4p06dYrvv/+eJ554wtGhiBRLqgESyQfVq1enb9++VK9enSNHjjBt2jTc3Nx49dVXHR2alDCHDh1i3bp1fPHFF7i6uvLMM884OiSRYkkJkEg+6Ny5M1999RXR0dG4u7tz++23M378+Bw3DBS5Ub/99hv9+vWjSpUqzJ49m/Llyzs6JJFiSTVAIiIiUuqoBkhERERKHSVAIiIiUuqoBigbFouFkydP4uvr6/At3UVERCR3DMMgISGB0NBQnJyuPcajBCgbJ0+ezHLjPhERESkejh07dt2bLisBykbmluTHjh3Dz8/PwdGIiIhIbsTHx1O5cuVc3VpECVA2Mqe9/Pz8lACJiIgUM7kpX1ERtIiIiJQ6SoBERESk1FECJCIiIqWOaoBugtlsJj093dFhiOTI1dUVZ2dnR4chIlLkKAG6AYZhEB0dzYULFxwdish1BQQEUL58ee1pJSJyBSVANyAz+SlbtixeXl76xSJFkmEYJCcnExMTA0CFChUcHJGISNGhBCiPzGazLfkJDg52dDgi1+Tp6QlATEwMZcuW1XSYiMglKoLOo8yaHy8vLwdHIpI7mT+rqlcTEblMCdAN0rSXFBf6WRURyUoJkIiIiJQ6SoDkpoSFhTF58uRc9//1118xmUxaQSciIg6lBKiUMJlM13yMGTPmhs67efNmnn766Vz3b9myJadOncLf3/+GPu9G1KpVC3d3d6KjowvtM0VEpGhTAlRKnDp1yvaYPHkyfn5+dm1Dhw619TUMg4yMjFydt0yZMnkqCHdzcyvUPWnWrl3LxYsXefjhh5k9e3ahfOa1qBBZREq7tAwLJy5cJDouxaFxKAEqJcqXL297+Pv7YzKZbK/37t2Lr68vK1asoEmTJri7u7N27VoOHDjAgw8+SLly5fDx8aFZs2b8/PPPdue9egrMZDLxxRdf0K1bN7y8vIiIiGD58uW296+eAps1axYBAQH8+OOP1K5dGx8fHzp37sypU6dsx2RkZDB48GACAgIIDg5m2LBhREZG0rVr1+te9/Tp03nsscd44oknmDFjRpb3jx8/Tq9evQgKCsLb25umTZuyceNG2/vffvstzZo1w8PDg5CQELp162Z3rcuWLbM7X0BAALNmzQLg8OHDmEwmFi5cSLt27fDw8GDevHmcPXuWXr16UbFiRby8vKhXrx5fffWV3XksFgvvvvsuNWrUwN3dnSpVqvDWW28B0L59ewYNGmTX/8yZM7i5ubF69errfk1ERArCxTQzR84msfnwOb77+yQz1h7i7RV7GbJoO09M30inD36n0bifuGXkClq9vYZJq/Y5NF7tA5QPDMPgYrq50D/X09U5X0dShg8fzvvvv0/16tUJDAzk2LFjdOnShbfeegt3d3e+/PJL7r//fvbt20eVKlVyPM/YsWN59913ee+995gyZQq9e/fmyJEjBAUFZds/OTmZ999/nzlz5uDk5MTjjz/O0KFDmTdvHgDvvPMO8+bNY+bMmdSuXZsPP/yQZcuWceedd17zehISEli8eDEbN26kVq1axMXF8ccff9CmTRsAEhMTadeuHRUrVmT58uWUL1+erVu3YrFYAPj+++/p1q0br7/+Ol9++SVpaWn88MMPN/R1nThxIo0aNcLDw4OUlBSaNGnCsGHD8PPz4/vvv+eJJ54gPDyc5s2bAzBixAg+//xzPvjgA1q3bs2pU6fYu3cvAE899RSDBg1i4sSJuLu7AzB37lwqVqxI+/bt8xyfiEhODMMgPiWDMwkpxMSnEpOQSszVzxNSOROfSkJq7mYOAFydTWSYjQKM/PqUAOWDi+lm6oz6sdA/d/e4Tni55d+3cNy4cdx1112210FBQTRo0MD2+s0332Tp0qUsX748ywjElfr27UuvXr0AGD9+PB999BGbNm2ic+fO2fZPT0/nk08+ITw8HIBBgwYxbtw42/tTpkxhxIgRttGXqVOn5ioRWbBgAREREdStWxeAnj17Mn36dFsCNH/+fM6cOcPmzZttyVmNGjVsx7/11lv07NmTsWPH2tqu/Hrk1ksvvcRDDz1k13bllOMLL7zAjz/+yKJFi2jevDkJCQl8+OGHTJ06lcjISADCw8Np3bo1AA899BCDBg3if//7Hz169ACsI2l9+/bVkncRyRWLxeB8ctqlJCaVmPgU+z+vSHRSMyy5Pq+HqxNlfT0o6+tOOT8Pyvi6U9bP3daW+TzA0xUnJ8f+e6UESGyaNm1q9zoxMZExY8bw/fffc+rUKTIyMrh48SJHjx695nnq169ve+7t7Y2fn5/tdgzZ8fLysiU/YL1lQ2b/uLg4Tp8+bRsZAXB2dqZJkya2kZqczJgxg8cff9z2+vHHH6ddu3ZMmTIFX19ftm/fTqNGjXIcmdq+fTsDBgy45mfkxtVfV7PZzPjx41m0aBEnTpwgLS2N1NRUWy3Vnj17SE1NpUOHDtmez8PDwzal16NHD7Zu3cquXbvsphpFpHTKMFuITUzLdpQmJj7VOpKTkMqZhFQyLLkfgfH1cLEmML4el5KYy8/LXPHc192l2PxHTAlQPvB0dWb3uE4O+dz85O3tbfd66NChrFq1ivfff58aNWrg6enJww8/TFpa2jXP4+rqavfaZDJdM1nJrr9h3NzQ6O7du9mwYQObNm1i2LBhtnaz2cyCBQsYMGCA7TYRObne+9nFmV2R89Vf1/fee48PP/yQyZMnU69ePby9vXnppZdsX9frfS5Yp8EaNmzI8ePHmTlzJu3bt6dq1arXPU5Eiq+UdDN7TsVzOv5yQnP6ihGbMwkpnE1KIy//fAZ5u10ambk0QpP5sL22juJ4upW82+goAcoHJpMpX6eiiop169bRt29f29RTYmIihw8fLtQY/P39KVeuHJs3b6Zt27aANYnZunUrDRs2zPG46dOn07ZtWz7++GO79pkzZzJ9+nQGDBhA/fr1+eKLLzh37ly2o0D169dn9erV9OvXL9vPKFOmjF2xdlRUFMnJyde9pnXr1vHggw/aRqcsFgv79++nTp06AERERODp6cnq1at56qmnsj1HvXr1aNq0KZ9//jnz589n6tSp1/1cESleElLS2XLkPJsOnWPz4XPsOBZHmvn601HOTiZCfNzspp3K+HpkSW5CfNxxcym9a6FK3m9tyTcREREsWbKE+++/H5PJxBtvvHHdaaeC8MILLzBhwgRq1KhBrVq1mDJlCufPn89xmDU9PZ05c+Ywbtw4br31Vrv3nnrqKSZNmsQ///xDr169GD9+PF27dmXChAlUqFCBbdu2ERoayu23387o0aPp0KED4eHh9OzZk4yMDH744QfbiFL79u2ZOnUqt99+O2azmWHDhmUZzcpOREQEX3/9NX/++SeBgYFMmjSJ06dP2xIgDw8Phg0bxquvvoqbmxutWrXizJkz/PPPPzz55JN21zJo0CC8vb3tVqeJSPF0NjGVzYfPsfFSwrP7ZDxXz1KF+LhTJcgzy1RUmSueB3m74ezg+priQAmQ5GjSpEn079+fli1bEhISwrBhw4iPjy/0OIYNG0Z0dDR9+vTB2dmZp59+mk6dOuV4Z/Ply5dz9uzZbJOC2rVrU7t2baZPn86kSZP46aef+M9//kOXLl3IyMigTp06tlGjO+64g8WLF/Pmm2/y9ttv4+fnZxuFApg4cSL9+vWjTZs2hIaG8uGHH7Jly5brXs/IkSM5ePAgnTp1wsvLi6effpquXbsSFxdn6/PGG2/g4uLCqFGjOHnyJBUqVODZZ5+1O0+vXr146aWX6NWrFx4eHrn6WopI0XHiwkU2HTrLpkPn2XToLAfOJGXpUzXYi+ZhQTSrFkSLakFUCfIqNjU2RZ3JuNliixIoPj4ef39/4uLi8PPzs3svJSWFQ4cOUa1aNf3ScRCLxULt2rXp0aMHb775pqPDcZjDhw8THh7O5s2bady4cY799DMr4niGYXDgTJJtOmvToXOcuHAxS79a5X1pFhZE82rWRzk//Z3Ni2v9/r6aRoCkyDty5Ag//fQT7dq1IzU1lalTp3Lo0CEee+wxR4fmEOnp6Zw9e5aRI0dy2223XTP5ERHHMFsM9pyKt05nXUp6zibZLyBxdjJxa0V/WlQLonlYEE3DAgnwcnNQxKWPEiAp8pycnJg1axZDhw7FMAxuvfVWfv75Z2rXru3o0Bxi3bp13Hnnndxyyy18/fXXjg5HRIDUDDN/H49j0yHr6M7WI+ezbAzo7uJEoyoBNK8WTPOwIBpVCcDbXb+GHUVfeSnyKleuzLp16xwdRpFxxx133PQ2ASJycxJTM9h65LytaHn7sQukXbVhoK+7C03DAm31O7dW9MfdpeQtJy+ulACJiIhcx/mkNFvtzubD59h1Mh7zVUu0QnzcbPU7zcKCqF3BT6uxijAlQCIiIlc5FXfRNp21+fA59p9OzNKnUqAnzTMTnmpBVA/x1gqtYkQJkIiIlGqGYXAoNsluD55j57Ku0KpR1se6OuvSsvSKAdfftV2AjFSIO37pccz654VjUKkpNM1+o9nCoARIRERKFbPFYF90ApsOnWXz4fNsPHSO2MRUuz5OJqgb6n/FlFYgwT7uDoq4CDMMSLlgTWhsCc4x+9eJp7M/Ni1RCZCIiEh+S8uwkJSaQWJqBjEJKWw+fPm2Egkp9iu03JydaFDZ/9L+O8E0rhKAr8f1d3Yv8cwZkBh9RUJz9PIITmaCk5Z1ejALF08IqAz+lcG/kvV5hYYFHv41Q3Lop4uIiFxisRgkp5tJTLEmLUmXHompGSSlZZCYarZvS80gKdVM4hWvr2y/1n2zvN2caVw1kBaXCpYbVA7AI59vMF0spCVdkdAcs5+iijsO8SfAMF//PF4hlxKcSuBf5XKS43/p4RUERaw+SgmQiIjcEMMwSL00ypKZiFgTlcvJS0KK9b2r2xMvHWOXtKTl4hftDXB3ccLf05WGlQNsOyzXqeCHi3MJvxGoYUDSmaxTUnHH4cKlkZyL565/HicX8KsIAZcSmytHcTKfuxa/eiglQKXE9VYmjB49mjFjxtzwuZcuXUrXrl1z1f+ZZ57hiy++YMGCBTzyyCM39JkiUrCOnUvml30x7Dwel80Ii9n2OuPqu3XmAycTeLu74OPuYvvT+tw5S7u3m32b9xV9M9tcS2qik5EG8cevmpK6aorKnHr987j7XZXUXEpyMhMen3LgVPJGx5QAlRKnTp2yPV+4cCGjRo1i3759tjYfH59CiSM5OZkFCxbw6quvMmPGDIcnQGlpabi5aet5kQyzhS1HzrNmXwy/7I3Jdtn3tXi6ZiYizlclItY2n6vabH3dru7rgoer080vJ7dYrLUpifGQEmed6rGYwbBcelz53Lj83K7PdR62vsZV7119DiNv583x3GbriqqEU9YEJ/E0cL0E1AS+5bMZtbnitYf/zX2tiyklQKVE+fLlbc/9/f0xmUx2bV988QUTJ07k0KFDhIWFMXjwYJ5//nnAmiQMGTKEb775hvPnz1OuXDmeffZZRowYQVhYGIDtzutVq1bl8OHDOcaxePFi6tSpw/DhwwkNDeXYsWNUrlzZ9n5qaiqjRo1i/vz5xMTEULlyZUaMGMGTTz4JwD///MOwYcP4/fffMQyDhg0bMmvWLMLDw7njjjto2LAhkydPtp2va9euBAQEMGvWLADCwsJ48skniYqKYtmyZTz00EPMmjWLYcOGsXTpUo4fP0758uXp3bs3o0aNwtX1chHkt99+y7hx49i5cyc+Pj60adOGpUuXMm7cOBYtWsSuXbvsrrVhw4bcf//9pfqGrVK0nUtK47f9MazeE8Pv+88Qf0VhsLOTiSZVAmlZI5ggbzdbouLr4ZIl0fF2c8nfDf8Mw5qwpMRDarz1z5Q4SI27oi2n55l947l+clACuHhcNS111TSVX0Vw0X/ysqMEKD8YBqQnF/7nunrlS1HZvHnzGDVqFFOnTqVRo0Zs27aNAQMG4O3tTWRkJB999BHLly9n0aJFVKlShWPHjnHs2DEANm/eTNmyZZk5cyadO3fG2fnaw6TTp0/n8ccfx9/fn3vuuYdZs2bxxhtv2N7v06cP69ev56OPPqJBgwYcOnSI2NhYAE6cOEHbtm254447WLNmDX5+fqxbt46MjIycPi5b77//PqNGjWL06NG2Nl9fX2bNmkVoaCg7d+5kwIAB+Pr68uqrrwLw/fff061bN15//XW+/PJL0tLS+OGHHwDo378/Y8eOZfPmzTRr1gyAbdu28ffff7NkyZI8xSZSkAzDYPepeH7ZG8OavTFsO3aBK++qEujlyh01y3JnrbK0iyiDv9cNroLKSL0iKYmzT0pyTGCuet+St7/XOXJysY5wuPlYn5uc7B9OTlnbTE5gcr70p+mKvs7Z9DNd0Tc353a+6tg8ntvJBfwqXC429g4pcsXFxYUSoPyQngzjQwv/c187CW7eN32a0aNHM3HiRB566CEAqlWrxu7du/n000+JjIzk6NGjRERE0Lp1a0wmE1WrVrUdW6ZMGQACAgLsRpSyExUVxYYNG2xJweOPP86QIUMYOXIkJpOJ/fv3s2jRIlatWkXHjh0BqF69uu34jz/+GH9/fxYsWGAbmbnlllvyfL3t27fnP//5j13byJEjbc/DwsIYOnSobaoO4K233qJnz56MHTvW1q9BgwYAVKpUiU6dOjFz5kxbAjRz5kzatWtnF7+IIySnZbDu37Os2RvDr/tiOBWXYvd+7Qp+tK9Vhva1ytGwcoD9SE5aEpzcBhcv5C5pyXw/N3UnuWFyAndfawLj7g8eftZ6FY8rn196bXsecPm5u5+1OFcJgmRDCVApl5SUxIEDB3jyyScZMGCArT0jIwN/f+u8cN++fbnrrruoWbMmnTt35r777uPuu+/O82fNmDGDTp06ERISAkCXLl148sknWbNmDR06dGD79u04OzvTrl27bI/fvn07bdq0sZuWuhFNmzbN0rZw4UI++ugjDhw4QGJiIhkZGfj5+dl99pVfn6sNGDCA/v37M2nSJJycnJg/fz4ffPDBTcUpcqOOnUtmzd4YVu+NYcPBs3Y36fR0daZVjRDa1yrLnbXKUME/m9U7iTGw8VPY/IV1k7sb5eabNUHJNoEJyP59Nx8lL1JglADlB1cv62iMIz73JiUmWgsdP//8c1q0aGH3XuZ0VuPGjTl06BArVqzg559/pkePHnTs2JGvv/46159jNpuZPXs20dHRuLi42LXPmDGDDh064Ol57WWU13vfyckpy13S09PTs/Tz9rYfNVu/fj29e/dm7NixdOrUyTbKNHHixFx/9v3334+7uztLly7Fzc2N9PR0Hn744WseI5Jf0s0W/jp8nl/2Wae2/o2xL2CuHORJ+0tTW7dVD855v5uzB+DPKbB9/uVRHN8K1jqSbEdd/HNOcNx9S+TKISk5lADlB5MpX6aiHKFcuXKEhoZy8OBBevfunWM/Pz8/Hn30UR599FEefvhhOnfuzLlz5wgKCsLV1RWz+dr7d/zwww8kJCSwbds2uzqhXbt20a9fPy5cuEC9evWwWCz89ttvtimwK9WvX5/Zs2eTnp6e7ShQmTJl7Fa7mc1mdu3axZ133nnN2P7880+qVq3K66+/bms7cuRIls9evXo1/fplv227i4sLkZGRzJw5Ezc3N3r27HndpEnkZpxNTOXXfWdYs89awJxwVQFz06qBdKhdlva1yhJexufaq6qO/wXrJsOe77AVDldsAq1eglr3KpGREkkJkDB27FgGDx6Mv78/nTt3JjU1lb/++ovz588zZMgQJk2aRIUKFWjUqBFOTk4sXryY8uXLExAQAFhrZlavXk2rVq1wd3cnMDAwy2dMnz6de++911Y3k6lOnTq8/PLLzJs3j4EDBxIZGUn//v1tRdBHjhwhJiaGHj16MGjQIKZMmULPnj0ZMWIE/v7+bNiwgebNm1OzZk3at2/PkCFD+P777wkPD2fSpElcuHDhutcfERHB0aNHWbBgAc2aNeP7779n6dKldn1Gjx5Nhw4dCA8Pp2fPnmRkZPDDDz8wbNgwW5+nnnqK2rVrA7Bu3bo8fhdErs0wDP45Gc+aSwXMO47bFzAHebtxR80ytK9VljYRZfD3vM5UscUCUT/Bug/h6J+X22/pDC0HQ9WWmn6SEk0JkPDUU0/h5eXFe++9xyuvvIK3tzf16tXjpZdeAqwrpN59912ioqJwdnamWbNm/PDDDzg5WTcXmzhxIkOGDOHzzz+nYsWKWZbBnz59mu+//5758+dn+WwnJye6devG9OnTGThwINOmTeO1117j+eef5+zZs1SpUoXXXnsNgODgYNasWcMrr7xCu3btcHZ2pmHDhrRq1QqwrsbasWMHffr0wcXFhZdffvm6oz8ADzzwAC+//DKDBg0iNTWVe++9lzfeeMNuY8g77riDxYsX8+abb/L222/j5+dH27Zt7c4TERFBy5YtOXfuXJbpRJEbkZSawdp/Y/llbwy/7IvhdLx9cXHdUL9LtTxlaVApIHdL0TPSYOdi+PMjOLPX2ubkCvV7QMsXoGztArgSkaLHZFxdNCHEx8fj7+9PXFycXSEsQEpKCocOHaJatWp4eHg4KEIpigzDICIigueff54hQ4Y4Ohwb/cwWL0fOJtlGeTYePGd3PysvN2da2wqYy1LOLw/fz5Q42DILNkyzbqQH1iLlpv3gtufAzwErWUXy2bV+f19NI0Ai+eDMmTMsWLCA6OjoHOuERLKTlmHhr8PnrEnPvhgOnkmye79KkBfta1lreVpUD8LdJY/1OPEnrUnPllmXNgcEfMrD7c9Dk76ldhdgESVAIvmgbNmyhISE8Nlnn2VbAyVypTMJqfy6zzqt9cf+WBJSLxcwuziZaBYWZBvlCS/jfWO3hYjZa13R9fdCsFxaDRlSE1oNhnqPgIt7Pl2NSPGkBEgkH2gmWa7FYrEWMK/ee5pf9saw43ic3fshPm7cUdM6ytM6IgQ/jxvc68ow4Oh6a2Hz/pWX26u0hFYvQsTd1t2JRUQJkIhIQUhMzWBt1BnW7I3hl31nOJNgX8Bcr6I/d16a2qpf0R+nm7mXlsUMe7+3Jj4n/rrUaILa90HLF6Fysxs/t0gJpQToBul//FJc6Ge1cCSnZbD1yAU2HjrLxkPn2Hb0POnmy197bzdnWkdcKmCuWZayeSlgzkn6RdjxFfw5Fc4dsLY5u0PDXnD7CxBS4+Y/Q6SEUgKUR5kb8CUnJ2ujOykWkpOtN+q92VuIiL245HT+OnKOTYfOsfHQOXadiCPDYp9shgV70b5WOdrXKkuzaoF5L2DOSfI5+Gu69XYVSWesbR7+0GwAtHgGfMrmz+eIlGBKgPLI2dmZgIAAYmJiAPDy8rqxAkWRAmYYBsnJycTExBAQEGC3A7fk3ZmEVDYfvpzw7I2O5+rBtYoBnrSoFkTzakG0qB5MtZB83iH+wlFY/3+w9UtIv7RazL8y3D4QGj0B7j75+3kiJZgSoBuQedfzzCRIpCgLCAiw/cxK7p28cNGW7Gw8dDbL8nSA6mW8bQlPs7AgKgXe/P35snXqb+vGhbuWgHHptjPl6llXdNXtBs4a3RPJKyVAN8BkMlGhQgXKli2b7c02RYoKV1dXjfzkgmEYHD6bzKZL9TubDp3j+PmLdn1MJqhZzvdSwhNMs2qBlPUtwI0lDQMO/mpNfA6sudxerZ11RVd4e92qQuQmKAG6Cc7OzvrlIlIMWSwGUTGJdglPzFWrtJydTNxa0d+a8IQF0TQskAAvt4IPzpwBu5dZV3RF/21tMzlZR3paDobQhgUfg0gpoARIRBzr4nmI/RfORkFsFGSkQECVS4+qEFgV3H1v6iMyzBZ2n4q3TWltPnyOC8n2o7duzk40rBxA80tTWo2rBuLjXoj/RKYlwba5sH6qtdYHwMUTGvex7tocGFZ4sYiUAkqARKTgmTPgwhGI3W9Ncs5GWZOe2P2QHHv94z0DLydDtsQo7HKi5Gq/IjM1w8zO43GX6nfOseXwOZLSzPandHWmaVggzcOsCU+DygF4uDpgRDcpFjZ9Zn1cPG9t8wqG5s9As6fAO7jwYxIpBZQAiUj+ST53RYITdfn5uUOXb8eQHd9Q6541wRHg5mUdATl/xPrnxXPWxODieTi1PdvDDe9yJHiGcpKy7EkJ5K84Pw6bgzlmlOWkEUwGLvh6uNiSnebVgri1oj+uzg7cFfnsAVj/MWyfZx31AmtS1/IFaPCY9esgIgVGCZCI5I05Hc4fvpTg7L88mnM2CpLP5nyciycE17AmOiG3WJOdkBrWtmtNcaXEWxOhC0dsiVH62UOkxB7CLf4Y7pZkTEmn8Us6jR9QC+jmDFwazLHghNm7PC7BYZj8w8BSBc5VBcul0SS/UHAqxJGfE1us9T17vgXj0p3eQxtbC5tr31+4sYiUYkqARCR7SWevSHCi4OylKavzh8GSkfNxfhUhJOJSghNxKem5xdp+I/eh8vDjrE8Em2OD2XgmjE2HzrH7VOYePAYBJFLJdIb63hdoEZhIbc/zVOQMXsnHMV04ilNGCk5JJyHpJBz9M+v5nVzBv5I1GQqsetX0WlXrpoI3u9rKMCBqlXVF1+E/LrdH3G0tbA5rrRVdIoVMCZBIaZaRBucPXTGa8+/laavMepTsuHpdSmyuSHQykx23m9/871Tc5T14Nh06x78xiVn6VAvxtpvSqhTomXVTUsOAxBjr6NH5I5dGkY5cnl6LO2admjt/yPo4lE0wLh72Bdl2z6ta65NySl4y0mDXN9bEJ2a3tc3JxXo39pYvQLm6N/eFEpEbpgRIpKQzDGuhbbajOUcub6yXHf/KOYzmhObriEVsYirr/o1l3b+xbDh4jqPnkrP0qVnO15bsNK8WRLnc3EvLZALfctZH5eZZ37eYIf7k5Sk2W5J0qQYp/oS1Pid2v/WRHTffy8nQlaNI5w5Yd21OOHmpnw806Qu3PWcdcRIRh1ICJFJSZKTCuYPZFyGnxOV8nJtP9qM5QeEFVoibkm5m06FzrP03lrVRsew+FW/3vpMJbq3obxvhaRYWRKB3AezB4+QMAZWtD1plfT8jDeKPZ02MMp8nnoa0BDi9y/rIjk85aPEsNO0PngH5fw0ickOUAIkUdye3wcrX4NiGy0W1WZisv+SDI6wjOJkrrkIiwLdCgdefWCwG/5yM549/z7A2Kpa/jpwnLcM+1toV/GhdI5iWNUJoWjUQX48icHsHFzcIqm59ZCct2TqNduGotTbqyuk1J2friE/9R8HFvTCjFpFccHgC9PHHH/Pee+8RHR1NgwYNmDJlCs2bZzNUDaSnpzNhwgRmz57NiRMnqFmzJu+88w6dO3e29TGbzYwZM4a5c+cSHR1NaGgoffv2ZeTIkbppqZQsKXGw5r+w+YvLiY+7Xw6jOdWz7JVT0I6dS7aN8Kw7EJtl48EK/h60rhFC64gQWoaHUMa3GCYJbl5Qpqb1ISLFikMToIULFzJkyBA++eQTWrRoweTJk+nUqRP79u2jbNmyWfqPHDmSuXPn8vnnn1OrVi1+/PFHunXrxp9//kmjRo0AeOedd5g2bRqzZ8+mbt26/PXXX/Tr1w9/f38GDx5c2Jcokv8Mw1pY++Nr1ikYgFsfhg5vWGtPHJToxyWn8+eBWGvS828sR87a1/H4uLtwW/Vg2kSE0KpGCOFlvPWfEhFxGJNhWBeTOkKLFi1o1qwZU6dOBcBisVC5cmVeeOEFhg8fnqV/aGgor7/+OgMHDrS1de/eHU9PT+bOnQvAfffdR7ly5Zg+fXqOfa4nPj4ef39/4uLi8PPzu5lLFMlfsVHw/X/g0G/W18E1oMv7EH5noYeSmmFm65ELrP33DGv/PcvO4xewXPGviYuTiUZVAmhVI4Q2ESHUrxTg2I0HRaTEy8vvb4eNAKWlpbFlyxZGjBhha3NycqJjx46sX78+22NSU1Px8LBf+eHp6cnatWttr1u2bMlnn33G/v37ueWWW9ixYwdr165l0qRJOcaSmppKaurlGyHGx8fn2FfEIdIvwh8TrRvomdOsS7PbDIVWgwutvsQwDPadTmBtVCx/RMWy6dA5LqbbryCrUdbHOq1VI4QW1YOKRh2PiEg2HJYAxcbGYjabKVeunF17uXLl2Lt3b7bHdOrUiUmTJtG2bVvCw8NZvXo1S5YswWy+/I/w8OHDiY+Pp1atWjg7O2M2m3nrrbfo3bt3jrFMmDCBsWPH5s+FieS3qFXww1BrkS1Ajbugy3sQVK3APzo6LuVSHY91lCc20f6O6SE+7rSuEUyrS7U8FfwLt85IRORGObwIOi8+/PBDBgwYQK1atTCZTISHh9OvXz9mzJhh67No0SLmzZvH/PnzqVu3Ltu3b+ell14iNDSUyMjIbM87YsQIhgwZYnsdHx9P5cqVC/x6RK4p7gSsHA57lltf+4bCPW9D7QcKrM4nMTWDDQfO2up4rt6A0NPVmebVgmgTYU14apbzVR2PiBRLDkuAQkJCcHZ25vTp03btp0+fpnz58tkeU6ZMGZYtW0ZKSgpnz54lNDSU4cOHU7365SWqr7zyCsOHD6dnz54A1KtXjyNHjjBhwoQcEyB3d3fc3YvhChQpmcwZsPET+HUCpCWCydm6ed4dw699z6wbkG628PfxC/wRZd2EcNvRC2RcUcjjZIJ6lQJoXSOY1jXK0LhqAO4uuleViBR/DkuA3NzcaNKkCatXr6Zr166AtQh69erVDBo06JrHenh4ULFiRdLT0/nmm2/o0aOH7b3k5GScrrrfkLOzMxZLTvujiBQhRzfC90Mub6pXqTnc9wGUvzVfTm8YBgdjk2x1PBsOniUx1f6+XlWDvWx1PC3DQ/D3Uh2PiJQ8Dp0CGzJkCJGRkTRt2pTmzZszefJkkpKS6NevHwB9+vShYsWKTJgwAYCNGzdy4sQJGjZsyIkTJxgzZgwWi4VXX33Vds7777+ft956iypVqlC3bl22bdvGpEmT6N+/v0OuUSRXks/Bz6Nh65fW156B0HEsNHrixm4geoXM20ysvTTKczIuxe79AC9XWoVbp7Ra1wihclDB7P4sIlKUODQBevTRRzlz5gyjRo0iOjqahg0bsnLlSlth9NGjR+1Gc1JSUhg5ciQHDx7Ex8eHLl26MGfOHAICAmx9pkyZwhtvvMHzzz9PTEwMoaGhPPPMM4waNaqwL0/k+iwW2D4PVo2Ci+esbY0eh47jwDv4hk55Mc3MpsPnWPevdZRnz1W3mXBzdqJpWCCtI0JoU6MMdUL9cHZSHY+IlC4O3QeoqNI+QFIoTv8D3w2x3sICoGwduHcSVL09z6f6NyaRH/+JZt2/sfx1+DxpZvsp3zoV/GwbEDYLC8LTTXU8IlLyFIt9gERKrdRE+O1t653CDTO4elsLnG97DpzzVm8Tk5DCxB/3s2jLMa78r0yov4d1SiuiDC3DgwnxUZG/iMiVlACJFBbDgL3fwYrh1juMA9S6D+55B/wr5elUKelmpq89xP/98i9JadZ9sO6oWYb2tcrSukYI1UJ0mwkRkWtRAiRSGM4fhh9ehagfra8DqlhvYXFLpzydxjAMvv37FO+s2MuJCxcBaFA5gFH31aZJ1aB8DlpEpORSAiRSkDLS4M+P4Pf3IeMiOLlab1/RZqj1TuJ5sPXoed78bjfbjl4ArHdTH9a5Fg80CMVJRcwiInmiBEikoBz63Xrj0tj91tdhbeDeiVCmZp5Oc+LCRd5ZsZflO04C1t2Yn7sjnAFtqquYWUTkBikBEslviTHw4+uwc5H1tXcZ6DQe6j2Sp1tYJKVmMO3XA3z+x0FSMyyYTNC9cSVe6VSTcn4e1z+BiIjkSAmQSH6xmOGvGbD6TUiNA0zQ7EloP9K6sWEumS0G32w5zns/7eNMgvXmo82rBTHqvjrcWtG/gIIXESldlACJ5IeT26x7+pzcan1doSHcNwkqNsnTadYfOMub3+1m96XNC6sEefFal1p0qlteq7pERPKREiCRm5ESB2v+C5u/AMMC7n7Q/g3ryI9T7utzDscmMf6HPfy023pzYF8PFwa3j6BPy6q6+aiISAFQAiRyIwwDdn0DP74GidakhVsfhk5vgW/5XJ8m7mI6U1ZHMXv9YdLNBs5OJh5rXoWXOkYQrM0LRUQKjBIgkbyKjbKu7jr0m/V1cA3rnj7hd+b6FBlmC/M3HeWDVfs5n5wOQLtbyjDy3tpElPMtiKhFROQKSoBEciv9IvwxEdZ9COY0cHaHtkOh1YvgkvvRml/2xfDW93v4NyYRgIiyPrx+b23uqFm2oCIXEZGrKAESyY2oVfDDUOuOzgA1OkKX9yCoeq5Psf90Av/9fg+/7z8DQKCXK0PuuoVezavg4uxUAEGLiEhOlACJXEvcCVg5HPYst772DYV73obaD+R6T5+zialMWrWfrzYdxWKAq7OJvi3DGNQ+An/PvN38VERE8ocSIJHsmDNg4yfw6wRISwSTs/Vu7XcMB/fc1eikZpiZte4wU9f8S0JqBgCd65Zn+D21CAvxLsjoRUTkOpQAiVzt6Eb4fgic3mV9Xak53PcBlL81V4cbhsHKXdFMWLGXo+eSAagb6scb99XhturBBRW1iIjkgRIgkUzJ5+Dn0bD1S+trz0DoOBYaPQFOuavR2Xk8jje/382mQ+cAKOvrziudatK9cSXdsFREpAhRAiRiscD2ebBqFFy0Ji40ehw6jgPv3I3YnI5P4d2V+1iy7TiGAe4uTjzTtjrPtAvH211/zUREihr9yyylh2FARiqkJ0NakvXPxBjrTs7HNlj7lK0D906Cqrfn6pQX08x89vtBPvntABfTzQB0bRjKq51rERrgWVBXIiIiN0kJkBQtFvPl5CTzz/SLV7QlQ3rSVX8mX/Fecg59Lz0MS/af6+ptLXC+7Tlwvv7KLIvFYNn2E7y7ch/R8SkANK4SwBv31aFRldzf+FRERBxDCZDcmPQUSDqTfcKRY8Jydd/krH3MqYUTv7MbuHqBmzdUuQ3uGgf+lXJ16F+Hz/Hmd7vZcTwOgIoBngy/pxb31a+gG5aKiBQTSoAk745tgvmPXq6XKRAma3Li6gVuXtYRGlfPy8/dvC4nMFn6XNV2dV9XL3DO+4/+sXPJvL1iL9/vPAWAt5szz99ZgydbV8PDVTcsFREpTpQASd6cPXA5+XFytSYV10w4PK9KVLLr63nF80t/unjkeqPBgpaQks7HvxxgxrpDpGVYMJng0aaVGXL3LZT19XB0eCIicgOUAEnuJcXC3O7W5Ce0EfT93prQlFBmi8HCzceYtGofsYlpALQMD2bkvXWoE+rn4OhERORmKAGS3ElLto78nD8EAVXhsUUlOvlZGxXLf7/fzd7oBACqhXjzWpfadKxdVnU+IiIlgBIguT6LGZYMgBN/WTcHfPwb8CmZdy4/cCaR8d/vYfXeGAD8PFx4seMtPHFbVdxcdMNSEZGSQgmQXJthwMoRsPc7cHaHnl9BSISjo8p3F5LTmPxzFHM3HCHDYuDsZOKJ26ryYocIAr3dHB2eiIjkMyVAcm3rP4ZNn1qfP/RprjcILC7SzRbmrD/Ch6ujiLuYDkCHWmUZ0aU2Ncr6ODg6EREpKEqAJGf/LIWfXrc+v/u/ULebY+PJZ8fOJdN/1maiYhIBqFXel5H31qF1RIiDIxMRkYKmBEiyd2Q9LHnG+rz503D7IMfGk892n4wncuYmziSkEuztxn/ursmjzSrjrBuWioiUCkqAJKvYKFjQy7orc817ofPbRWZPnvyw8eBZnpr9FwmpGdQq78vs/s0p56f9fEREShMlQGIvMebSXj/noWJT6P4FOJWcXY5//CeaF77aRlqGheZhQXwe2RR/z+vf+0tEREoWJUByWVqSda+fC0cgsBo8ttC6K3MJsWDTUV5buhOLAXfVKceUXo10CwsRkVJKCZBYmTPg6yfh5FbwDILeX4N3ySgGNgyD//v1AO/9uA+AHk0rMb5bPVycta+PiEhppQRIrHv9rHgV9q+w3oOr1wIIqeHoqPKFxWIw7rvdzPrzMADP3xHOK51qajdnEZFSTgmQwJ8fwV/TARM89BlUaeHoiPJFWoaFoYt3sHzHSQBG3VeH/q2rOTgqEREpCpQAlXY7v4ZVo6zPO42HOg86Np58kpSawbNzt/BHVCwuTiYm9mjAgw0rOjosEREpIpQAlWaH18Gy56zPb3sebn/esfHkk3NJafSbtZkdxy7g6erMtMcbc0fNknnvMhERuTFKgEqrM/su7fWTBrXvt+70XAIcP59MnxmbOHgmiUAvV2b0bUajKoGODktERIoYJUClUcJpmPswpMRBpebw0OclYq+f/acT6DN9E9HxKYT6e/Dlky10Py8REcmWEqDSJjUR5j8CcUchqLp1xZerp6Ojumlbjpyj/6y/iLuYTkRZH758sjkV/Iv/dYmISMFQAlSamDPg635wagd4BV/a6yfY0VHdtDV7T/P8vK2kpFtoXCWAGX2bEeDl5uiwRESkCFMCVFoYBvzwH4j6CVw84bFFEBzu6Khu2tdbjjPsm78xWwzurFmG/+vdBE+34j+dJyIiBUsJUGmxdhJsmQWYrPf3qtTU0RHdtE9/O8CEFXsBeKhxRd7pXh9X7e4sIiK5oASoNPh7EaweZ31+zztQ+z7HxnOTLBaDt1fu5bPfDwLwdNvqDO9cCycn7e4sIiK5owSopDv0Oyy7tL/P7YOgxTOOjecmpZstDPvmb5ZsPQHAiHtq8Uy74j+VJyIihUsJUEkWswcWPA6WdKjTFe5609ER3ZTktAwGztvKL/vO4Oxk4p3u9Xm4SSVHhyUiIsWQEqCSKv6Uda+f1DiofBt0+xScim99zIVk6+7O245ewMPViY8fa0yH2uUcHZaIiBRTSoBKotQE614/8cchuAb0+gpcPRwd1Q07FXeRPtM3ERWTiJ+HCzP7NaNJ1SBHhyUiIsWYEqCSxpwOiyIheid4l7Hu9eNVfJOFf2OsuzufjEuhnJ87X/ZvQc3yvo4OS0REijklQCWJYcB3L8OB1Zf2+lkIQdUcHdUN23b0PP1mbeZCcjrVy3jzZf/mVAr0cnRYIiJSAigBKkl+fx+2zQGTEzwyEyo2cXREN+zXfTE8N3crF9PNNKjkz8x+zQny1u7OIiKSP5QAlRTbv4JfLt3R/Z53oeY9jo3nJizbdoKhi3eQYTFoExHCJ483wdtdP6oiIpJ/9FulJDj4KywfZH3e6kVoPsCh4dyM6WsP8eZ3uwF4oEEo7z/SADeX4rt6TUREiiYlQMXd6X9g4RNgyYBbu0OHMY6O6IYYhsG7P+5j2q8HAOjbMoxR99XR7s4iIlIglAAVZ3EnYN4jkBoPVVtB12nFcq+fDLOF15buZNFfxwF4pVNNnr8jHJNJyY+IiBQMJUDFVUo8zO8B8Scg5BZ4dC64uDs6qjxLSTczaP42ft5zGicTjO9Wj57Nqzg6LBERKeGUABVH5nRY1AdO7wLvssV2r5+4i+kMmP0Xmw6fw83FiSm9GtGpbnlHhyUiIqWAEqDixjDg2xfh4C/g6gW9F0FgVUdHlWen41OInLGJvdEJ+Lq78HlkU26rHuzosEREpJRQAlTc/PYObJ93aa+fWRDayNER5dnBM4n0mbGJ4+cvUsbXndn9mlMn1M/RYYmISCmiBKg42TYXfp1gfX7vJLilk2PjuQE7j8fRd+YmzialERbsxZf9W1AlWLs7i4hI4VICVFz8u9o69QXQegg07efYeG7A2qhYnpnzF0lpZuqG+jGrX3PK+Ba/wm0RESn+lAAVB9E7rTc4tWRAvUegwyhHR5Rn3/19kpcXbifdbNAyPJhPn2iCr4ero8MSEZFSSglQURd33LrXT1oChLWBBz+GYrY/zpfrDzN6+T8YBtxbrwKTHm2Au4uzo8MSEZFSrEjsmvfxxx8TFhaGh4cHLVq0YNOmTTn2TU9PZ9y4cYSHh+Ph4UGDBg1YuXKlXZ+wsDBMJlOWx8CBAwv6UvJXSpw1+Uk4BWVqFbu9fgzDYNKq/Yz6nzX5eeK2qnzUq5GSHxERcTiHJ0ALFy5kyJAhjB49mq1bt9KgQQM6depETExMtv1HjhzJp59+ypQpU9i9ezfPPvss3bp1Y9u2bbY+mzdv5tSpU7bHqlWrAHjkkUcK5ZryRUaa9RYXMbvBp7x1rx/PAEdHlWtmi8Hry3bx0eooAF7qGMG4B+virFtbiIhIEWAyDMNwZAAtWrSgWbNmTJ06FQCLxULlypV54YUXGD58eJb+oaGhvP7663ajOd27d8fT05O5c+dm+xkvvfQS3333HVFRUbm6vUJ8fDz+/v7ExcXh5+eA5dmGAUufhb8XgJsP9PsBKjQo/DhuUEq6mZcXbmfFrmhMJnjzwVt5/Lbit1eRiIgUL3n5/e3QEaC0tDS2bNlCx44dbW1OTk507NiR9evXZ3tMamoqHh4edm2enp6sXbs2x8+YO3cu/fv3zzH5SU1NJT4+3u7hUL+8ZU1+TM7wyOxilfwkpKTTd+YmVuyKxs3ZiY8fa6zkR0REihyHJkCxsbGYzWbKlStn116uXDmio6OzPaZTp05MmjSJqKgoLBYLq1atYsmSJZw6dSrb/suWLePChQv07ds3xzgmTJiAv7+/7VG5cuUbvqabtmU2/P6e9fn9kyGi4zW7FyVnElLp+dkGNhw8h4+7C7P6NaNLvQqODktERCQLh9cA5dWHH35IREQEtWrVws3NjUGDBtGvXz+ccrgL+vTp07nnnnsIDQ3N8ZwjRowgLi7O9jh27FhBhX9tUT/Ddy9bn7d9FRr3cUwcN+Do2WQe/uRP/jkZT4iPGwuevo2WNUIcHZaIiEi2HLoMPiQkBGdnZ06fPm3Xfvr0acqXz/6mmGXKlGHZsmWkpKRw9uxZQkNDGT58ONWrV8/S98iRI/z8888sWbLkmnG4u7vj7u7g1VWndsDiSDDMUL8n3PmaY+PJg39OxhE5YzOxialUDvJkTv8WhIV4OzosERGRHDl0BMjNzY0mTZqwevVqW5vFYmH16tXcfvvt1zzWw8ODihUrkpGRwTfffMODDz6Ypc/MmTMpW7Ys9957b77Hnq8uHL20108iVGsHD0wpNnv9rD9wlp6fbiA2MZXaFfz45tmWSn5ERKTIc/hGiEOGDCEyMpKmTZvSvHlzJk+eTFJSEv36WW/10KdPHypWrMiECdZ7YG3cuJETJ07QsGFDTpw4wZgxY7BYLLz66qt257VYLMycOZPIyEhcXBx+mTm7eN6a/CSehrJ14NE54OLm6KhyZeWuUwxesJ20DAvNqwXxRWRT/LS7s4iIFAMOzwweffRRzpw5w6hRo4iOjqZhw4asXLnSVhh99OhRu/qelJQURo4cycGDB/Hx8aFLly7MmTOHgIAAu/P+/PPPHD16lP79+xfm5eRNRqp1r58ze8E3FHovBg9/R0eVK19tOsrrS3diMeDuOuX4qFcjPFy1waGIiBQPDt8HqCgqlH2ALBZY+jTsXAxuvtB/BZSvVzCflc/2RsfTefIfAPRsVpn/dr0VF+diV08vIiIlTF5+fzt8BKjUWvOmNflxcoEes4tN8gPw674zALSJCGHCQ/VytbmkiIhIUaL/tjvCXzNg7STr8/s/ghodHBtPHm04eBaAO2qWVfIjIiLFkhKgwrb/R/j+P9bnd4yARr0dG08eZZgt/HX4PAAtqgU5OBoREZEbowSoMJ3YCov7gmGBho9Du2GOjijP/jkZT2JqBn4eLtSu4ID7pImIiOQDJUCF6eQ2SE+G6ndab3NRDKePNh6yTn81rxakO7uLiEixleci6LCwMPr370/fvn2pUqVKQcRUcjV7EvwrQZXbwbl47pez4eA5AG6rHuzgSERERG5cnkeAXnrpJZYsWUL16tW56667WLBgAampqQURW8l0SyfwKJ5TR2aLweZD1gSoRTUlQCIiUnzdUAK0fft2Nm3aRO3atXnhhReoUKECgwYNYuvWrQURoxQRu0/Gk5Caga+7C3VCi2cSJyIiAjdRA9S4cWM++ugjTp48yejRo/niiy9o1qwZDRs2ZMaMGWh/xZIns/6nmep/RESkmLvhjRDT09NZunQpM2fOZNWqVdx22208+eSTHD9+nNdee42ff/6Z+fPn52es4mCX63+0/F1ERIq3PCdAW7duZebMmXz11Vc4OTnRp08fPvjgA2rVqmXr061bN5o1a5avgYpjmS0Gmy6NAKn+R0REirs8J0DNmjXjrrvuYtq0aXTt2hVX16yrmapVq0bPnj3zJUApGvZGxxOfkoGPuwt1Vf8jIiLFXJ4ToIMHD1K1atVr9vH29mbmzJk3HJQUPZnTX03DAnXjUxERKfby/JssJiaGjRs3ZmnfuHEjf/31V74EJUXPxoOa/hIRkZIjzwnQwIEDOXbsWJb2EydOMHDgwHwJSooWi8Vg02EVQIuISMmR5wRo9+7dNG7cOEt7o0aN2L17d74EJUXLvtMJXEhOx8vNmVsr+js6HBERkZuW5wTI3d2d06dPZ2k/deoULi43vKpeirDM6a+mYUG4qv5HRERKgDz/Nrv77rsZMWIEcXFxtrYLFy7w2muvcdddd+VrcFI0ZBZAt6im6S8RESkZ8jxk8/7779O2bVuqVq1Ko0aNANi+fTvlypVjzpw5+R6gOJZ9/Y8KoEVEpGTIcwJUsWJF/v77b+bNm8eOHTvw9PSkX79+9OrVK9s9gaR4i4pJ5FxSGp6uztSvpPofEREpGW6oaMfb25unn346v2ORIijz/l9Nqgaq/kdEREqMG65a3r17N0ePHiUtLc2u/YEHHrjpoKTo2HCpAFrL30VEpCS5oZ2gu3Xrxs6dOzGZTLa7vptM1ruDm83m/I1QHMYwDDZmFkCr/kdEREqQPM9pvPjii1SrVo2YmBi8vLz4559/+P3332natCm//vprAYQojvJvTCJnk9LwcHVS/Y+IiJQoeR4BWr9+PWvWrCEkJAQnJyecnJxo3bo1EyZMYPDgwWzbtq0g4hQH2HDIOvrTuEog7i7ODo5GREQk/+R5BMhsNuPr6wtASEgIJ0+eBKBq1ars27cvf6MTh9poq//R9JeIiJQseR4BuvXWW9mxYwfVqlWjRYsWvPvuu7i5ufHZZ59RvXr1gohRHMAwDG2AKCIiJVaeE6CRI0eSlJQEwLhx47jvvvto06YNwcHBLFy4MN8DFMc4GJtEbGIq7i5ONKgc4OhwRERE8lWeE6BOnTrZnteoUYO9e/dy7tw5AgMDbSvBpPjLXP7eqEoAHq6q/xERkZIlTzVA6enpuLi4sGvXLrv2oKAgJT8ljG35ezXV/4iISMmTpwTI1dWVKlWqaK+fEs5a/6MCaBERKbnyvArs9ddf57XXXuPcuXMFEY8UAYfPJhOTkIqbsxONqgQ4OhwREZF8l+caoKlTp/Lvv/8SGhpK1apV8fb2tnt/69at+RacOEbm6E9D1f+IiEgJlecEqGvXrgUQhhQltv1/tPxdRERKqDwnQKNHjy6IOKSIMAyDjZd2gFb9j4iIlFR5rgGSku3ouWROxaXg6myiUZVAR4cjIiJSIPI8AuTk5HTNJe9aIVa8ZS5/b1g5AE831f+IiEjJlOcEaOnSpXav09PT2bZtG7Nnz2bs2LH5Fpg4RmYBtPb/ERGRkizPCdCDDz6Ype3hhx+mbt26LFy4kCeffDJfApPCd2X9T4vqKoAWEZGSK99qgG677TZWr16dX6cTBzh+/iInLlzExclEk6qq/xERkZIrXxKgixcv8tFHH1GxYsX8OJ04SOb0V/1K/ni55XlwUEREpNjI82+5q296ahgGCQkJeHl5MXfu3HwNTgqXlr+LiEhpkecE6IMPPrBLgJycnChTpgwtWrQgMFDTJsWZrQBaCZCIiJRweU6A+vbtWwBhiKMdP5/M8fMXcXYy0VT1PyIiUsLluQZo5syZLF68OEv74sWLmT17dr4EJYUvc/+fehX98XZX/Y+IiJRseU6AJkyYQEhISJb2smXLMn78+HwJSgrfxkOZ019a/i4iIiVfnhOgo0ePUq1atSztVatW5ejRo/kSlBS+DQdVAC0iIqVHnhOgsmXL8vfff2dp37FjB8HB+uVZHJ28cJGj55JxMqH6HxERKRXynAD16tWLwYMH88svv2A2mzGbzaxZs4YXX3yRnj17FkSMUsAyp7/qVfTH18PVwdGIiIgUvDxXu7755pscPnyYDh064OJiPdxisdCnTx/VABVTmQXQWv4uIiKlRZ4TIDc3NxYuXMh///tftm/fjqenJ/Xq1aNq1aoFEZ8UgssbIKoAWkRESocbXu8cERFBREREfsYiDnA6PoVDsUnW+p8wJUAiIlI65LkGqHv37rzzzjtZ2t99910eeeSRfAlKCk/m7s91Q/3xU/2PiIiUEnlOgH7//Xe6dOmSpf2ee+7h999/z5egpPBkLn9vUU2jPyIiUnrkOQFKTEzEzc0tS7urqyvx8fH5EpQUnssbIKoAWkRESo88J0D16tVj4cKFWdoXLFhAnTp18iUoKRwx8SkcPJOEyQTNVf8jIiKlSJ6LoN944w0eeughDhw4QPv27QFYvXo18+fP5+uvv873AKXgZK7+ql3eD38v1f+IiEjpkecE6P7772fZsmWMHz+er7/+Gk9PTxo0aMCaNWsICtIoQnGSOf2l21+IiEhpc0PL4O+9917uvfdeAOLj4/nqq68YOnQoW7ZswWw252uAUnBsBdDa/0dEREqZPNcAZfr999+JjIwkNDSUiRMn0r59ezZs2JCfsUkBik1M5d+YREwmrQATEZHSJ08jQNHR0cyaNYvp06cTHx9Pjx49SE1NZdmyZSqALmYyb39Rs5wvAV5ZV/WJiIiUZLkeAbr//vupWbMmf//9N5MnT+bkyZNMmTKlIGOTAqT6HxERKc1yPQK0YsUKBg8ezHPPPadbYJQAmTtA6/5fIiJSGuV6BGjt2rUkJCTQpEkTWrRowdSpU4mNjS3I2KSAnE1MZf/pRACaV9MIkIiIlD65ToBuu+02Pv/8c06dOsUzzzzDggULCA0NxWKxsGrVKhISEm4ogI8//piwsDA8PDxo0aIFmzZtyrFveno648aNIzw8HA8PDxo0aMDKlSuz9Dtx4gSPP/44wcHBtrvV//XXXzcUX0m06dDl+p8gb9X/iIhI6ZPnVWDe3t7079+ftWvXsnPnTv7zn//w9ttvU7ZsWR544IE8nWvhwoUMGTKE0aNHs3XrVho0aECnTp2IiYnJtv/IkSP59NNPmTJlCrt37+bZZ5+lW7dubNu2zdbn/PnztGrVCldXV1asWMHu3buZOHEigYGBeb3UEitzA0QtfxcRkdLKZBiGcbMnMZvNfPvtt8yYMYPly5fn+rgWLVrQrFkzpk6dCoDFYqFy5cq88MILDB8+PEv/0NBQXn/9dQYOHGhr6969O56ensydOxeA4cOHs27dOv74448bvp74+Hj8/f2Ji4vDz8/vhs9TVHWe/Dt7oxP4v96N6VKvgqPDERERyRd5+f19w/sAXcnZ2ZmuXbvmKflJS0tjy5YtdOzY8XIwTk507NiR9evXZ3tMamoqHh4edm2enp6sXbvW9nr58uU0bdqURx55hLJly9KoUSM+//zza8aSmppKfHy83aOkOp+Uxt5o63Rlc+3/IyIipVS+JEA3IjY2FrPZTLly5ezay5UrR3R0dLbHdOrUiUmTJhEVFWWrPVqyZAmnTp2y9Tl48CDTpk0jIiKCH3/8keeee47Bgwcze/bsHGOZMGEC/v7+tkflypXz5yKLoE2HrdNfEWV9CPFxd3A0IiIijuGwBOhGfPjhh0RERFCrVi3c3NwYNGgQ/fr1w8np8mVYLBYaN27M+PHjadSoEU8//TQDBgzgk08+yfG8I0aMIC4uzvY4duxYYVyOQ2Quf1f9j4iIlGYOS4BCQkJwdnbm9OnTdu2nT5+mfPny2R5TpkwZli1bRlJSEkeOHGHv3r34+PhQvXp1W58KFSpk2ZW6du3aHD16NMdY3N3d8fPzs3uUVJk7QGsDRBERKc0clgC5ubnRpEkTVq9ebWuzWCysXr2a22+//ZrHenh4ULFiRTIyMvjmm2948MEHbe+1atWKffv22fXfv38/VatWzd8LKIbiktPZE22tb1L9j4iIlGY3dDf4/DJkyBAiIyNp2rQpzZs3Z/LkySQlJdGvXz8A+vTpQ8WKFZkwYQIAGzdu5MSJEzRs2JATJ04wZswYLBYLr776qu2cL7/8Mi1btmT8+PH06NGDTZs28dlnn/HZZ5855BqLkk2Hz2EYUL2MN2V9Pa5/gIiISAnl0ATo0Ucf5cyZM4waNYro6GgaNmzIypUrbYXRR48etavvSUlJYeTIkRw8eBAfHx+6dOnCnDlzCAgIsPVp1qwZS5cuZcSIEYwbN45q1aoxefJkevfuXdiXV+Rcvv2Fpr9ERKR0y5d9gEqakroP0H1T/mDXiXg+7NmQBxtWdHQ4IiIi+arQ9wGSoi/uYjq7T1rrfzQCJCIipZ0SoFLir8PnsBhQLcSbcn6q/xERkdJNCVApkXn/r9u0/4+IiIgSoNLCtgFiNU1/iYiIKAEqBRJS0tl1Ig7QDtAiIiKgBKhU+OvweSwGVA32ooK/p6PDERERcTglQKXAhkOZ018a/REREQElQKWC7v8lIiJiTwlQCZeYmsFOW/2PEiARERFQAlTibTlyHrPFoHKQJxUDVP8jIiICSoBKPC1/FxERyUoJUAm3UTdAFRERyUIJUAmWnJbB38cv1f9oBZiIiIiNEqASbMuR82RYDCoGeFI5yMvR4YiIiBQZSoBKMFv9j3Z/FhERsaMEqASz7f+jAmgRERE7SoBKqItpZnYcvwCoAFpERORqSoBKqK1Hz5NuNqjg70HlIO3/IyIiciUlQCXUlcvfTSaTg6MREREpWpQAlVAbLtX/aPm7iIhIVkqASqCUdDPbj10AVP8jIiKSHSVAJdDWo+dJM1so5+dO1WDt/yMiInI1JUAl0Ebb9Jfqf0RERLKjBKgE2nhI9/8SERG5FiVAJUxKupmtRy8A2gFaREQkJ0qASpgdxy6QlmGhjK871UO8HR2OiIhIkaQEqIS5cvm76n9ERESypwSohFH9j4iIyPUpASpBUjPMbDlyHoDbVP8jIiKSIyVAJcjfx+NIzbAQ4uNGeBkfR4cjIiJSZCkBKkE2HLBOf2n/HxERkWtTAlSCbDx0qQBa018iIiLXpASohEjLsFxR/6MCaBERkWtRAlRC7DxxgYvpZoK83Ygoq/ofERGRa1ECVEJo/x8REZHcUwJUQmw4mFkArfofERGR61ECVAKkm6+o/wlX/Y+IiMj1KAEqAXaeiCM5zUyAlyu3lPV1dDgiIiJFnhKgEmDjFfU/Tk6q/xEREbkeJUAlwOX6H01/iYiI5IYSoGIuw2zhr8PaAFFERCQvlAAVc/+cjCcpzYy/pyu1y/s5OhwREZFiQQlQMZc5/dUsTPU/IiIiuaUEqJjLvP/XbZr+EhERyTUlQMWY2WKw2ZYAqQBaREQkt5QAFWO7T8aTkJqBr4cLtSuo/kdERCS3lAAVY5n1P83DgnBW/Y+IiEiuKQEqxjYesiZAmv4SERHJGyVAxZTZYrDpkPb/ERERuRFKgIqpPafiiU/JwMfdhTqq/xEREckTJUDFVOby92Zhgbg469soIiKSF/rNWUzZ7v+l+h8REZE8UwJUDFmuqP9RAbSIiEjeKQEqhvZGJxB3MR1vN2duDVX9j4iISF4pASqGMpe/Nw0LUv2PiIjIDdBvz2Locv2Plr+LiIjcCCVAxcyV9T8tqqn+R0RE5EYoASpmomISOZ+cjqerM/Ur+Ts6HBERkWJJCVAxkzn91TQsEFfV/4iIiNwQ/QYtZnT/LxERkZunBKgYMQyDjQcz639UAC0iInKjlAAVI//GJHI2KQ0PVyfqVwpwdDgiIiLFlhKgYiSz/qdJ1UDcXPStExERuVFF4rfoxx9/TFhYGB4eHrRo0YJNmzbl2Dc9PZ1x48YRHh6Oh4cHDRo0YOXKlXZ9xowZg8lksnvUqlWroC+jwG3IvP2Flr+LiIjcFIcnQAsXLmTIkCGMHj2arVu30qBBAzp16kRMTEy2/UeOHMmnn37KlClT2L17N88++yzdunVj27Ztdv3q1q3LqVOnbI+1a9cWxuUUGLv6HxVAi4iI3BSHJ0CTJk1iwIAB9OvXjzp16vDJJ5/g5eXFjBkzsu0/Z84cXnvtNbp06UL16tV57rnn6NKlCxMnTrTr5+LiQvny5W2PkJCQwricAnPgTBKxiam4uzjRoLL2/xEREbkZDk2A0tLS2LJlCx07drS1OTk50bFjR9avX5/tMampqXh4eNi1eXp6ZhnhiYqKIjQ0lOrVq9O7d2+OHj2a/xdQiDKXvzeuEoi7i7ODoxERESneHJoAxcbGYjabKVeunF17uXLliI6OzvaYTp06MWnSJKKiorBYLKxatYolS5Zw6tQpW58WLVowa9YsVq5cybRp0zh06BBt2rQhISEh23OmpqYSHx9v9yhqNtimv7T8XURE5GY5fAosrz788EMiIiKoVasWbm5uDBo0iH79+uHkdPlS7rnnHh555BHq169Pp06d+OGHH7hw4QKLFi3K9pwTJkzA39/f9qhcuXJhXU6uWOt/tAGiiIhIfnFoAhQSEoKzszOnT5+2az99+jTly5fP9pgyZcqwbNkykpKSOHLkCHv37sXHx4fq1avn+DkBAQHccsst/Pvvv9m+P2LECOLi4myPY8eO3fhFFYBDsUnEJKTi5uJEw8oBjg5HRESk2HNoAuTm5kaTJk1YvXq1rc1isbB69Wpuv/32ax7r4eFBxYoVycjI4JtvvuHBBx/MsW9iYiIHDhygQoUK2b7v7u6On5+f3aMo2Xhp+XujygF4uKr+R0RE5GY5fApsyJAhfP7558yePZs9e/bw3HPPkZSURL9+/QDo06cPI0aMsPXfuHEjS5Ys4eDBg/zxxx907twZi8XCq6++auszdOhQfvvtNw4fPsyff/5Jt27dcHZ2plevXoV+ffkhcwNELX8XERHJHy6ODuDRRx/lzJkzjBo1iujoaBo2bMjKlStthdFHjx61q+9JSUlh5MiRHDx4EB8fH7p06cKcOXMICAiw9Tl+/Di9evXi7NmzlClThtatW7NhwwbKlClT2Jd3067c/+c2FUCLiIjkC5NhGIajgyhq4uPj8ff3Jy4uzuHTYUfOJtHuvV9xc3bi7zF3awpMREQkB3n5/e3wKTC5tszprwaV/ZX8iIiI5BMlQEXc5ekv1f+IiIjkFyVARZhhGJcLoHUDVBERkXyjBKgIO37+IifjUnB1NtG4aoCjwxERESkxlAAVYesvjf7UrxSAl5vDF+yJiIiUGEqAijAtfxcRESkYSoCKMNX/iIiIFAwlQEXU8fPJnLhwERcnE02qBjo6HBERkRJFCVARlTn9Va+SP97uqv8RERHJT0qAiihNf4mIiBQcJUBFVOYd4FUALSIikv+UABVBJy9c5Oi5ZJydTDQNUwIkIiKS35QAFUEbD1mnv26t6I+P6n9ERETynRKgImjDgUvTX9U0+iMiIlIQlAAVQZkjQLoBqoiISMFQAlTERMelcPhsMk4maBqm/X9EREQKghKgIubK+h9fD1cHRyMiIlIyKQEqYjZc2gCxhep/RERECowSoCJmozZAFBERKXBKgIqQmPgUDsYmYTJBM40AiYiIFBglQEXIhku7P9ep4Ie/p+p/RERECooSoCIkc/pLy99FREQKlhKgIuTyDVA1/SUiIlKQlAAVEWcSUjlwxlr/01wJkIiISIFSAlREbLpU/1OrvB8BXm4OjkZERKRkUwJURGj6S0REpPAoASoidP8vERGRwqMEqAg4m5jK/tOJgOp/RERECoMSoCLgcv2PL0Heqv8REREpaEqAigDV/4iIiBQuJUBFwMZLI0Cq/xERESkcSoAc7HxSGnujEwDV/4iIiBQWJUAOljn6c0s5H4J93B0cjYiISOmgBMjBMpe/t6im6S8REZHCogTIwTYctI4Ataiu6S8REZHCogTIgS4kp7E3Oh7QCJCIiEhhUgLkQJsOncMwILyMN2V8Vf8jIiJSWJQAOZCWv4uIiDiGEiAHsm2AqARIRESkUCkBcpC4i+nsPmWt/7lN+/+IiIgUKiVADvLXYWv9T/UQb8r6eTg6HBERkVJFCZCDaPpLRETEcZQAOcjlAmhNf4mIiBQ2JUAOEJ+Szq4TcYD2/xEREXEEJUAOsOXweSwGhAV7Ud5f9T8iIiKFTQmQA9jqfzT6IyIi4hBKgBxgQ2b9T7jqf0RERBxBCVAhS0zNUP2PiIiIgykBKmR/HT6H2WJQJciL0ABPR4cjIiJSKikBKmSZy99baPdnERERh1ECVMgyC6B1A1QRERHHUQJUiJJSM9h5/FL9jzZAFBERcRglQIVoy5HzZFgMKgZ4UinQy9HhiIiIlFpKgArRmYRUfD1cNP0lIiLiYC6ODqA06d6kEl0bVSQxNcPRoYiIiJRqGgEqZM5OJvw9XR0dhoiISKmmBEhERERKHSVAIiIiUuooARIREZFSRwmQiIiIlDpKgERERKTUUQIkIiIipY4SIBERESl1lACJiIhIqVMkEqCPP/6YsLAwPDw8aNGiBZs2bcqxb3p6OuPGjSM8PBwPDw8aNGjAypUrc+z/9ttvYzKZeOmllwogchERESmOHJ4ALVy4kCFDhjB69Gi2bt1KgwYN6NSpEzExMdn2HzlyJJ9++ilTpkxh9+7dPPvss3Tr1o1t27Zl6bt582Y+/fRT6tevX9CXISIiIsWIwxOgSZMmMWDAAPr160edOnX45JNP8PLyYsaMGdn2nzNnDq+99hpdunShevXqPPfcc3Tp0oWJEyfa9UtMTKR37958/vnnBAYGFsaliIiISDHh0AQoLS2NLVu20LFjR1ubk5MTHTt2ZP369dkek5qaioeHh12bp6cna9eutWsbOHAg9957r925c5Kamkp8fLzdQ0REREouhyZAsbGxmM1mypUrZ9derlw5oqOjsz2mU6dOTJo0iaioKCwWC6tWrWLJkiWcOnXK1mfBggVs3bqVCRMm5CqOCRMm4O/vb3tUrlz5xi9KREREijwXRweQVx9++CEDBgygVq1amEwmwsPD6devn23K7NixY7z44ousWrUqy0hRTkaMGMGQIUNsr+Pi4qhSpYpGgkRERIqRzN/bhmFct69DE6CQkBCcnZ05ffq0Xfvp06cpX758tseUKVOGZcuWkZKSwtmzZwkNDWX48OFUr14dgC1bthATE0Pjxo1tx5jNZn7//XemTp1Kamoqzs7Odud0d3fH3d3d9jrzC6iRIBERkeInISEBf3//a/ZxaALk5uZGkyZNWL16NV27dgXAYrGwevVqBg0adM1jPTw8qFixIunp6XzzzTf06NEDgA4dOrBz5067vv369aNWrVoMGzYsS/KTndDQUI4dO4avry8mk+nGLi4H8fHxVK5cmWPHjuHn55ev55a80/ejaNH3o2jR96Po0ffk2gzDICEhgdDQ0Ov2dfgU2JAhQ4iMjKRp06Y0b96cyZMnk5SURL9+/QDo06cPFStWtNXzbNy4kRMnTtCwYUNOnDjBmDFjsFgsvPrqqwD4+vpy66232n2Gt7c3wcHBWdpz4uTkRKVKlfLxKrPy8/PTD28Rou9H0aLvR9Gi70fRo+9Jzq438pPJ4QnQo48+ypkzZxg1ahTR0dE0bNiQlStX2gqjjx49ipPT5VrtlJQURo4cycGDB/Hx8aFLly7MmTOHgIAAB12BiIiIFDcmIzeVQpJv4uPj8ff3Jy4uTtl7EaDvR9Gi70fRou9H0aPvSf5x+EaIpY27uzujR4+2K7oWx9H3o2jR96No0fej6NH3JP9oBEhERERKHY0AiYiISKmjBEhERERKHSVAIiIiUuooARIREZFSRwlQIfr4448JCwvDw8ODFi1asGnTJkeHVGpNmDCBZs2a4evrS9myZenatSv79u1zdFgCvP3225hMJl566SVHh1KqnThxgscff5zg4GA8PT2pV68ef/31l6PDKpXMZjNvvPEG1apVw9PTk/DwcN58881c3e9KcqYEqJAsXLiQIUOGMHr0aLZu3UqDBg3o1KkTMTExjg6tVPrtt98YOHAgGzZsYNWqVaSnp3P33XeTlJTk6NBKtc2bN/Ppp59Sv359R4dSqp0/f55WrVrh6urKihUr2L17NxMnTiQwMNDRoZVK77zzDtOmTWPq1Kns2bOHd955h3fffZcpU6Y4OrRiTcvgC0mLFi1o1qwZU6dOBaz3PKtcuTIvvPACw4cPd3B0cubMGcqWLctvv/1G27ZtHR1OqZSYmEjjxo35v//7P/773//SsGFDJk+e7OiwSqXhw4ezbt06/vjjD0eHIsB9991HuXLlmD59uq2te/fueHp6MnfuXAdGVrxpBKgQpKWlsWXLFjp27Ghrc3JyomPHjqxfv96BkUmmuLg4AIKCghwcSek1cOBA7r33Xru/J+IYy5cvp2nTpjzyyCOULVuWRo0a8fnnnzs6rFKrZcuWrF69mv379wOwY8cO1q5dyz333OPgyIo3h98LrDSIjY3FbDbb7m+WqVy5cuzdu9dBUUkmi8XCSy+9RKtWrXJ9w1zJXwsWLGDr1q1s3rzZ0aEIcPDgQaZNm8aQIUN47bXX2Lx5M4MHD8bNzY3IyEhHh1fqDB8+nPj4eGrVqoWzszNms5m33nqL3r17Ozq0Yk0JkJR6AwcOZNeuXaxdu9bRoZRKx44d48UXX2TVqlV4eHg4OhzB+p+Cpk2bMn78eAAaNWrErl27+OSTT5QAOcCiRYuYN28e8+fPp27dumzfvp2XXnqJ0NBQfT9ughKgQhASEoKzszOnT5+2az99+jTly5d3UFQCMGjQIL777jt+//13KlWq5OhwSqUtW7YQExND48aNbW1ms5nff/+dqVOnkpqairOzswMjLH0qVKhAnTp17Npq167NN99846CISrdXXnmF4cOH07NnTwDq1avHkSNHmDBhghKgm6AaoELg5uZGkyZNWL16ta3NYrGwevVqbr/9dgdGVnoZhsGgQYNYunQpa9asoVq1ao4OqdTq0KEDO3fuZPv27bZH06ZN6d27N9u3b1fy4wCtWrXKsi3E/v37qVq1qoMiKt2Sk5NxcrL/de3s7IzFYnFQRCWDRoAKyZAhQ4iMjKRp06Y0b96cyZMnk5SURL9+/RwdWqk0cOBA5s+fz//+9z98fX2Jjo4GwN/fH09PTwdHV7r4+vpmqb3y9vYmODhYNVkO8vLLL9OyZUvGjx9Pjx492LRpE5999hmfffaZo0Mrle6//37eeustqlSpQt26ddm2bRuTJk2if//+jg6tWNMy+EI0depU3nvvPaKjo2nYsCEfffQRLVq0cHRYpZLJZMq2febMmfTt27dwg5Es7rjjDi2Dd7DvvvuOESNGEBUVRbVq1RgyZAgDBgxwdFilUkJCAm+88QZLly4lJiaG0NBQevXqxahRo3Bzc3N0eMWWEiAREREpdVQDJCIiIqWOEiAREREpdZQAiYiISKmjBEhERERKHSVAIiIiUuooARIREZFSRwmQiIiIlDpKgEREcmAymVi2bJmjwxCRAqAESESKpL59+2IymbI8Onfu7OjQRKQE0L3ARKTI6ty5MzNnzrRrc3d3d1A0IlKSaARIRIosd3d3ypcvb/cIDAwErNNT06ZN45577sHT05Pq1avz9ddf2x2/c+dO2rdvj6enJ8HBwTz99NMkJiba9ZkxYwZ169bF3d2dChUqMGjQILv3Y2Nj6datG15eXkRERLB8+XLbe+fPn6d3796UKVMGT09PIiIisiRsIlI0KQESkWLrjTfeoHv37uzYsYPevXvTs2dP9uzZA0BSUhKdOnUiMDCQzZs3s3jxYn7++We7BGfatGkMHDiQp59+mp07d7J8+XJq1Khh9xljx46lR48e/P3333Tp0oXevXtz7tw52+fv3r2bFStWsGfPHqZNm0ZISEjhfQFE5MYZIiJFUGRkpOHs7Gx4e3vbPd566y3DMAwDMJ599lm7Y1q0aGE899xzhmEYxmeffWYEBgYaiYmJtve///57w8nJyYiOjjYMwzBCQ0ON119/PccYAGPkyJG214mJiQZgrFixwjAMw7j//vuNfv365c8Fi0ihUg2QiBRZd955J9OmTbNrCwoKsj2//fbb7d67/fbb2b59OwB79uyhQYMGeHt7295v1aoVFouFffv2YTKZOHnyJB06dLhmDPXr17c99/b2xs/Pj5iYGACee+45unfvztatW7n77rvp2rUrLVu2vKFrFZHCpQRIRIosb2/vLFNS+cXT0zNX/VxdXe1em0wmLBYLAPfccw9Hjhzhhx9+YNWqVXTo0IGBAwfy/vvv53u8IpK/VAMkIsXWhg0bsryuXbs2ALVr12bHjh0kJSXZ3l+3bh1OTk7UrFkTX19fwsLCWL169U3FUKZMGSIjI5k7dy6TJ0/ms88+u6nziUjh0AiQiBRZqampREdH27W5uLjYCo0XL15M06ZNad26NfPmzWPTpk1Mnz4dgN69ezN69GgiIyMZM2YMZ86c4YUXXuCJJ56gXLlyAIwZM4Znn32WsmXLcs8995CQkMC6det44YUXchXfqFGjaNKkCXXr1iU1NZXvvvvOloCJSNGmBEhEiqyVK1dSoUIFu7aaNWuyd+9ewLpCa8GCBTz//PNUqFCBr776ijp16gDg5eXFjz/+yIsvvkizZs3w8vKie/fuTJo0yXauyMhIUlJS+OCDDxg6dCghISE8/PDDuY7Pzc2NESNGcPjwYTw9PWnTpg0LFizIhysXkYJmMgzDcHQQIiJ5ZTKZWLp0KV27dnV0KCJSDKkGSEREREodJUAiIiJS6qgGSESKJc3ei8jN0AiQiIiIlDpKgERERKTUUQIkIiIipY4SIBERESl1lACJiIhIqaMESEREREodJUAiIiJS6igBEhERkVJHCZCIiIiUOv8PwIdhDTkmihUAAAAASUVORK5CYII=",
=======
      "image/png": "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",
>>>>>>> 846e6051f1444a6e079d14d62446b41eae1460ec
      "text/plain": [
       "<Figure size 640x480 with 1 Axes>"
      ]
     },
     "metadata": {},
     "output_type": "display_data"
    }
   ],
   "source": [
    "import matplotlib.pyplot as plt\n",
    "\n",
    "\n",
    "num_epochs = min(len(train_acc), len(test_acc))\n",
    "\n",
    "plt.figure()\n",
    "plt.plot(np.arange(num_epochs), train_acc[:num_epochs], label='Training Accuracy')\n",
    "plt.plot(np.arange(num_epochs), test_acc[:num_epochs], label='Test Accuracy')\n",
    "\n",
    "# Add labels and legend\n",
    "plt.xlabel('Epochs')\n",
    "plt.ylabel('Accuracy')\n",
    "plt.title('Training and Test Accuracy Over Epochs')\n",
    "plt.legend()\n",
    "plt.show()"
   ]
  },
  {
   "cell_type": "code",
<<<<<<< HEAD
   "execution_count": 52,
=======
   "execution_count": 19,
>>>>>>> 846e6051f1444a6e079d14d62446b41eae1460ec
   "metadata": {},
   "outputs": [
    {
     "name": "stdout",
     "output_type": "stream",
     "text": [
      "Model saved to ./model/cnn_model2.pth\n"
     ]
    }
   ],
   "source": [
    "model_path = \"./model/cnn_model2.pth\"\n",
    "torch.save(model.state_dict(), model_path)\n",
    "print(f\"Model saved to {model_path}\")"
   ]
  },
  {
   "cell_type": "code",
<<<<<<< HEAD
   "execution_count": 53,
=======
   "execution_count": 20,
>>>>>>> 846e6051f1444a6e079d14d62446b41eae1460ec
   "metadata": {},
   "outputs": [
    {
     "name": "stdout",
     "output_type": "stream",
     "text": [
      "Model loaded successfully.\n",
      "Predicted class for sample 1: N\n",
      "Predicted class for sample 2: N\n",
      "Predicted class for sample 3: N\n",
      "Predicted class for sample 4: N\n",
      "Predicted class for sample 5: Q\n",
      "Predicted class for sample 6: N\n",
<<<<<<< HEAD
      "Predicted class for sample 7: Q\n",
=======
      "Predicted class for sample 7: N\n",
>>>>>>> 846e6051f1444a6e079d14d62446b41eae1460ec
      "Predicted class for sample 8: Q\n",
      "Predicted class for sample 9: Q\n",
      "Predicted class for sample 10: N\n",
      "Predicted class for sample 11: N\n",
      "Predicted class for sample 12: N\n",
      "Predicted class for sample 13: N\n",
      "Predicted class for sample 14: N\n",
      "Predicted class for sample 15: N\n",
      "Predicted class for sample 16: N\n",
      "Predicted class for sample 17: S\n",
      "Predicted class for sample 18: N\n",
      "Predicted class for sample 19: N\n",
      "Predicted class for sample 20: N\n"
     ]
    }
   ],
   "source": [
    "loaded_model = CNN1D(num_classes).to(device)  # Reinitialize model with the same architecture\n",
    "loaded_model.load_state_dict(torch.load(model_path, weights_only=True))\n",
    "\n",
    "print(\"Model loaded successfully.\")\n",
    "\n",
    "sample_inputs = X_test_tensor[:20]  # Take the first 20 samples\n",
    "sample_inputs = sample_inputs.to(device)  # Move to the appropriate device\n",
    "\n",
    "with torch.no_grad():\n",
    "\n",
    "    outputs = loaded_model(sample_inputs)\n",
    "    _, predicted_classes = torch.max(outputs, 1)  # Get the predicted classes\n",
    "\n",
    "# Decode the predicted classes to the original labels\n",
    "predicted_labels = label_encoder.inverse_transform(predicted_classes.cpu().numpy())  # Move to CPU for numpy conversion\n",
    "\n",
    "# Print predicted labels for each sample\n",
    "for i, label in enumerate(predicted_labels):\n",
    "    print(f\"Predicted class for sample {i + 1}: {label}\")"
   ]
<<<<<<< HEAD
=======
  },
  {
   "cell_type": "markdown",
   "metadata": {},
   "source": [
    "# Transformers"
   ]
  },
  {
   "cell_type": "code",
   "execution_count": null,
   "metadata": {},
   "outputs": [],
   "source": []
>>>>>>> 846e6051f1444a6e079d14d62446b41eae1460ec
  }
 ],
 "metadata": {
  "kernelspec": {
   "display_name": ".venv",
   "language": "python",
   "name": "python3"
  },
  "language_info": {
   "codemirror_mode": {
    "name": "ipython",
    "version": 3
   },
   "file_extension": ".py",
   "mimetype": "text/x-python",
   "name": "python",
   "nbconvert_exporter": "python",
   "pygments_lexer": "ipython3",
   "version": "3.11.0"
  }
 },
 "nbformat": 4,
 "nbformat_minor": 2
}
