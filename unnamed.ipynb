{
 "cells": [
  {
   "cell_type": "markdown",
   "metadata": {},
   "source": [
    "## References"
   ]
  },
  {
   "cell_type": "markdown",
   "metadata": {},
   "source": [
    "Data Augmentation, MLP: https://www.kaggle.com/code/mahfujhossain/ecg-imbalanced-dataset-mlp\n",
    "\n",
    "Data Augmentation, CNN + LSTM: https://www.kaggle.com/code/behrouzmirabdi/ecg-classification-cnn-lstm-acc-98#Data-Preprocessing\n",
    "\n",
    "Data Augmentation, CNN + GRU: https://www.kaggle.com/code/arefandishgar/ecg-multi-classification-using-cnn-and-gru#Data-visualization\n",
    "\n",
    "Data Augmentation: https://www.kaggle.com/code/polomarco/1d-gan-for-ecg-synthesis\n",
    "\n",
    "CNN LSTM Attention: https://www.kaggle.com/code/polomarco/ecg-classification-cnn-lstm-attention-mechanism/notebook"
   ]
  },
  {
   "cell_type": "code",
   "execution_count": null,
   "metadata": {},
   "outputs": [],
   "source": [
    "# TODO\n",
    "# IMPORTANT: Data Augmentation - create a more balanced dataset (CTGAN, SMOTE)\n",
    "# Early stopping, ReduceLROnPlateau\n",
    "\n",
    "# Combining CNN and GRU"
   ]
  }
 ],
 "metadata": {
  "kernelspec": {
   "display_name": "venv",
   "language": "python",
   "name": "python3"
  },
  "language_info": {
   "name": "python",
   "version": "3.12.7"
  }
 },
 "nbformat": 4,
 "nbformat_minor": 2
}
