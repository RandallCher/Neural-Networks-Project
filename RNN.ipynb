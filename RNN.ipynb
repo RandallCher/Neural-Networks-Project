{
 "cells": [
  {
   "cell_type": "markdown",
   "metadata": {},
   "source": [
    "https://www.kaggle.com/code/ahmedashrafhelmi/ecg-classification-rnn-gru-lstm"
   ]
  },
  {
   "cell_type": "code",
   "execution_count": 1,
   "metadata": {},
   "outputs": [
    {
     "name": "stdout",
     "output_type": "stream",
     "text": [
      "PyTorch version: 2.5.1+cpu\n",
      "CUDA available: False\n",
      "No CUDA devices found.\n"
     ]
    }
   ],
   "source": [
    "import torch\n",
    "print(\"PyTorch version:\", torch.__version__)\n",
    "\n",
    "# Check if CUDA is available\n",
    "print(\"CUDA available:\", torch.cuda.is_available())\n",
    "\n",
    "# Get current CUDA device index (if available)\n",
    "if torch.cuda.is_available():\n",
    "    print(\"Current CUDA device index:\", torch.cuda.current_device())\n",
    "    print(\"CUDA device name:\", torch.cuda.get_device_name(torch.cuda.current_device()))\n",
    "else:\n",
    "    print(\"No CUDA devices found.\")"
   ]
  },
  {
   "cell_type": "code",
   "execution_count": 2,
   "metadata": {},
   "outputs": [],
   "source": [
    "import pandas as pd\n",
    "import numpy as np\n",
    "from torch import nn, optim\n",
    "from sklearn.model_selection import train_test_split\n",
    "from sklearn.preprocessing import LabelEncoder\n",
    "\n",
    "import os\n",
    "dataframes = {}\n",
    "# directory_path = 'Arrhythmia_Dataset'\n",
    "directory_path = 'Heartbeat_Dataset'\n",
    "all_files = os.listdir(directory_path)\n",
    "\n",
    "for file in os.listdir(directory_path):\n",
    "    if file.endswith('.csv'):\n",
    "        file_path = os.path.join(directory_path, file)\n",
    "        # Remove the .csv extension for the DataFrame name\n",
    "        df_name = os.path.splitext(file)[0]\n",
    "        dataframes[df_name] = pd.read_csv(file_path)\n"
   ]
  },
  {
   "cell_type": "code",
   "execution_count": 3,
   "metadata": {},
   "outputs": [
    {
     "name": "stdout",
     "output_type": "stream",
     "text": [
      "dict_keys(['mitbih_test', 'mitbih_train', 'ptbdb_abnormal', 'ptbdb_normal'])\n"
     ]
    }
   ],
   "source": [
    "print(dataframes.keys())"
   ]
  },
  {
   "cell_type": "markdown",
   "metadata": {},
   "source": [
    "## Exploratory Data Analysis"
   ]
  },
  {
   "cell_type": "code",
   "execution_count": 4,
   "metadata": {},
   "outputs": [],
   "source": [
    "# df = dataframes['MIT-BIH Arrhythmia Database']\n",
    "\n",
    "# Retrieve train and test datasets\n",
    "train_df = dataframes['mitbih_train']\n",
    "test_df = dataframes['mitbih_test']"
   ]
  },
  {
   "cell_type": "code",
   "execution_count": 5,
   "metadata": {},
   "outputs": [
    {
     "data": {
      "text/html": [
       "<div>\n",
       "<style scoped>\n",
       "    .dataframe tbody tr th:only-of-type {\n",
       "        vertical-align: middle;\n",
       "    }\n",
       "\n",
       "    .dataframe tbody tr th {\n",
       "        vertical-align: top;\n",
       "    }\n",
       "\n",
       "    .dataframe thead th {\n",
       "        text-align: right;\n",
       "    }\n",
       "</style>\n",
       "<table border=\"1\" class=\"dataframe\">\n",
       "  <thead>\n",
       "    <tr style=\"text-align: right;\">\n",
       "      <th></th>\n",
       "      <th>9.779411554336547852e-01</th>\n",
       "      <th>9.264705777168273926e-01</th>\n",
       "      <th>6.813725233078002930e-01</th>\n",
       "      <th>2.450980395078659058e-01</th>\n",
       "      <th>1.544117629528045654e-01</th>\n",
       "      <th>1.911764740943908691e-01</th>\n",
       "      <th>1.519607901573181152e-01</th>\n",
       "      <th>8.578431606292724609e-02</th>\n",
       "      <th>5.882352963089942932e-02</th>\n",
       "      <th>4.901960864663124084e-02</th>\n",
       "      <th>...</th>\n",
       "      <th>0.000000000000000000e+00.79</th>\n",
       "      <th>0.000000000000000000e+00.80</th>\n",
       "      <th>0.000000000000000000e+00.81</th>\n",
       "      <th>0.000000000000000000e+00.82</th>\n",
       "      <th>0.000000000000000000e+00.83</th>\n",
       "      <th>0.000000000000000000e+00.84</th>\n",
       "      <th>0.000000000000000000e+00.85</th>\n",
       "      <th>0.000000000000000000e+00.86</th>\n",
       "      <th>0.000000000000000000e+00.87</th>\n",
       "      <th>0.000000000000000000e+00.88</th>\n",
       "    </tr>\n",
       "  </thead>\n",
       "  <tbody>\n",
       "    <tr>\n",
       "      <th>0</th>\n",
       "      <td>0.960114</td>\n",
       "      <td>0.863248</td>\n",
       "      <td>0.461538</td>\n",
       "      <td>0.196581</td>\n",
       "      <td>0.094017</td>\n",
       "      <td>0.125356</td>\n",
       "      <td>0.099715</td>\n",
       "      <td>0.088319</td>\n",
       "      <td>0.074074</td>\n",
       "      <td>0.082621</td>\n",
       "      <td>...</td>\n",
       "      <td>0.0</td>\n",
       "      <td>0.0</td>\n",
       "      <td>0.0</td>\n",
       "      <td>0.0</td>\n",
       "      <td>0.0</td>\n",
       "      <td>0.0</td>\n",
       "      <td>0.0</td>\n",
       "      <td>0.0</td>\n",
       "      <td>0.0</td>\n",
       "      <td>0.0</td>\n",
       "    </tr>\n",
       "    <tr>\n",
       "      <th>1</th>\n",
       "      <td>1.000000</td>\n",
       "      <td>0.659459</td>\n",
       "      <td>0.186486</td>\n",
       "      <td>0.070270</td>\n",
       "      <td>0.070270</td>\n",
       "      <td>0.059459</td>\n",
       "      <td>0.056757</td>\n",
       "      <td>0.043243</td>\n",
       "      <td>0.054054</td>\n",
       "      <td>0.045946</td>\n",
       "      <td>...</td>\n",
       "      <td>0.0</td>\n",
       "      <td>0.0</td>\n",
       "      <td>0.0</td>\n",
       "      <td>0.0</td>\n",
       "      <td>0.0</td>\n",
       "      <td>0.0</td>\n",
       "      <td>0.0</td>\n",
       "      <td>0.0</td>\n",
       "      <td>0.0</td>\n",
       "      <td>0.0</td>\n",
       "    </tr>\n",
       "    <tr>\n",
       "      <th>2</th>\n",
       "      <td>0.925414</td>\n",
       "      <td>0.665746</td>\n",
       "      <td>0.541436</td>\n",
       "      <td>0.276243</td>\n",
       "      <td>0.196133</td>\n",
       "      <td>0.077348</td>\n",
       "      <td>0.071823</td>\n",
       "      <td>0.060773</td>\n",
       "      <td>0.066298</td>\n",
       "      <td>0.058011</td>\n",
       "      <td>...</td>\n",
       "      <td>0.0</td>\n",
       "      <td>0.0</td>\n",
       "      <td>0.0</td>\n",
       "      <td>0.0</td>\n",
       "      <td>0.0</td>\n",
       "      <td>0.0</td>\n",
       "      <td>0.0</td>\n",
       "      <td>0.0</td>\n",
       "      <td>0.0</td>\n",
       "      <td>0.0</td>\n",
       "    </tr>\n",
       "    <tr>\n",
       "      <th>3</th>\n",
       "      <td>0.967136</td>\n",
       "      <td>1.000000</td>\n",
       "      <td>0.830986</td>\n",
       "      <td>0.586854</td>\n",
       "      <td>0.356808</td>\n",
       "      <td>0.248826</td>\n",
       "      <td>0.145540</td>\n",
       "      <td>0.089202</td>\n",
       "      <td>0.117371</td>\n",
       "      <td>0.150235</td>\n",
       "      <td>...</td>\n",
       "      <td>0.0</td>\n",
       "      <td>0.0</td>\n",
       "      <td>0.0</td>\n",
       "      <td>0.0</td>\n",
       "      <td>0.0</td>\n",
       "      <td>0.0</td>\n",
       "      <td>0.0</td>\n",
       "      <td>0.0</td>\n",
       "      <td>0.0</td>\n",
       "      <td>0.0</td>\n",
       "    </tr>\n",
       "    <tr>\n",
       "      <th>4</th>\n",
       "      <td>0.927461</td>\n",
       "      <td>1.000000</td>\n",
       "      <td>0.626943</td>\n",
       "      <td>0.193437</td>\n",
       "      <td>0.094991</td>\n",
       "      <td>0.072539</td>\n",
       "      <td>0.043178</td>\n",
       "      <td>0.053541</td>\n",
       "      <td>0.093264</td>\n",
       "      <td>0.189983</td>\n",
       "      <td>...</td>\n",
       "      <td>0.0</td>\n",
       "      <td>0.0</td>\n",
       "      <td>0.0</td>\n",
       "      <td>0.0</td>\n",
       "      <td>0.0</td>\n",
       "      <td>0.0</td>\n",
       "      <td>0.0</td>\n",
       "      <td>0.0</td>\n",
       "      <td>0.0</td>\n",
       "      <td>0.0</td>\n",
       "    </tr>\n",
       "  </tbody>\n",
       "</table>\n",
       "<p>5 rows × 188 columns</p>\n",
       "</div>"
      ],
      "text/plain": [
       "   9.779411554336547852e-01  9.264705777168273926e-01  \\\n",
       "0                  0.960114                  0.863248   \n",
       "1                  1.000000                  0.659459   \n",
       "2                  0.925414                  0.665746   \n",
       "3                  0.967136                  1.000000   \n",
       "4                  0.927461                  1.000000   \n",
       "\n",
       "   6.813725233078002930e-01  2.450980395078659058e-01  \\\n",
       "0                  0.461538                  0.196581   \n",
       "1                  0.186486                  0.070270   \n",
       "2                  0.541436                  0.276243   \n",
       "3                  0.830986                  0.586854   \n",
       "4                  0.626943                  0.193437   \n",
       "\n",
       "   1.544117629528045654e-01  1.911764740943908691e-01  \\\n",
       "0                  0.094017                  0.125356   \n",
       "1                  0.070270                  0.059459   \n",
       "2                  0.196133                  0.077348   \n",
       "3                  0.356808                  0.248826   \n",
       "4                  0.094991                  0.072539   \n",
       "\n",
       "   1.519607901573181152e-01  8.578431606292724609e-02  \\\n",
       "0                  0.099715                  0.088319   \n",
       "1                  0.056757                  0.043243   \n",
       "2                  0.071823                  0.060773   \n",
       "3                  0.145540                  0.089202   \n",
       "4                  0.043178                  0.053541   \n",
       "\n",
       "   5.882352963089942932e-02  4.901960864663124084e-02  ...  \\\n",
       "0                  0.074074                  0.082621  ...   \n",
       "1                  0.054054                  0.045946  ...   \n",
       "2                  0.066298                  0.058011  ...   \n",
       "3                  0.117371                  0.150235  ...   \n",
       "4                  0.093264                  0.189983  ...   \n",
       "\n",
       "   0.000000000000000000e+00.79  0.000000000000000000e+00.80  \\\n",
       "0                          0.0                          0.0   \n",
       "1                          0.0                          0.0   \n",
       "2                          0.0                          0.0   \n",
       "3                          0.0                          0.0   \n",
       "4                          0.0                          0.0   \n",
       "\n",
       "   0.000000000000000000e+00.81  0.000000000000000000e+00.82  \\\n",
       "0                          0.0                          0.0   \n",
       "1                          0.0                          0.0   \n",
       "2                          0.0                          0.0   \n",
       "3                          0.0                          0.0   \n",
       "4                          0.0                          0.0   \n",
       "\n",
       "   0.000000000000000000e+00.83  0.000000000000000000e+00.84  \\\n",
       "0                          0.0                          0.0   \n",
       "1                          0.0                          0.0   \n",
       "2                          0.0                          0.0   \n",
       "3                          0.0                          0.0   \n",
       "4                          0.0                          0.0   \n",
       "\n",
       "   0.000000000000000000e+00.85  0.000000000000000000e+00.86  \\\n",
       "0                          0.0                          0.0   \n",
       "1                          0.0                          0.0   \n",
       "2                          0.0                          0.0   \n",
       "3                          0.0                          0.0   \n",
       "4                          0.0                          0.0   \n",
       "\n",
       "   0.000000000000000000e+00.87  0.000000000000000000e+00.88  \n",
       "0                          0.0                          0.0  \n",
       "1                          0.0                          0.0  \n",
       "2                          0.0                          0.0  \n",
       "3                          0.0                          0.0  \n",
       "4                          0.0                          0.0  \n",
       "\n",
       "[5 rows x 188 columns]"
      ]
     },
     "execution_count": 5,
     "metadata": {},
     "output_type": "execute_result"
    }
   ],
   "source": [
    "# Preview of train dataset\n",
    "train_df.head()"
   ]
  },
  {
   "cell_type": "code",
   "execution_count": 6,
   "metadata": {},
   "outputs": [
    {
     "name": "stdout",
     "output_type": "stream",
     "text": [
      "Number of samples in train data: 87553, test data: 21891\n",
      "\n",
      "Train dataset class distribution\n",
      "0.000000000000000000e+00.88\n",
      "0.0    72470\n",
      "4.0     6431\n",
      "2.0     5788\n",
      "1.0     2223\n",
      "3.0      641\n",
      "Name: count, dtype: int64\n",
      "\n",
      "Test dataset class distribution\n",
      "0.000000000000000000e+00.65\n",
      "0.0    18117\n",
      "4.0     1608\n",
      "2.0     1448\n",
      "1.0      556\n",
      "3.0      162\n",
      "Name: count, dtype: int64\n"
     ]
    }
   ],
   "source": [
    "# Check number of samples in datasets\n",
    "print(f\"Number of samples in train data: {train_df.shape[0]}, test data: {test_df.shape[0]}\\n\")\n",
    "\n",
    "# Check distribution of classes in test and train sets\n",
    "print(\"Train dataset class distribution\")\n",
    "print(train_df.iloc[:, -1].value_counts())\n",
    "print(\"\\nTest dataset class distribution\")\n",
    "print(test_df.iloc[:, -1].value_counts())"
   ]
  },
  {
   "cell_type": "code",
   "execution_count": 7,
   "metadata": {},
   "outputs": [],
   "source": [
    "# Labels for numbered categories\n",
    "labels = {\n",
    "    0: \"N\",\n",
    "    1: \"S\",\n",
    "    2: \"V\",\n",
    "    3: \"F\",\n",
    "    4: \"Q\"\n",
    "}"
   ]
  },
  {
   "cell_type": "code",
   "execution_count": 8,
   "metadata": {},
   "outputs": [],
   "source": [
    "# Missing/Duplicate values"
   ]
  },
  {
   "cell_type": "code",
   "execution_count": 9,
   "metadata": {},
   "outputs": [
    {
     "name": "stderr",
     "output_type": "stream",
     "text": [
      "C:\\Users\\limqi\\AppData\\Local\\Temp\\ipykernel_5696\\3740686426.py:11: FutureWarning: Series.__getitem__ treating keys as positions is deprecated. In a future version, integer keys will always be treated as labels (consistent with DataFrame behavior). To access a value by position, use `ser.iloc[pos]`\n",
      "  ax.annotate(f'{train_counts[i]}',\n"
     ]
    },
    {
     "data": {
      "image/png": "[encoded data removed]",
      "text/plain": [
       "<Figure size 800x600 with 1 Axes>"
      ]
     },
     "metadata": {},
     "output_type": "display_data"
    }
   ],
   "source": [
    "import seaborn as sb\n",
    "import matplotlib.pyplot as plt\n",
    "\n",
    "train_counts = train_df.iloc[:,-1].value_counts().rename(labels)\n",
    "\n",
    "plt.figure(figsize=(8, 6))\n",
    "ax = sb.barplot(x=train_counts.index, y=train_counts.values)\n",
    "\n",
    "# Annotate each bar with the count\n",
    "for i, p in enumerate(ax.patches):\n",
    "    ax.annotate(f'{train_counts[i]}', \n",
    "                (p.get_x() + p.get_width() / 2., p.get_height()), \n",
    "                ha='center', va='bottom', \n",
    "                fontsize=10)\n",
    "\n",
    "plt.title('Number of images per class in train data')\n",
    "plt.xlabel('Classes')\n",
    "plt.ylabel('Number of samples')\n",
    "plt.show()"
   ]
  },
  {
   "cell_type": "code",
   "execution_count": 10,
   "metadata": {},
   "outputs": [
    {
     "name": "stderr",
     "output_type": "stream",
     "text": [
      "C:\\Users\\limqi\\AppData\\Local\\Temp\\ipykernel_5696\\578734644.py:8: FutureWarning: Series.__getitem__ treating keys as positions is deprecated. In a future version, integer keys will always be treated as labels (consistent with DataFrame behavior). To access a value by position, use `ser.iloc[pos]`\n",
      "  ax.annotate(f'{test_counts[i]}',\n"
     ]
    },
    {
     "data": {
      "image/png": "[encoded data removed]",
      "text/plain": [
       "<Figure size 800x600 with 1 Axes>"
      ]
     },
     "metadata": {},
     "output_type": "display_data"
    }
   ],
   "source": [
    "test_counts = test_df.iloc[:,-1].value_counts().rename(labels)\n",
    "\n",
    "plt.figure(figsize=(8, 6))\n",
    "ax = sb.barplot(x=test_counts.index, y=test_counts.values)\n",
    "\n",
    "# Annotate each bar with the count\n",
    "for i, p in enumerate(ax.patches):\n",
    "    ax.annotate(f'{test_counts[i]}', \n",
    "                (p.get_x() + p.get_width() / 2., p.get_height()), \n",
    "                ha='center', va='bottom', \n",
    "                fontsize=10)\n",
    "\n",
    "plt.title('Number of images per class in test data')\n",
    "plt.xlabel('Classes')\n",
    "plt.ylabel('Number of samples')\n",
    "plt.show()"
   ]
  },
  {
   "cell_type": "markdown",
   "metadata": {},
   "source": [
    "## Preprocess dataset"
   ]
  },
  {
   "cell_type": "code",
   "execution_count": 32,
   "metadata": {},
   "outputs": [
    {
     "name": "stdout",
     "output_type": "stream",
     "text": [
      "New Training set: (70042, 187)\n",
      "Validation set: (17511, 187)\n",
      "Test set: (21891, 187)\n"
     ]
    }
   ],
   "source": [
    "from sklearn.preprocessing import MinMaxScaler\n",
    "from sklearn.model_selection import train_test_split\n",
    "\n",
    "# Separate features and labels\n",
    "X_train = train_df.iloc[:, :-1].values  # Exclude label\n",
    "y_train = train_df.iloc[:, -1].values   # Labels\n",
    "\n",
    "X_test = test_df.iloc[:, :-1].values\n",
    "y_test = test_df.iloc[:, -1].values\n",
    "\n",
    "# Scaling the dataset\n",
    "scaler = MinMaxScaler()\n",
    "X_train_scaled = scaler.fit_transform(X_train)\n",
    "X_test_scaled = scaler.transform(X_test)\n",
    "\n",
    "# Split the training data to obtain new train and validation sets\n",
    "# Stratifying the split so both train and validation sets have same class distribution\n",
    "X_train_new, X_val, y_train_new, y_val = train_test_split(X_train_scaled, y_train, test_size=0.2, random_state=42, stratify=y_train)\n",
    "\n",
    "print(f\"New Training set: {X_train_new.shape}\")\n",
    "print(f\"Validation set: {X_val.shape}\")\n",
    "print(f\"Test set: {X_test_scaled.shape}\")"
   ]
  },
  {
   "cell_type": "code",
   "execution_count": 34,
   "metadata": {},
   "outputs": [
    {
     "name": "stdout",
     "output_type": "stream",
     "text": [
      "New Training set size: (70042, 187, 1)\n",
      "Validation set size: (17511, 187, 1)\n",
      "Test set size: (21891, 187, 1)\n"
     ]
    }
   ],
   "source": [
    "# Reshape the data for RNN/LSTM/GRU (samples, timesteps, features), one feature per timestep\n",
    "X_train_new = np.reshape(X_train_new, (X_train_new.shape[0], X_train_new.shape[1], 1))\n",
    "X_val = np.reshape(X_val, (X_val.shape[0], X_val.shape[1], 1))\n",
    "X_test_scaled = np.reshape(X_test_scaled, (X_test.shape[0], X_test.shape[1], 1))\n",
    "\n",
    "\n",
    "print(f\"New Training set size: {X_train_new.shape}\")\n",
    "print(f\"Validation set size: {X_val.shape}\")\n",
    "print(f\"Test set size: {X_test_scaled.shape}\")"
   ]
  },
  {
   "cell_type": "markdown",
   "metadata": {},
   "source": [
    "## RNN Model"
   ]
  },
  {
   "cell_type": "code",
   "execution_count": 12,
   "metadata": {},
   "outputs": [],
   "source": [
    "class RNNModel(nn.Module):\n",
    "    def __init__(self, inputSize, hiddenSize, numClasses):\n",
    "        super(RNNModel, self).__init__()\n",
    "        self.rnn = nn.RNN(\n",
    "            input_size = inputSize,\n",
    "            hidden_size = hiddenSize,\n",
    "            num_layers = 1,\n",
    "            batch_first = True,\n",
    "            dropout = 0.2\n",
    "        )\n",
    "\n",
    "        self.fc = nn.Linear(hiddenSize, numClasses)\n",
    "        return\n",
    "\n",
    "    def forward(self, x):\n",
    "        # Forward pass through RNN layers\n",
    "        out, _ = self.rnn(x)\n",
    "\n",
    "        # Use output from last timestep\n",
    "        out = out[:, -1, :]\n",
    "\n",
    "        # Pass output to fully connected layer\n",
    "        out = self.fc(out)\n",
    "\n",
    "        return out"
   ]
  },
  {
   "cell_type": "code",
   "execution_count": 35,
   "metadata": {},
   "outputs": [
    {
     "name": "stderr",
     "output_type": "stream",
     "text": [
      "c:\\Users\\limqi\\Desktop\\Neural-Networks-Project\\venv\\Lib\\site-packages\\torch\\nn\\modules\\rnn.py:123: UserWarning: dropout option adds dropout after all but last recurrent layer, so non-zero dropout expects num_layers greater than 1, but got dropout=0.2 and num_layers=1\n",
      "  warnings.warn(\n"
     ]
    }
   ],
   "source": [
    "# Variables\n",
    "inputSize = 1\n",
    "hiddenSize = 64\n",
    "numClasses = 5\n",
    "learningRate = 0.001\n",
    "numEpochs = 10\n",
    "\n",
    "# Instantiate model\n",
    "rnn_model = RNNModel(inputSize, hiddenSize, numClasses)\n",
    "optimizer = optim.Adam(rnn_model.parameters(), lr=learningRate)\n",
    "\n",
    "# Loss function\n",
    "criterion = nn.CrossEntropyLoss()"
   ]
  },
  {
   "cell_type": "code",
   "execution_count": 36,
   "metadata": {},
   "outputs": [],
   "source": [
    "# Prepare datasets in batches\n",
    "from torch.utils.data import DataLoader, TensorDataset\n",
    "\n",
    "# Define batch size\n",
    "batch_size = 32\n",
    "\n",
    "# Create DataLoader for training and validation sets\n",
    "train_dataset = TensorDataset(torch.as_tensor(X_train, dtype=torch.float), torch.as_tensor(y_train, dtype=torch.float))\n",
    "val_dataset = TensorDataset(torch.as_tensor(X_val, dtype=torch.float), torch.as_tensor(y_val, dtype=torch.float))\n",
    "\n",
    "train_loader = DataLoader(train_dataset, batch_size=batch_size, shuffle=True)\n",
    "val_loader = DataLoader(val_dataset, batch_size=batch_size)"
   ]
  },
  {
   "cell_type": "code",
   "execution_count": 37,
   "metadata": {},
   "outputs": [],
   "source": [
    "# Move model to GPU if available\n",
    "device = torch.device(\"cuda\" if torch.cuda.is_available() else \"cpu\")\n",
    "rnn_model = rnn_model.to(device)"
   ]
  },
  {
   "cell_type": "code",
   "execution_count": null,
   "metadata": {},
   "outputs": [
    {
     "name": "stdout",
     "output_type": "stream",
     "text": [
      "Output torch.Size([32, 5]), y_batch torch.Size([32])\n"
     ]
    },
    {
     "ename": "NameError",
     "evalue": "name 'correct' is not defined",
     "output_type": "error",
     "traceback": [
      "\u001b[1;31m---------------------------------------------------------------------------\u001b[0m",
      "\u001b[1;31mNameError\u001b[0m                                 Traceback (most recent call last)",
      "Cell \u001b[1;32mIn[41], line 23\u001b[0m\n\u001b[0;32m     21\u001b[0m     \u001b[38;5;66;03m# Get predictions\u001b[39;00m\n\u001b[0;32m     22\u001b[0m     _, predicted \u001b[38;5;241m=\u001b[39m torch\u001b[38;5;241m.\u001b[39mmax(outputs, \u001b[38;5;241m1\u001b[39m)\n\u001b[1;32m---> 23\u001b[0m     \u001b[43mcorrect\u001b[49m \u001b[38;5;241m+\u001b[39m\u001b[38;5;241m=\u001b[39m (predicted \u001b[38;5;241m==\u001b[39m y_batch)\u001b[38;5;241m.\u001b[39msum()\u001b[38;5;241m.\u001b[39mitem()\n\u001b[0;32m     25\u001b[0m     train_loss \u001b[38;5;241m+\u001b[39m\u001b[38;5;241m=\u001b[39m loss\u001b[38;5;241m.\u001b[39mitem() \u001b[38;5;241m*\u001b[39m X_batch\u001b[38;5;241m.\u001b[39msize(\u001b[38;5;241m0\u001b[39m)  \u001b[38;5;66;03m# Accumulate loss\u001b[39;00m\n\u001b[0;32m     27\u001b[0m \u001b[38;5;66;03m# Calculate average training loss\u001b[39;00m\n",
      "\u001b[1;31mNameError\u001b[0m: name 'correct' is not defined"
     ]
    }
   ],
   "source": [
    "train_losses, train_accuracies = [], []\n",
    "val_losses, val_accuracies = [], []\n",
    "for epoch in range(numEpochs):\n",
    "    rnn_model.train()  # Set the model to training mode\n",
    "    train_loss = 0\n",
    "    train_correct = 0\n",
    "    \n",
    "    for X_batch, y_batch in train_loader:\n",
    "        X_batch, y_batch = X_batch.to(device), y_batch.to(device)  # Move data to device\n",
    "        X_batch = X_batch.unsqueeze(-1) # Dataloader collapses last dimension of 1\n",
    "        \n",
    "        # Forward pass\n",
    "        outputs = rnn_model(X_batch)\n",
    "        # print(f'Output {outputs.shape}, y_batch {y_batch.shape}')\n",
    "        loss = criterion(outputs, y_batch.long())\n",
    "        \n",
    "        # Backward pass and optimization\n",
    "        optimizer.zero_grad()  # Clear gradients\n",
    "        loss.backward()        # Backpropagation\n",
    "        optimizer.step()       # Update weights\n",
    "\n",
    "        # Get predictions\n",
    "        _, predicted = torch.max(outputs, 1)\n",
    "        train_correct += (predicted == y_batch).sum().item()\n",
    "        \n",
    "        train_loss += loss.item() * X_batch.size(0)  # Accumulate loss\n",
    "    \n",
    "    # Calculate average training loss\n",
    "    train_loss /= len(train_loader.dataset)\n",
    "    train_accuracy = correct / len(train_loader.dataset)\n",
    "\n",
    "    train_losses.append(train_loss)\n",
    "    train_accuracies.append(train_accuracy)\n",
    "    \n",
    "    # Validation\n",
    "    rnn_model.eval()  # Set the model to evaluation mode\n",
    "    val_loss = 0\n",
    "    correct = 0\n",
    "    \n",
    "    with torch.no_grad():  # No need to calculate gradients for validation\n",
    "        for X_batch, y_batch in val_loader:\n",
    "            X_batch, y_batch = X_batch.to(device), y_batch.to(device)\n",
    "            X_batch = X_batch.unsqueeze(-1) # Dataloader collapses last dimension of 1\n",
    "            outputs = rnn_model(X_batch)\n",
    "            loss = criterion(outputs, y_batch.long())\n",
    "            val_loss += loss.item() * X_batch.size(0)\n",
    "            \n",
    "            # Get predictions\n",
    "            _, predicted = torch.max(outputs, 1)\n",
    "            correct += (predicted == y_batch).sum().item()\n",
    "    \n",
    "    # Calculate average validation loss and accuracy\n",
    "    val_loss /= len(val_loader.dataset)\n",
    "    val_accuracy = correct / len(val_loader.dataset)\n",
    "\n",
    "    val_losses.append(val_loss)\n",
    "    val_accuracies.append(val_accuracy)\n",
    "    \n",
    "    # Print epoch results\n",
    "    print(f'Epoch [{epoch + 1}/{numEpochs}], '\n",
    "        f'Train Loss: {train_loss:.4f}, '\n",
    "        f'Train Accuracy: {train_accuracy:.4f}, '\n",
    "        f'Val Loss: {val_loss:.4f}, '\n",
    "        f'Val Accuracy: {val_accuracy * 100:.2f}%')"
   ]
  },
  {
   "cell_type": "code",
   "execution_count": null,
   "metadata": {},
   "outputs": [],
   "source": [
    "PATH = \"./model/rnn_model.pth\"\n",
    "# Save trained model\n",
    "torch.save(rnn_model.state_dict(), PATH)"
   ]
  },
  {
   "cell_type": "code",
   "execution_count": null,
   "metadata": {},
   "outputs": [],
   "source": [
    "plt.figure()\n",
    "plt.plot(np.arange(numEpochs), train_accuracies, label='Training Accuracy')\n",
    "plt.plot(np.arange(numEpochs), val_accuracies, label='TValidation Accuracy')\n",
    "plt.xlabel('Epochs')\n",
    "plt.ylabel('Accuracy')\n",
    "plt.title('Training and Validation Accuracy over Epochs')\n",
    "plt.legend(loc='lower right')\n",
    "plt.show()"
   ]
  }
 ],
 "metadata": {
  "kernelspec": {
   "display_name": "venv",
   "language": "python",
   "name": "python3"
  },
  "language_info": {
   "codemirror_mode": {
    "name": "ipython",
    "version": 3
   },
   "file_extension": ".py",
   "mimetype": "text/x-python",
   "name": "python",
   "nbconvert_exporter": "python",
   "pygments_lexer": "ipython3",
   "version": "3.11.0"
  }
 },
 "nbformat": 4,
 "nbformat_minor": 2
}
